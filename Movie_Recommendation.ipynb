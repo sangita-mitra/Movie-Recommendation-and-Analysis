{
  "nbformat": 4,
  "nbformat_minor": 0,
  "metadata": {
    "kernelspec": {
      "display_name": "Python 3",
      "language": "python",
      "name": "python3"
    },
    "language_info": {
      "codemirror_mode": {
        "name": "ipython",
        "version": 3
      },
      "file_extension": ".py",
      "mimetype": "text/x-python",
      "name": "python",
      "nbconvert_exporter": "python",
      "pygments_lexer": "ipython3",
      "version": "3.6.8"
    },
    "colab": {
      "name": "Movie Recommendation.ipynb",
      "provenance": [],
      "collapsed_sections": [],
      "include_colab_link": true
    },
    "widgets": {
      "application/vnd.jupyter.widget-state+json": {
        "b6959c256d4f462cacc4ec1298ace3a8": {
          "model_module": "@jupyter-widgets/controls",
          "model_name": "VBoxModel",
          "state": {
            "_view_name": "VBoxView",
            "_dom_classes": [
              "widget-interact"
            ],
            "_model_name": "VBoxModel",
            "_view_module": "@jupyter-widgets/controls",
            "_model_module_version": "1.5.0",
            "_view_count": null,
            "_view_module_version": "1.5.0",
            "box_style": "",
            "layout": "IPY_MODEL_a44fb77fe6b840b2b1651b9741f92e8f",
            "_model_module": "@jupyter-widgets/controls",
            "children": [
              "IPY_MODEL_a6085822b5774fa68e403648504d879a",
              "IPY_MODEL_d839385401f64d368ec0bb7c7d6c124a",
              "IPY_MODEL_958e2c6584ce4623bd9f2bfd7ab62949"
            ]
          }
        },
        "a44fb77fe6b840b2b1651b9741f92e8f": {
          "model_module": "@jupyter-widgets/base",
          "model_name": "LayoutModel",
          "state": {
            "_view_name": "LayoutView",
            "grid_template_rows": null,
            "right": null,
            "justify_content": null,
            "_view_module": "@jupyter-widgets/base",
            "overflow": null,
            "_model_module_version": "1.2.0",
            "_view_count": null,
            "flex_flow": null,
            "width": null,
            "min_width": null,
            "border": null,
            "align_items": null,
            "bottom": null,
            "_model_module": "@jupyter-widgets/base",
            "top": null,
            "grid_column": null,
            "overflow_y": null,
            "overflow_x": null,
            "grid_auto_flow": null,
            "grid_area": null,
            "grid_template_columns": null,
            "flex": null,
            "_model_name": "LayoutModel",
            "justify_items": null,
            "grid_row": null,
            "max_height": null,
            "align_content": null,
            "visibility": null,
            "align_self": null,
            "height": null,
            "min_height": null,
            "padding": null,
            "grid_auto_rows": null,
            "grid_gap": null,
            "max_width": null,
            "order": null,
            "_view_module_version": "1.2.0",
            "grid_template_areas": null,
            "object_position": null,
            "object_fit": null,
            "grid_auto_columns": null,
            "margin": null,
            "display": null,
            "left": null
          }
        },
        "a6085822b5774fa68e403648504d879a": {
          "model_module": "@jupyter-widgets/controls",
          "model_name": "TextModel",
          "state": {
            "_view_name": "TextView",
            "style": "IPY_MODEL_74a544d5e2c64dba88c9a3f7d74871cb",
            "_dom_classes": [],
            "description": "column",
            "_model_name": "TextModel",
            "placeholder": "​",
            "_view_module": "@jupyter-widgets/controls",
            "_model_module_version": "1.5.0",
            "value": "imdb_score",
            "_view_count": null,
            "disabled": false,
            "_view_module_version": "1.5.0",
            "continuous_update": true,
            "description_tooltip": null,
            "_model_module": "@jupyter-widgets/controls",
            "layout": "IPY_MODEL_4b02ea367b2a47b1912c5bb08c4e1bf3"
          }
        },
        "d839385401f64d368ec0bb7c7d6c124a": {
          "model_module": "@jupyter-widgets/controls",
          "model_name": "FloatSliderModel",
          "state": {
            "_view_name": "FloatSliderView",
            "style": "IPY_MODEL_207d995866ae43858bff388cc9483385",
            "_dom_classes": [],
            "description": "score",
            "step": 0.1,
            "_model_name": "FloatSliderModel",
            "orientation": "horizontal",
            "max": 27,
            "_view_module": "@jupyter-widgets/controls",
            "_model_module_version": "1.5.0",
            "value": 9,
            "_view_count": null,
            "disabled": false,
            "_view_module_version": "1.5.0",
            "min": -9,
            "continuous_update": true,
            "readout_format": ".2f",
            "description_tooltip": null,
            "readout": true,
            "_model_module": "@jupyter-widgets/controls",
            "layout": "IPY_MODEL_d476579c3d3f404dbdc7c2a95e65822e"
          }
        },
        "958e2c6584ce4623bd9f2bfd7ab62949": {
          "model_module": "@jupyter-widgets/output",
          "model_name": "OutputModel",
          "state": {
            "_view_name": "OutputView",
            "msg_id": "",
            "_dom_classes": [],
            "_model_name": "OutputModel",
            "outputs": [
              {
                "output_type": "display_data",
                "metadata": {
                  "tags": []
                },
                "text/html": "<div>\n<style scoped>\n    .dataframe tbody tr th:only-of-type {\n        vertical-align: middle;\n    }\n\n    .dataframe tbody tr th {\n        vertical-align: top;\n    }\n\n    .dataframe thead th {\n        text-align: right;\n    }\n</style>\n<table border=\"1\" class=\"dataframe\">\n  <thead>\n    <tr style=\"text-align: right;\">\n      <th></th>\n      <th>title_year</th>\n      <th>movie_title</th>\n      <th>director_name</th>\n      <th>actor_1_name</th>\n      <th>actor_2_name</th>\n      <th>actor_3_name</th>\n      <th>Profit</th>\n      <th>imdb_score</th>\n    </tr>\n  </thead>\n  <tbody>\n    <tr>\n      <th>1937</th>\n      <td>1994</td>\n      <td>The Shawshank Redemption</td>\n      <td>Frank Darabont</td>\n      <td>Morgan Freeman</td>\n      <td>Jeffrey DeMunn</td>\n      <td>Bob Gunton</td>\n      <td>3.341469</td>\n      <td>9.3</td>\n    </tr>\n    <tr>\n      <th>3466</th>\n      <td>1972</td>\n      <td>The Godfather</td>\n      <td>Francis Ford Coppola</td>\n      <td>Al Pacino</td>\n      <td>Marlon Brando</td>\n      <td>Robert Duvall</td>\n      <td>128.821952</td>\n      <td>9.2</td>\n    </tr>\n  </tbody>\n</table>\n</div>",
                "text/plain": "      title_year                movie_title  ...      Profit imdb_score\n1937        1994  The Shawshank Redemption   ...    3.341469        9.3\n3466        1972             The Godfather   ...  128.821952        9.2\n\n[2 rows x 8 columns]"
              }
            ],
            "_view_module": "@jupyter-widgets/output",
            "_model_module_version": "1.0.0",
            "_view_count": null,
            "_view_module_version": "1.0.0",
            "layout": "IPY_MODEL_244c30386e49456cb7dab4b26f04b400",
            "_model_module": "@jupyter-widgets/output"
          }
        },
        "74a544d5e2c64dba88c9a3f7d74871cb": {
          "model_module": "@jupyter-widgets/controls",
          "model_name": "DescriptionStyleModel",
          "state": {
            "_view_name": "StyleView",
            "_model_name": "DescriptionStyleModel",
            "description_width": "",
            "_view_module": "@jupyter-widgets/base",
            "_model_module_version": "1.5.0",
            "_view_count": null,
            "_view_module_version": "1.2.0",
            "_model_module": "@jupyter-widgets/controls"
          }
        },
        "4b02ea367b2a47b1912c5bb08c4e1bf3": {
          "model_module": "@jupyter-widgets/base",
          "model_name": "LayoutModel",
          "state": {
            "_view_name": "LayoutView",
            "grid_template_rows": null,
            "right": null,
            "justify_content": null,
            "_view_module": "@jupyter-widgets/base",
            "overflow": null,
            "_model_module_version": "1.2.0",
            "_view_count": null,
            "flex_flow": null,
            "width": null,
            "min_width": null,
            "border": null,
            "align_items": null,
            "bottom": null,
            "_model_module": "@jupyter-widgets/base",
            "top": null,
            "grid_column": null,
            "overflow_y": null,
            "overflow_x": null,
            "grid_auto_flow": null,
            "grid_area": null,
            "grid_template_columns": null,
            "flex": null,
            "_model_name": "LayoutModel",
            "justify_items": null,
            "grid_row": null,
            "max_height": null,
            "align_content": null,
            "visibility": null,
            "align_self": null,
            "height": null,
            "min_height": null,
            "padding": null,
            "grid_auto_rows": null,
            "grid_gap": null,
            "max_width": null,
            "order": null,
            "_view_module_version": "1.2.0",
            "grid_template_areas": null,
            "object_position": null,
            "object_fit": null,
            "grid_auto_columns": null,
            "margin": null,
            "display": null,
            "left": null
          }
        },
        "207d995866ae43858bff388cc9483385": {
          "model_module": "@jupyter-widgets/controls",
          "model_name": "SliderStyleModel",
          "state": {
            "_view_name": "StyleView",
            "handle_color": null,
            "_model_name": "SliderStyleModel",
            "description_width": "",
            "_view_module": "@jupyter-widgets/base",
            "_model_module_version": "1.5.0",
            "_view_count": null,
            "_view_module_version": "1.2.0",
            "_model_module": "@jupyter-widgets/controls"
          }
        },
        "d476579c3d3f404dbdc7c2a95e65822e": {
          "model_module": "@jupyter-widgets/base",
          "model_name": "LayoutModel",
          "state": {
            "_view_name": "LayoutView",
            "grid_template_rows": null,
            "right": null,
            "justify_content": null,
            "_view_module": "@jupyter-widgets/base",
            "overflow": null,
            "_model_module_version": "1.2.0",
            "_view_count": null,
            "flex_flow": null,
            "width": null,
            "min_width": null,
            "border": null,
            "align_items": null,
            "bottom": null,
            "_model_module": "@jupyter-widgets/base",
            "top": null,
            "grid_column": null,
            "overflow_y": null,
            "overflow_x": null,
            "grid_auto_flow": null,
            "grid_area": null,
            "grid_template_columns": null,
            "flex": null,
            "_model_name": "LayoutModel",
            "justify_items": null,
            "grid_row": null,
            "max_height": null,
            "align_content": null,
            "visibility": null,
            "align_self": null,
            "height": null,
            "min_height": null,
            "padding": null,
            "grid_auto_rows": null,
            "grid_gap": null,
            "max_width": null,
            "order": null,
            "_view_module_version": "1.2.0",
            "grid_template_areas": null,
            "object_position": null,
            "object_fit": null,
            "grid_auto_columns": null,
            "margin": null,
            "display": null,
            "left": null
          }
        },
        "244c30386e49456cb7dab4b26f04b400": {
          "model_module": "@jupyter-widgets/base",
          "model_name": "LayoutModel",
          "state": {
            "_view_name": "LayoutView",
            "grid_template_rows": null,
            "right": null,
            "justify_content": null,
            "_view_module": "@jupyter-widgets/base",
            "overflow": null,
            "_model_module_version": "1.2.0",
            "_view_count": null,
            "flex_flow": null,
            "width": null,
            "min_width": null,
            "border": null,
            "align_items": null,
            "bottom": null,
            "_model_module": "@jupyter-widgets/base",
            "top": null,
            "grid_column": null,
            "overflow_y": null,
            "overflow_x": null,
            "grid_auto_flow": null,
            "grid_area": null,
            "grid_template_columns": null,
            "flex": null,
            "_model_name": "LayoutModel",
            "justify_items": null,
            "grid_row": null,
            "max_height": null,
            "align_content": null,
            "visibility": null,
            "align_self": null,
            "height": null,
            "min_height": null,
            "padding": null,
            "grid_auto_rows": null,
            "grid_gap": null,
            "max_width": null,
            "order": null,
            "_view_module_version": "1.2.0",
            "grid_template_areas": null,
            "object_position": null,
            "object_fit": null,
            "grid_auto_columns": null,
            "margin": null,
            "display": null,
            "left": null
          }
        },
        "c7c39326987646699643c7ba4f582cf0": {
          "model_module": "@jupyter-widgets/controls",
          "model_name": "VBoxModel",
          "state": {
            "_view_name": "VBoxView",
            "_dom_classes": [
              "widget-interact"
            ],
            "_model_name": "VBoxModel",
            "_view_module": "@jupyter-widgets/controls",
            "_model_module_version": "1.5.0",
            "_view_count": null,
            "_view_module_version": "1.5.0",
            "box_style": "",
            "layout": "IPY_MODEL_7ce45a097775441e940787d233d08fbf",
            "_model_module": "@jupyter-widgets/controls",
            "children": [
              "IPY_MODEL_7713d384e9d94dd1aa7bcac28fb2837f",
              "IPY_MODEL_20fee897a2f44adb8c63a907001e5b25",
              "IPY_MODEL_71a791bde19347a6834d7a8d16ed449d"
            ]
          }
        },
        "7ce45a097775441e940787d233d08fbf": {
          "model_module": "@jupyter-widgets/base",
          "model_name": "LayoutModel",
          "state": {
            "_view_name": "LayoutView",
            "grid_template_rows": null,
            "right": null,
            "justify_content": null,
            "_view_module": "@jupyter-widgets/base",
            "overflow": null,
            "_model_module_version": "1.2.0",
            "_view_count": null,
            "flex_flow": null,
            "width": null,
            "min_width": null,
            "border": null,
            "align_items": null,
            "bottom": null,
            "_model_module": "@jupyter-widgets/base",
            "top": null,
            "grid_column": null,
            "overflow_y": null,
            "overflow_x": null,
            "grid_auto_flow": null,
            "grid_area": null,
            "grid_template_columns": null,
            "flex": null,
            "_model_name": "LayoutModel",
            "justify_items": null,
            "grid_row": null,
            "max_height": null,
            "align_content": null,
            "visibility": null,
            "align_self": null,
            "height": null,
            "min_height": null,
            "padding": null,
            "grid_auto_rows": null,
            "grid_gap": null,
            "max_width": null,
            "order": null,
            "_view_module_version": "1.2.0",
            "grid_template_areas": null,
            "object_position": null,
            "object_fit": null,
            "grid_auto_columns": null,
            "margin": null,
            "display": null,
            "left": null
          }
        },
        "7713d384e9d94dd1aa7bcac28fb2837f": {
          "model_module": "@jupyter-widgets/controls",
          "model_name": "DropdownModel",
          "state": {
            "_options_labels": [
              "budget",
              "gross"
            ],
            "_view_name": "DropdownView",
            "style": "IPY_MODEL_a10af59c27bc4b178f22cdd17a555c37",
            "_dom_classes": [],
            "description": "column",
            "_model_name": "DropdownModel",
            "index": 0,
            "_view_module": "@jupyter-widgets/controls",
            "_model_module_version": "1.5.0",
            "_view_count": null,
            "disabled": false,
            "_view_module_version": "1.5.0",
            "description_tooltip": null,
            "_model_module": "@jupyter-widgets/controls",
            "layout": "IPY_MODEL_b6b158943c484875ac5b6ba333c8a492"
          }
        },
        "20fee897a2f44adb8c63a907001e5b25": {
          "model_module": "@jupyter-widgets/controls",
          "model_name": "IntSliderModel",
          "state": {
            "_view_name": "IntSliderView",
            "style": "IPY_MODEL_e7799bad00824c7b91f2266bf5dcc965",
            "_dom_classes": [],
            "description": "x",
            "step": 1,
            "_model_name": "IntSliderModel",
            "orientation": "horizontal",
            "max": 3000,
            "_view_module": "@jupyter-widgets/controls",
            "_model_module_version": "1.5.0",
            "value": 1000,
            "_view_count": null,
            "disabled": false,
            "_view_module_version": "1.5.0",
            "min": -1000,
            "continuous_update": true,
            "readout_format": "d",
            "description_tooltip": null,
            "readout": true,
            "_model_module": "@jupyter-widgets/controls",
            "layout": "IPY_MODEL_eee27e0c432f4de7a7e76ed7037c1e69"
          }
        },
        "71a791bde19347a6834d7a8d16ed449d": {
          "model_module": "@jupyter-widgets/output",
          "model_name": "OutputModel",
          "state": {
            "_view_name": "OutputView",
            "msg_id": "",
            "_dom_classes": [],
            "_model_name": "OutputModel",
            "outputs": [
              {
                "output_type": "display_data",
                "metadata": {
                  "tags": []
                },
                "text/html": "<div>\n<style scoped>\n    .dataframe tbody tr th:only-of-type {\n        vertical-align: middle;\n    }\n\n    .dataframe tbody tr th {\n        vertical-align: top;\n    }\n\n    .dataframe thead th {\n        text-align: right;\n    }\n</style>\n<table border=\"1\" class=\"dataframe\">\n  <thead>\n    <tr style=\"text-align: right;\">\n      <th></th>\n      <th>movie_title</th>\n      <th>duration</th>\n      <th>gross</th>\n      <th>Profit</th>\n      <th>imdb_score</th>\n    </tr>\n  </thead>\n  <tbody>\n    <tr>\n      <th>2323</th>\n      <td>Princess Mononoke</td>\n      <td>Long</td>\n      <td>2.298191</td>\n      <td>-2397.701809</td>\n      <td>8.4</td>\n    </tr>\n    <tr>\n      <th>2334</th>\n      <td>Steamboy</td>\n      <td>Short</td>\n      <td>0.410388</td>\n      <td>-2127.109510</td>\n      <td>6.9</td>\n    </tr>\n    <tr>\n      <th>2988</th>\n      <td>The Host</td>\n      <td>Short</td>\n      <td>2.201412</td>\n      <td>-12213.298588</td>\n      <td>7.0</td>\n    </tr>\n    <tr>\n      <th>3005</th>\n      <td>Fateless</td>\n      <td>Long</td>\n      <td>0.195888</td>\n      <td>-2499.804112</td>\n      <td>7.1</td>\n    </tr>\n    <tr>\n      <th>3423</th>\n      <td>Akira</td>\n      <td>Long</td>\n      <td>0.439162</td>\n      <td>-1099.560838</td>\n      <td>8.1</td>\n    </tr>\n    <tr>\n      <th>3859</th>\n      <td>Lady Vengeance</td>\n      <td>Short</td>\n      <td>0.211667</td>\n      <td>-4199.788333</td>\n      <td>7.7</td>\n    </tr>\n  </tbody>\n</table>\n</div>",
                "text/plain": "             movie_title duration     gross        Profit  imdb_score\n2323  Princess Mononoke      Long  2.298191  -2397.701809         8.4\n2334           Steamboy     Short  0.410388  -2127.109510         6.9\n2988           The Host     Short  2.201412 -12213.298588         7.0\n3005           Fateless      Long  0.195888  -2499.804112         7.1\n3423              Akira      Long  0.439162  -1099.560838         8.1\n3859     Lady Vengeance     Short  0.211667  -4199.788333         7.7"
              }
            ],
            "_view_module": "@jupyter-widgets/output",
            "_model_module_version": "1.0.0",
            "_view_count": null,
            "_view_module_version": "1.0.0",
            "layout": "IPY_MODEL_0eb50957d1cd45c5889bf0431576fb45",
            "_model_module": "@jupyter-widgets/output"
          }
        },
        "a10af59c27bc4b178f22cdd17a555c37": {
          "model_module": "@jupyter-widgets/controls",
          "model_name": "DescriptionStyleModel",
          "state": {
            "_view_name": "StyleView",
            "_model_name": "DescriptionStyleModel",
            "description_width": "",
            "_view_module": "@jupyter-widgets/base",
            "_model_module_version": "1.5.0",
            "_view_count": null,
            "_view_module_version": "1.2.0",
            "_model_module": "@jupyter-widgets/controls"
          }
        },
        "b6b158943c484875ac5b6ba333c8a492": {
          "model_module": "@jupyter-widgets/base",
          "model_name": "LayoutModel",
          "state": {
            "_view_name": "LayoutView",
            "grid_template_rows": null,
            "right": null,
            "justify_content": null,
            "_view_module": "@jupyter-widgets/base",
            "overflow": null,
            "_model_module_version": "1.2.0",
            "_view_count": null,
            "flex_flow": null,
            "width": null,
            "min_width": null,
            "border": null,
            "align_items": null,
            "bottom": null,
            "_model_module": "@jupyter-widgets/base",
            "top": null,
            "grid_column": null,
            "overflow_y": null,
            "overflow_x": null,
            "grid_auto_flow": null,
            "grid_area": null,
            "grid_template_columns": null,
            "flex": null,
            "_model_name": "LayoutModel",
            "justify_items": null,
            "grid_row": null,
            "max_height": null,
            "align_content": null,
            "visibility": null,
            "align_self": null,
            "height": null,
            "min_height": null,
            "padding": null,
            "grid_auto_rows": null,
            "grid_gap": null,
            "max_width": null,
            "order": null,
            "_view_module_version": "1.2.0",
            "grid_template_areas": null,
            "object_position": null,
            "object_fit": null,
            "grid_auto_columns": null,
            "margin": null,
            "display": null,
            "left": null
          }
        },
        "e7799bad00824c7b91f2266bf5dcc965": {
          "model_module": "@jupyter-widgets/controls",
          "model_name": "SliderStyleModel",
          "state": {
            "_view_name": "StyleView",
            "handle_color": null,
            "_model_name": "SliderStyleModel",
            "description_width": "",
            "_view_module": "@jupyter-widgets/base",
            "_model_module_version": "1.5.0",
            "_view_count": null,
            "_view_module_version": "1.2.0",
            "_model_module": "@jupyter-widgets/controls"
          }
        },
        "eee27e0c432f4de7a7e76ed7037c1e69": {
          "model_module": "@jupyter-widgets/base",
          "model_name": "LayoutModel",
          "state": {
            "_view_name": "LayoutView",
            "grid_template_rows": null,
            "right": null,
            "justify_content": null,
            "_view_module": "@jupyter-widgets/base",
            "overflow": null,
            "_model_module_version": "1.2.0",
            "_view_count": null,
            "flex_flow": null,
            "width": null,
            "min_width": null,
            "border": null,
            "align_items": null,
            "bottom": null,
            "_model_module": "@jupyter-widgets/base",
            "top": null,
            "grid_column": null,
            "overflow_y": null,
            "overflow_x": null,
            "grid_auto_flow": null,
            "grid_area": null,
            "grid_template_columns": null,
            "flex": null,
            "_model_name": "LayoutModel",
            "justify_items": null,
            "grid_row": null,
            "max_height": null,
            "align_content": null,
            "visibility": null,
            "align_self": null,
            "height": null,
            "min_height": null,
            "padding": null,
            "grid_auto_rows": null,
            "grid_gap": null,
            "max_width": null,
            "order": null,
            "_view_module_version": "1.2.0",
            "grid_template_areas": null,
            "object_position": null,
            "object_fit": null,
            "grid_auto_columns": null,
            "margin": null,
            "display": null,
            "left": null
          }
        },
        "0eb50957d1cd45c5889bf0431576fb45": {
          "model_module": "@jupyter-widgets/base",
          "model_name": "LayoutModel",
          "state": {
            "_view_name": "LayoutView",
            "grid_template_rows": null,
            "right": null,
            "justify_content": null,
            "_view_module": "@jupyter-widgets/base",
            "overflow": null,
            "_model_module_version": "1.2.0",
            "_view_count": null,
            "flex_flow": null,
            "width": null,
            "min_width": null,
            "border": null,
            "align_items": null,
            "bottom": null,
            "_model_module": "@jupyter-widgets/base",
            "top": null,
            "grid_column": null,
            "overflow_y": null,
            "overflow_x": null,
            "grid_auto_flow": null,
            "grid_area": null,
            "grid_template_columns": null,
            "flex": null,
            "_model_name": "LayoutModel",
            "justify_items": null,
            "grid_row": null,
            "max_height": null,
            "align_content": null,
            "visibility": null,
            "align_self": null,
            "height": null,
            "min_height": null,
            "padding": null,
            "grid_auto_rows": null,
            "grid_gap": null,
            "max_width": null,
            "order": null,
            "_view_module_version": "1.2.0",
            "grid_template_areas": null,
            "object_position": null,
            "object_fit": null,
            "grid_auto_columns": null,
            "margin": null,
            "display": null,
            "left": null
          }
        }
      }
    }
  },
  "cells": [
    {
      "cell_type": "markdown",
      "metadata": {
        "id": "view-in-github",
        "colab_type": "text"
      },
      "source": [
        "<a href=\"https://colab.research.google.com/github/sangita-mitra/Movie-Recommendation-and-Analysis/blob/main/Movie_Recommendation.ipynb\" target=\"_parent\"><img src=\"https://colab.research.google.com/assets/colab-badge.svg\" alt=\"Open In Colab\"/></a>"
      ]
    },
    {
      "cell_type": "markdown",
      "metadata": {
        "id": "kvtxEDjCVfwD"
      },
      "source": [
        "## Problem Statement\n",
        "\n",
        "\n",
        "---\n",
        "\n",
        "\n",
        "Perform analysis on IMDB movie dataset and provide basic recommendations based on similar genres and movies which users prefer. Some key points to focus:\n",
        "\n",
        "*   Profitability of movies\n",
        "*   Social media popularity analysis\n",
        "*   Language based gross analysis\n",
        "*   Comparison of gross and profit for different genres\n",
        "*   Actor performance analysis\n",
        "*   Recommendation systems based on actors, movies, genres\n"
      ]
    },
    {
      "cell_type": "markdown",
      "metadata": {
        "id": "iHuvM91rpXzB"
      },
      "source": [
        "**Importing libraries**"
      ]
    },
    {
      "cell_type": "code",
      "metadata": {
        "scrolled": true,
        "id": "NZjeM38ITEDX"
      },
      "source": [
        "import numpy as np\n",
        "import pandas as pd\n",
        "import matplotlib.pyplot as plt\n",
        "import seaborn as sns\n",
        "\n",
        "import ipywidgets as widgets\n",
        "from ipywidgets import interact\n",
        "from ipywidgets import interact_manual\n",
        "\n",
        "from IPython.display import display\n",
        "\n",
        "plt.rcParams['figure.figsize'] = (16, 8)\n",
        "plt.style.use('fivethirtyeight')\n",
        "\n",
        "import warnings\n",
        "warnings.filterwarnings('ignore')"
      ],
      "execution_count": 166,
      "outputs": []
    },
    {
      "cell_type": "markdown",
      "metadata": {
        "id": "gmqxhelrTEDX"
      },
      "source": [
        "**Import and Read Dataset**"
      ]
    },
    {
      "cell_type": "code",
      "metadata": {
        "scrolled": true,
        "id": "btH4NHLCTEDY"
      },
      "source": [
        "data = pd.read_csv('movie_metadata.csv')"
      ],
      "execution_count": 167,
      "outputs": []
    },
    {
      "cell_type": "code",
      "metadata": {
        "colab": {
          "base_uri": "https://localhost:8080/"
        },
        "id": "iz_C6tpmTEDY",
        "outputId": "8e822957-ff22-4aee-cfda-d80516e8c1fc"
      },
      "source": [
        "data.shape"
      ],
      "execution_count": 168,
      "outputs": [
        {
          "output_type": "execute_result",
          "data": {
            "text/plain": [
              "(5043, 28)"
            ]
          },
          "metadata": {
            "tags": []
          },
          "execution_count": 168
        }
      ]
    },
    {
      "cell_type": "markdown",
      "metadata": {
        "id": "-x76K20BzGRm"
      },
      "source": [
        "The dataset has 5043 rows and 28 columns."
      ]
    },
    {
      "cell_type": "code",
      "metadata": {
        "colab": {
          "base_uri": "https://localhost:8080/"
        },
        "id": "-ZUb_YP6qVSK",
        "outputId": "f2ec8244-ad80-46e2-ad51-833207c9f560"
      },
      "source": [
        "data.columns"
      ],
      "execution_count": 169,
      "outputs": [
        {
          "output_type": "execute_result",
          "data": {
            "text/plain": [
              "Index(['color', 'director_name', 'num_critic_for_reviews', 'duration',\n",
              "       'director_facebook_likes', 'actor_3_facebook_likes', 'actor_2_name',\n",
              "       'actor_1_facebook_likes', 'gross', 'genres', 'actor_1_name',\n",
              "       'movie_title', 'num_voted_users', 'cast_total_facebook_likes',\n",
              "       'actor_3_name', 'facenumber_in_poster', 'plot_keywords',\n",
              "       'movie_imdb_link', 'num_user_for_reviews', 'language', 'country',\n",
              "       'content_rating', 'budget', 'title_year', 'actor_2_facebook_likes',\n",
              "       'imdb_score', 'aspect_ratio', 'movie_facebook_likes'],\n",
              "      dtype='object')"
            ]
          },
          "metadata": {
            "tags": []
          },
          "execution_count": 169
        }
      ]
    },
    {
      "cell_type": "code",
      "metadata": {
        "colab": {
          "base_uri": "https://localhost:8080/"
        },
        "id": "jo7JItfmTEDZ",
        "outputId": "5f97ab18-1b01-4d2a-f975-4db4086220ad"
      },
      "source": [
        "data.info()"
      ],
      "execution_count": 170,
      "outputs": [
        {
          "output_type": "stream",
          "text": [
            "<class 'pandas.core.frame.DataFrame'>\n",
            "RangeIndex: 5043 entries, 0 to 5042\n",
            "Data columns (total 28 columns):\n",
            " #   Column                     Non-Null Count  Dtype  \n",
            "---  ------                     --------------  -----  \n",
            " 0   color                      5024 non-null   object \n",
            " 1   director_name              4939 non-null   object \n",
            " 2   num_critic_for_reviews     4993 non-null   float64\n",
            " 3   duration                   5028 non-null   float64\n",
            " 4   director_facebook_likes    4939 non-null   float64\n",
            " 5   actor_3_facebook_likes     5020 non-null   float64\n",
            " 6   actor_2_name               5030 non-null   object \n",
            " 7   actor_1_facebook_likes     5036 non-null   float64\n",
            " 8   gross                      4159 non-null   float64\n",
            " 9   genres                     5043 non-null   object \n",
            " 10  actor_1_name               5036 non-null   object \n",
            " 11  movie_title                5043 non-null   object \n",
            " 12  num_voted_users            5043 non-null   int64  \n",
            " 13  cast_total_facebook_likes  5043 non-null   int64  \n",
            " 14  actor_3_name               5020 non-null   object \n",
            " 15  facenumber_in_poster       5030 non-null   float64\n",
            " 16  plot_keywords              4890 non-null   object \n",
            " 17  movie_imdb_link            5043 non-null   object \n",
            " 18  num_user_for_reviews       5022 non-null   float64\n",
            " 19  language                   5031 non-null   object \n",
            " 20  country                    5038 non-null   object \n",
            " 21  content_rating             4740 non-null   object \n",
            " 22  budget                     4551 non-null   float64\n",
            " 23  title_year                 4935 non-null   float64\n",
            " 24  actor_2_facebook_likes     5030 non-null   float64\n",
            " 25  imdb_score                 5043 non-null   float64\n",
            " 26  aspect_ratio               4714 non-null   float64\n",
            " 27  movie_facebook_likes       5043 non-null   int64  \n",
            "dtypes: float64(13), int64(3), object(12)\n",
            "memory usage: 1.1+ MB\n"
          ],
          "name": "stdout"
        }
      ]
    },
    {
      "cell_type": "code",
      "metadata": {
        "id": "KUbwVtxHTEDZ"
      },
      "source": [
        "# remove unnecassary columns from the dataset\n",
        "\n",
        "data = data.drop(['color', \n",
        "                      'director_facebook_likes', \n",
        "                      'actor_3_facebook_likes', \n",
        "                      'actor_1_facebook_likes', \n",
        "                      'cast_total_facebook_likes', \n",
        "                      'actor_2_facebook_likes',  \n",
        "                      'facenumber_in_poster', \n",
        "                      'content_rating', \n",
        "                      'country', \n",
        "                      'movie_imdb_link', \n",
        "                      'aspect_ratio',\n",
        "                      'plot_keywords',\n",
        "                      ], \n",
        "                       axis = 1)\n"
      ],
      "execution_count": 171,
      "outputs": []
    },
    {
      "cell_type": "code",
      "metadata": {
        "colab": {
          "base_uri": "https://localhost:8080/"
        },
        "id": "6cU-dn7-qv91",
        "outputId": "dbe8c156-036f-4f5d-cc36-c34b64c0d10d"
      },
      "source": [
        "data.columns"
      ],
      "execution_count": 172,
      "outputs": [
        {
          "output_type": "execute_result",
          "data": {
            "text/plain": [
              "Index(['director_name', 'num_critic_for_reviews', 'duration', 'actor_2_name',\n",
              "       'gross', 'genres', 'actor_1_name', 'movie_title', 'num_voted_users',\n",
              "       'actor_3_name', 'num_user_for_reviews', 'language', 'budget',\n",
              "       'title_year', 'imdb_score', 'movie_facebook_likes'],\n",
              "      dtype='object')"
            ]
          },
          "metadata": {
            "tags": []
          },
          "execution_count": 172
        }
      ]
    },
    {
      "cell_type": "code",
      "metadata": {
        "colab": {
          "base_uri": "https://localhost:8080/"
        },
        "id": "cB1MFTD7zUl8",
        "outputId": "2762434d-e12a-4de3-80b2-5abc4c1e8cd5"
      },
      "source": [
        "data.shape"
      ],
      "execution_count": 173,
      "outputs": [
        {
          "output_type": "execute_result",
          "data": {
            "text/plain": [
              "(5043, 16)"
            ]
          },
          "metadata": {
            "tags": []
          },
          "execution_count": 173
        }
      ]
    },
    {
      "cell_type": "markdown",
      "metadata": {
        "id": "t2jHJ_x9TEDa"
      },
      "source": [
        "**Impute Missing Values**"
      ]
    },
    {
      "cell_type": "code",
      "metadata": {
        "colab": {
          "base_uri": "https://localhost:8080/"
        },
        "id": "E2llWWbnTEDa",
        "outputId": "e136686c-6722-4a37-e229-f6f092d7d834"
      },
      "source": [
        "# calculate percentage of missing values for each columns\n",
        "\n",
        "round(100*(data.isnull().sum()/len(data.index)), 2)"
      ],
      "execution_count": 174,
      "outputs": [
        {
          "output_type": "execute_result",
          "data": {
            "text/plain": [
              "director_name              2.06\n",
              "num_critic_for_reviews     0.99\n",
              "duration                   0.30\n",
              "actor_2_name               0.26\n",
              "gross                     17.53\n",
              "genres                     0.00\n",
              "actor_1_name               0.14\n",
              "movie_title                0.00\n",
              "num_voted_users            0.00\n",
              "actor_3_name               0.46\n",
              "num_user_for_reviews       0.42\n",
              "language                   0.24\n",
              "budget                     9.76\n",
              "title_year                 2.14\n",
              "imdb_score                 0.00\n",
              "movie_facebook_likes       0.00\n",
              "dtype: float64"
            ]
          },
          "metadata": {
            "tags": []
          },
          "execution_count": 174
        }
      ]
    },
    {
      "cell_type": "code",
      "metadata": {
        "colab": {
          "base_uri": "https://localhost:8080/"
        },
        "id": "eJ31A2o8TEDb",
        "outputId": "e1e44212-a461-4e44-e053-272279f4642a"
      },
      "source": [
        "# Since 'gross' and 'budget' columns have large number of NaN values, drop all the rows with NaNs at this column using the 'isnan' function of NumPy alongwith a negation '~'\n",
        "\n",
        "data = data[~np.isnan(data['gross'])]\n",
        "data = data[~np.isnan(data['budget'])]\n",
        "\n",
        "data.isnull().sum()"
      ],
      "execution_count": 175,
      "outputs": [
        {
          "output_type": "execute_result",
          "data": {
            "text/plain": [
              "director_name              0\n",
              "num_critic_for_reviews     1\n",
              "duration                   1\n",
              "actor_2_name               5\n",
              "gross                      0\n",
              "genres                     0\n",
              "actor_1_name               3\n",
              "movie_title                0\n",
              "num_voted_users            0\n",
              "actor_3_name              10\n",
              "num_user_for_reviews       0\n",
              "language                   3\n",
              "budget                     0\n",
              "title_year                 0\n",
              "imdb_score                 0\n",
              "movie_facebook_likes       0\n",
              "dtype: int64"
            ]
          },
          "metadata": {
            "tags": []
          },
          "execution_count": 175
        }
      ]
    },
    {
      "cell_type": "code",
      "metadata": {
        "colab": {
          "base_uri": "https://localhost:8080/"
        },
        "id": "GgWjiKfxTEDb",
        "outputId": "fd576601-eeeb-42f9-e4bd-320f959520f9"
      },
      "source": [
        "data = data[data.isnull().sum(axis=1) <= 2]\n",
        "data.isnull().sum()"
      ],
      "execution_count": 176,
      "outputs": [
        {
          "output_type": "execute_result",
          "data": {
            "text/plain": [
              "director_name             0\n",
              "num_critic_for_reviews    1\n",
              "duration                  1\n",
              "actor_2_name              2\n",
              "gross                     0\n",
              "genres                    0\n",
              "actor_1_name              0\n",
              "movie_title               0\n",
              "num_voted_users           0\n",
              "actor_3_name              7\n",
              "num_user_for_reviews      0\n",
              "language                  3\n",
              "budget                    0\n",
              "title_year                0\n",
              "imdb_score                0\n",
              "movie_facebook_likes      0\n",
              "dtype: int64"
            ]
          },
          "metadata": {
            "tags": []
          },
          "execution_count": 176
        }
      ]
    },
    {
      "cell_type": "code",
      "metadata": {
        "colab": {
          "base_uri": "https://localhost:8080/"
        },
        "id": "bUMsCCNSTEDb",
        "outputId": "f852efde-550f-4d69-b459-2d039ba5b337"
      },
      "source": [
        "# using mean for numerical columns\n",
        "data['num_critic_for_reviews'].fillna(data['num_critic_for_reviews'].mean(), inplace = True)\n",
        "data['duration'].fillna(data['duration'].mean(), inplace = True)\n",
        "\n",
        "# using mode for categorical column\n",
        "data['language'].fillna(data['language'].mode()[0], inplace = True)\n",
        "\n",
        "# using \"Unknown Actor\" for imputing the missing values of actor names\n",
        "\n",
        "data['actor_2_name'].fillna('Unknown Actor', inplace = True)\n",
        "data['actor_3_name'].fillna('Unknown Actor', inplace = True)\n",
        "\n",
        "data.isnull().sum().sum()"
      ],
      "execution_count": 177,
      "outputs": [
        {
          "output_type": "execute_result",
          "data": {
            "text/plain": [
              "0"
            ]
          },
          "metadata": {
            "tags": []
          },
          "execution_count": 177
        }
      ]
    },
    {
      "cell_type": "markdown",
      "metadata": {
        "id": "kIq3agtNzxjd"
      },
      "source": [
        "No missing values in the dataframe."
      ]
    },
    {
      "cell_type": "markdown",
      "metadata": {
        "id": "vS6LDT75TEDc"
      },
      "source": [
        "**Feature Engineering**"
      ]
    },
    {
      "cell_type": "code",
      "metadata": {
        "id": "Mfe5VFjdTEDc"
      },
      "source": [
        "#convert the gross and budget from $ to Million $ to make the analysis easier\n",
        "\n",
        "data['gross'] = data['gross']/1000000\n",
        "data['budget'] = data['budget']/1000000"
      ],
      "execution_count": 178,
      "outputs": []
    },
    {
      "cell_type": "code",
      "metadata": {
        "id": "vScTHFhSTEDc"
      },
      "source": [
        "#Calculate Profit column using the Budget and Gross\n",
        "\n",
        "data['Profit'] = data['gross'] - data['budget']"
      ],
      "execution_count": 179,
      "outputs": []
    },
    {
      "cell_type": "markdown",
      "metadata": {
        "id": "CcuRLKke-7B2"
      },
      "source": [
        "## Top 10 most profitable movies"
      ]
    },
    {
      "cell_type": "code",
      "metadata": {
        "colab": {
          "base_uri": "https://localhost:8080/",
          "height": 359
        },
        "id": "NmomWGWp-ypN",
        "outputId": "65a1036b-862f-46d8-a262-e860643b2cca"
      },
      "source": [
        "data[['movie_title', 'Profit']].sort_values(by = 'Profit', ascending  = False).head(10)"
      ],
      "execution_count": 180,
      "outputs": [
        {
          "output_type": "execute_result",
          "data": {
            "text/html": [
              "<div>\n",
              "<style scoped>\n",
              "    .dataframe tbody tr th:only-of-type {\n",
              "        vertical-align: middle;\n",
              "    }\n",
              "\n",
              "    .dataframe tbody tr th {\n",
              "        vertical-align: top;\n",
              "    }\n",
              "\n",
              "    .dataframe thead th {\n",
              "        text-align: right;\n",
              "    }\n",
              "</style>\n",
              "<table border=\"1\" class=\"dataframe\">\n",
              "  <thead>\n",
              "    <tr style=\"text-align: right;\">\n",
              "      <th></th>\n",
              "      <th>movie_title</th>\n",
              "      <th>Profit</th>\n",
              "    </tr>\n",
              "  </thead>\n",
              "  <tbody>\n",
              "    <tr>\n",
              "      <th>0</th>\n",
              "      <td>Avatar</td>\n",
              "      <td>523.505847</td>\n",
              "    </tr>\n",
              "    <tr>\n",
              "      <th>29</th>\n",
              "      <td>Jurassic World</td>\n",
              "      <td>502.177271</td>\n",
              "    </tr>\n",
              "    <tr>\n",
              "      <th>26</th>\n",
              "      <td>Titanic</td>\n",
              "      <td>458.672302</td>\n",
              "    </tr>\n",
              "    <tr>\n",
              "      <th>3024</th>\n",
              "      <td>Star Wars: Episode IV - A New Hope</td>\n",
              "      <td>449.935665</td>\n",
              "    </tr>\n",
              "    <tr>\n",
              "      <th>3080</th>\n",
              "      <td>E.T. the Extra-Terrestrial</td>\n",
              "      <td>424.449459</td>\n",
              "    </tr>\n",
              "    <tr>\n",
              "      <th>794</th>\n",
              "      <td>The Avengers</td>\n",
              "      <td>403.279547</td>\n",
              "    </tr>\n",
              "    <tr>\n",
              "      <th>17</th>\n",
              "      <td>The Avengers</td>\n",
              "      <td>403.279547</td>\n",
              "    </tr>\n",
              "    <tr>\n",
              "      <th>509</th>\n",
              "      <td>The Lion King</td>\n",
              "      <td>377.783777</td>\n",
              "    </tr>\n",
              "    <tr>\n",
              "      <th>240</th>\n",
              "      <td>Star Wars: Episode I - The Phantom Menace</td>\n",
              "      <td>359.544677</td>\n",
              "    </tr>\n",
              "    <tr>\n",
              "      <th>66</th>\n",
              "      <td>The Dark Knight</td>\n",
              "      <td>348.316061</td>\n",
              "    </tr>\n",
              "  </tbody>\n",
              "</table>\n",
              "</div>"
            ],
            "text/plain": [
              "                                     movie_title      Profit\n",
              "0                                        Avatar   523.505847\n",
              "29                               Jurassic World   502.177271\n",
              "26                                      Titanic   458.672302\n",
              "3024         Star Wars: Episode IV - A New Hope   449.935665\n",
              "3080                 E.T. the Extra-Terrestrial   424.449459\n",
              "794                                The Avengers   403.279547\n",
              "17                                 The Avengers   403.279547\n",
              "509                               The Lion King   377.783777\n",
              "240   Star Wars: Episode I - The Phantom Menace   359.544677\n",
              "66                              The Dark Knight   348.316061"
            ]
          },
          "metadata": {
            "tags": []
          },
          "execution_count": 180
        }
      ]
    },
    {
      "cell_type": "code",
      "metadata": {
        "id": "5_pAVjeVTEDc"
      },
      "source": [
        "#there are some duplicate rows in the data. Remove all the duplicates from data.By looking at the above result we can easily analyze that there are some duplicate\n",
        "\n",
        "data.drop_duplicates(subset = None, keep = 'first', inplace = True)"
      ],
      "execution_count": 181,
      "outputs": []
    },
    {
      "cell_type": "code",
      "metadata": {
        "colab": {
          "base_uri": "https://localhost:8080/",
          "height": 359
        },
        "id": "oU8W3uRBTEDd",
        "outputId": "99105c2d-d994-4504-a9f7-d3510dcfc617"
      },
      "source": [
        "#check the Top 10 Profitable Movies Again\n",
        "\n",
        "data[['movie_title','Profit']].sort_values(by = 'Profit', ascending  = False).head(10)"
      ],
      "execution_count": 182,
      "outputs": [
        {
          "output_type": "execute_result",
          "data": {
            "text/html": [
              "<div>\n",
              "<style scoped>\n",
              "    .dataframe tbody tr th:only-of-type {\n",
              "        vertical-align: middle;\n",
              "    }\n",
              "\n",
              "    .dataframe tbody tr th {\n",
              "        vertical-align: top;\n",
              "    }\n",
              "\n",
              "    .dataframe thead th {\n",
              "        text-align: right;\n",
              "    }\n",
              "</style>\n",
              "<table border=\"1\" class=\"dataframe\">\n",
              "  <thead>\n",
              "    <tr style=\"text-align: right;\">\n",
              "      <th></th>\n",
              "      <th>movie_title</th>\n",
              "      <th>Profit</th>\n",
              "    </tr>\n",
              "  </thead>\n",
              "  <tbody>\n",
              "    <tr>\n",
              "      <th>0</th>\n",
              "      <td>Avatar</td>\n",
              "      <td>523.505847</td>\n",
              "    </tr>\n",
              "    <tr>\n",
              "      <th>29</th>\n",
              "      <td>Jurassic World</td>\n",
              "      <td>502.177271</td>\n",
              "    </tr>\n",
              "    <tr>\n",
              "      <th>26</th>\n",
              "      <td>Titanic</td>\n",
              "      <td>458.672302</td>\n",
              "    </tr>\n",
              "    <tr>\n",
              "      <th>3024</th>\n",
              "      <td>Star Wars: Episode IV - A New Hope</td>\n",
              "      <td>449.935665</td>\n",
              "    </tr>\n",
              "    <tr>\n",
              "      <th>3080</th>\n",
              "      <td>E.T. the Extra-Terrestrial</td>\n",
              "      <td>424.449459</td>\n",
              "    </tr>\n",
              "    <tr>\n",
              "      <th>17</th>\n",
              "      <td>The Avengers</td>\n",
              "      <td>403.279547</td>\n",
              "    </tr>\n",
              "    <tr>\n",
              "      <th>509</th>\n",
              "      <td>The Lion King</td>\n",
              "      <td>377.783777</td>\n",
              "    </tr>\n",
              "    <tr>\n",
              "      <th>240</th>\n",
              "      <td>Star Wars: Episode I - The Phantom Menace</td>\n",
              "      <td>359.544677</td>\n",
              "    </tr>\n",
              "    <tr>\n",
              "      <th>66</th>\n",
              "      <td>The Dark Knight</td>\n",
              "      <td>348.316061</td>\n",
              "    </tr>\n",
              "    <tr>\n",
              "      <th>439</th>\n",
              "      <td>The Hunger Games</td>\n",
              "      <td>329.999255</td>\n",
              "    </tr>\n",
              "  </tbody>\n",
              "</table>\n",
              "</div>"
            ],
            "text/plain": [
              "                                     movie_title      Profit\n",
              "0                                        Avatar   523.505847\n",
              "29                               Jurassic World   502.177271\n",
              "26                                      Titanic   458.672302\n",
              "3024         Star Wars: Episode IV - A New Hope   449.935665\n",
              "3080                 E.T. the Extra-Terrestrial   424.449459\n",
              "17                                 The Avengers   403.279547\n",
              "509                               The Lion King   377.783777\n",
              "240   Star Wars: Episode I - The Phantom Menace   359.544677\n",
              "66                              The Dark Knight   348.316061\n",
              "439                            The Hunger Games   329.999255"
            ]
          },
          "metadata": {
            "tags": []
          },
          "execution_count": 182
        }
      ]
    },
    {
      "cell_type": "markdown",
      "metadata": {
        "id": "aKgtb11K0JY8"
      },
      "source": [
        "Avatar is the highest profitable movie with Jurrasic World and Titanic second and third highest profit."
      ]
    },
    {
      "cell_type": "markdown",
      "metadata": {
        "id": "LvlESzC7_4hN"
      },
      "source": [
        "## Categorize movies based on languages"
      ]
    },
    {
      "cell_type": "code",
      "metadata": {
        "colab": {
          "base_uri": "https://localhost:8080/"
        },
        "id": "l6vkx3LETEDd",
        "outputId": "24feef5f-17ba-4326-f917-7a2d6034315f"
      },
      "source": [
        "data['language'].value_counts()"
      ],
      "execution_count": 183,
      "outputs": [
        {
          "output_type": "execute_result",
          "data": {
            "text/plain": [
              "English       3673\n",
              "French          37\n",
              "Spanish         26\n",
              "Mandarin        14\n",
              "German          13\n",
              "Japanese        12\n",
              "Hindi           10\n",
              "Cantonese        8\n",
              "Italian          7\n",
              "Korean           5\n",
              "Portuguese       5\n",
              "Norwegian        4\n",
              "Hebrew           3\n",
              "Danish           3\n",
              "Thai             3\n",
              "Persian          3\n",
              "Dutch            3\n",
              "Indonesian       2\n",
              "Aboriginal       2\n",
              "Dari             2\n",
              "Swedish          1\n",
              "Filipino         1\n",
              "Mongolian        1\n",
              "Czech            1\n",
              "Vietnamese       1\n",
              "Icelandic        1\n",
              "Kazakh           1\n",
              "Bosnian          1\n",
              "Telugu           1\n",
              "Arabic           1\n",
              "Russian          1\n",
              "Maya             1\n",
              "None             1\n",
              "Dzongkha         1\n",
              "Romanian         1\n",
              "Hungarian        1\n",
              "Zulu             1\n",
              "Aramaic          1\n",
              "Name: language, dtype: int64"
            ]
          },
          "metadata": {
            "tags": []
          },
          "execution_count": 183
        }
      ]
    },
    {
      "cell_type": "markdown",
      "metadata": {
        "id": "9xU6Etx303h4"
      },
      "source": [
        "More than 3,600 movies are English and some of the movies are from French, Spanish and so on. So we can categorize all the other movies as Foreign."
      ]
    },
    {
      "cell_type": "code",
      "metadata": {
        "colab": {
          "base_uri": "https://localhost:8080/"
        },
        "id": "xQtwWFiYTEDd",
        "outputId": "f0cfa2a3-dc99-4a80-a8a1-988f6b8184e7"
      },
      "source": [
        "#categorizes movies into English and Foreign\n",
        "\n",
        "def language(x):\n",
        "    if x == 'English':\n",
        "        return 'English'\n",
        "    else:\n",
        "        return 'Foreign'\n",
        "\n",
        "data['language'] = data['language'].apply(language)\n",
        "\n",
        "data['language'].value_counts()"
      ],
      "execution_count": 184,
      "outputs": [
        {
          "output_type": "execute_result",
          "data": {
            "text/plain": [
              "English    3673\n",
              "Foreign     180\n",
              "Name: language, dtype: int64"
            ]
          },
          "metadata": {
            "tags": []
          },
          "execution_count": 184
        }
      ]
    },
    {
      "cell_type": "markdown",
      "metadata": {
        "id": "aiTwawozA5to"
      },
      "source": [
        "## Categorizes movies based on duration"
      ]
    },
    {
      "cell_type": "code",
      "metadata": {
        "colab": {
          "base_uri": "https://localhost:8080/"
        },
        "id": "jSNf9IjmTEDd",
        "outputId": "578dd148-8666-4011-f3a4-a5983b4f0652"
      },
      "source": [
        "#categorize the movies in two part- short and long (more than 2 hr) based on duration.\n",
        "\n",
        "def duration(x):\n",
        "    if x <= 120:\n",
        "        return 'Short'\n",
        "    else:\n",
        "        return 'Long'\n",
        "    \n",
        "data['duration'] = data['duration'].apply(duration)\n",
        "\n",
        "data['duration'].value_counts()"
      ],
      "execution_count": 185,
      "outputs": [
        {
          "output_type": "execute_result",
          "data": {
            "text/plain": [
              "Short    2936\n",
              "Long      917\n",
              "Name: duration, dtype: int64"
            ]
          },
          "metadata": {
            "tags": []
          },
          "execution_count": 185
        }
      ]
    },
    {
      "cell_type": "markdown",
      "metadata": {
        "id": "5Bx-k1d_BVSV"
      },
      "source": [
        "## Genres Analysis"
      ]
    },
    {
      "cell_type": "code",
      "metadata": {
        "colab": {
          "base_uri": "https://localhost:8080/"
        },
        "id": "dZHSND5STEDe",
        "outputId": "8d008d3b-79a6-4405-c732-f9c8beee4c60"
      },
      "source": [
        "data['genres'].value_counts()"
      ],
      "execution_count": 186,
      "outputs": [
        {
          "output_type": "execute_result",
          "data": {
            "text/plain": [
              "Drama                                                               153\n",
              "Comedy|Drama|Romance                                                151\n",
              "Comedy|Drama                                                        147\n",
              "Comedy                                                              145\n",
              "Comedy|Romance                                                      135\n",
              "Drama|Romance                                                       119\n",
              "Crime|Drama|Thriller                                                 82\n",
              "Action|Crime|Thriller                                                55\n",
              "Action|Crime|Drama|Thriller                                          50\n",
              "Action|Adventure|Sci-Fi                                              46\n",
              "Action|Adventure|Thriller                                            45\n",
              "Comedy|Crime                                                         45\n",
              "Horror                                                               43\n",
              "Drama|Thriller                                                       42\n",
              "Crime|Drama                                                          42\n",
              "Crime|Drama|Mystery|Thriller                                         41\n",
              "Horror|Thriller                                                      34\n",
              "Action|Adventure|Sci-Fi|Thriller                                     34\n",
              "Horror|Mystery|Thriller                                              31\n",
              "Drama|Mystery|Thriller                                               30\n",
              "Biography|Drama                                                      30\n",
              "Adventure|Animation|Comedy|Family|Fantasy                            28\n",
              "Action|Comedy|Crime                                                  27\n",
              "Horror|Mystery                                                       25\n",
              "Action|Adventure|Fantasy                                             25\n",
              "Biography|Drama|Sport                                                23\n",
              "Action|Thriller                                                      22\n",
              "Drama|Music                                                          22\n",
              "Drama|Sport                                                          22\n",
              "Adventure|Animation|Comedy|Family                                    21\n",
              "Action|Comedy|Crime|Thriller                                         21\n",
              "Documentary                                                          21\n",
              "Comedy|Family                                                        20\n",
              "Biography|Drama|History                                              20\n",
              "Action|Crime|Drama|Mystery|Thriller                                  19\n",
              "Action|Drama|Thriller                                                18\n",
              "Drama|History|War                                                    17\n",
              "Adventure|Family|Fantasy                                             17\n",
              "Mystery|Thriller                                                     17\n",
              "Comedy|Family|Fantasy                                                17\n",
              "Comedy|Crime|Drama                                                   17\n",
              "Drama|War                                                            16\n",
              "Action|Sci-Fi                                                        16\n",
              "Drama|Music|Romance                                                  16\n",
              "Comedy|Sport                                                         16\n",
              "Biography|Drama|Romance                                              15\n",
              "Crime|Thriller                                                       15\n",
              "Comedy|Fantasy                                                       15\n",
              "Fantasy|Horror                                                       15\n",
              "Crime|Drama|Romance|Thriller                                         15\n",
              "Biography|Crime|Drama                                                15\n",
              "Action|Horror|Sci-Fi|Thriller                                        14\n",
              "Comedy|Crime|Thriller                                                14\n",
              "Comedy|Music                                                         14\n",
              "Adventure|Comedy                                                     14\n",
              "Crime|Mystery|Thriller                                               14\n",
              "Comedy|Fantasy|Romance                                               13\n",
              "Action|Comedy                                                        13\n",
              "Action|Sci-Fi|Thriller                                               13\n",
              "Comedy|Drama|Romance|Sport                                           13\n",
              "Action|Adventure|Fantasy|Sci-Fi|Thriller                             12\n",
              "Drama|Fantasy|Romance                                                12\n",
              "Horror|Sci-Fi|Thriller                                               12\n",
              "Action|Adventure|Fantasy|Sci-Fi                                      12\n",
              "Drama|Mystery|Sci-Fi|Thriller                                        12\n",
              "Action|Adventure|Drama|Thriller                                      12\n",
              "Drama|Sci-Fi|Thriller                                                12\n",
              "Comedy|Family|Romance                                                11\n",
              "Drama|Horror|Mystery|Thriller                                        11\n",
              "Comedy|Crime|Romance                                                 11\n",
              "Comedy|Drama|Family                                                  11\n",
              "Comedy|Drama|Fantasy|Romance                                         11\n",
              "Comedy|Drama|Music                                                   11\n",
              "Action|Crime|Sci-Fi|Thriller                                         11\n",
              "Adventure|Comedy|Family|Fantasy                                      11\n",
              "Biography|Drama|Music                                                10\n",
              "Action|Adventure|Comedy                                              10\n",
              "Adventure|Animation|Family|Fantasy                                   10\n",
              "Drama|Mystery|Romance|Thriller                                       10\n",
              "Adventure|Comedy|Sci-Fi                                               9\n",
              "Action|Adventure                                                      9\n",
              "Action|Mystery|Thriller                                               9\n",
              "Biography|Drama|History|Romance                                       9\n",
              "Drama|Horror|Thriller                                                 9\n",
              "Adventure|Fantasy                                                     8\n",
              "Fantasy|Horror|Thriller                                               8\n",
              "Adventure|Drama                                                       8\n",
              "Action|Adventure|Comedy|Family|Sci-Fi                                 8\n",
              "Drama|Family                                                          8\n",
              "Drama|History                                                         8\n",
              "Drama|Mystery                                                         8\n",
              "Comedy|Horror                                                         8\n",
              "Action|Comedy|Sci-Fi                                                  8\n",
              "Drama|History|Thriller                                                8\n",
              "Action|Adventure|Crime|Thriller                                       8\n",
              "Drama|Romance|War                                                     8\n",
              "Comedy|Fantasy|Horror                                                 8\n",
              "Drama|Horror|Sci-Fi|Thriller                                          8\n",
              "Action|Drama|War                                                      8\n",
              "Adventure|Animation|Comedy|Family|Sci-Fi                              7\n",
              "Comedy|Crime|Drama|Thriller                                           7\n",
              "Sci-Fi|Thriller                                                       7\n",
              "Adventure|Comedy|Drama                                                7\n",
              "Documentary|Music                                                     7\n",
              "Drama|Sci-Fi                                                          7\n",
              "Biography|Drama|Thriller                                              7\n",
              "Adventure|Sci-Fi|Thriller                                             7\n",
              "Action|Drama                                                          7\n",
              "Action|Drama|Sci-Fi|Thriller                                          7\n",
              "Action|Comedy|Crime|Drama|Thriller                                    7\n",
              "Comedy|Drama|Music|Romance                                            7\n",
              "Drama|Fantasy                                                         6\n",
              "Fantasy|Horror|Mystery|Thriller                                       6\n",
              "Action|Comedy|Romance                                                 6\n",
              "Action|Adventure|Comedy|Crime                                         6\n",
              "Drama|Musical|Romance                                                 6\n",
              "Adventure|Drama|Thriller                                              6\n",
              "Action|Crime|Mystery|Thriller                                         6\n",
              "Action|Adventure|Drama|History|War                                    6\n",
              "Action|Mystery|Sci-Fi|Thriller                                        6\n",
              "Action|Drama|Thriller|War                                             6\n",
              "Comedy|Documentary                                                    6\n",
              "Action|Horror|Sci-Fi                                                  6\n",
              "Adventure|Comedy|Family                                               6\n",
              "Comedy|Fantasy|Horror|Thriller                                        6\n",
              "Horror|Sci-Fi                                                         6\n",
              "Drama|Romance|Sport                                                   6\n",
              "Action|Adventure|Drama|Fantasy                                        6\n",
              "Action|Adventure|Drama|Romance                                        6\n",
              "Action                                                                6\n",
              "Action|Crime|Drama|Romance|Thriller                                   6\n",
              "Action|Horror|Thriller                                                6\n",
              "Animation|Comedy|Family|Fantasy                                       5\n",
              "Comedy|Family|Fantasy|Romance                                         5\n",
              "Action|Adventure|Drama                                                5\n",
              "Comedy|Music|Romance                                                  5\n",
              "Action|Adventure|Family|Fantasy                                       5\n",
              "Horror|Mystery|Sci-Fi|Thriller                                        5\n",
              "Comedy|Drama|Sport                                                    5\n",
              "Action|Drama|History|War                                              5\n",
              "Biography|Drama|History|War                                           5\n",
              "Adventure|Family|Fantasy|Mystery                                      5\n",
              "Drama|Romance|Thriller                                                5\n",
              "Action|Adventure|Comedy|Sci-Fi                                        5\n",
              "Adventure|Horror|Thriller                                             5\n",
              "Animation|Comedy|Family                                               5\n",
              "Drama|Romance|Sci-Fi                                                  5\n",
              "Drama|Romance|Western                                                 5\n",
              "Action|Adventure|Comedy|Thriller                                      5\n",
              "Action|Adventure|Fantasy|Thriller                                     5\n",
              "Action|Adventure|Romance                                              5\n",
              "Comedy|Romance|Sport                                                  5\n",
              "Biography|Crime|Drama|Thriller                                        5\n",
              "Action|Adventure|Animation|Comedy|Family                              5\n",
              "Comedy|Musical|Romance                                                5\n",
              "Crime|Drama|Romance                                                   5\n",
              "Comedy|Sci-Fi                                                         5\n",
              "Crime|Horror|Thriller                                                 5\n",
              "Comedy|Romance|Sci-Fi                                                 5\n",
              "Mystery|Sci-Fi|Thriller                                               5\n",
              "Crime|Drama|Horror|Thriller                                           5\n",
              "Action|Fantasy|Horror|Thriller                                        5\n",
              "Action|Crime|Drama                                                    4\n",
              "Adventure|Drama|Romance                                               4\n",
              "Adventure|Drama|Romance|War                                           4\n",
              "Crime|Drama|Mystery                                                   4\n",
              "Adventure|Drama|Family                                                4\n",
              "Drama|Mystery|Romance                                                 4\n",
              "Adventure|Drama|Family|Fantasy                                        4\n",
              "Action|Comedy|Fantasy|Sci-Fi                                          4\n",
              "Action|Fantasy|Horror                                                 4\n",
              "Comedy|Crime|Drama|Romance                                            4\n",
              "Drama|Fantasy|Horror|Thriller                                         4\n",
              "Adventure|Comedy|Drama|Romance                                        4\n",
              "Action|Adventure|Comedy|Family|Fantasy|Sci-Fi                         4\n",
              "Drama|Family|Sport                                                    4\n",
              "Action|Fantasy|Thriller                                               4\n",
              "Comedy|Drama|Family|Romance                                           4\n",
              "Drama|Western                                                         4\n",
              "Action|Adventure|Horror|Sci-Fi                                        4\n",
              "Adventure|Drama|Sci-Fi|Thriller                                       4\n",
              "Action|Comedy|Thriller                                                4\n",
              "Biography|Comedy|Drama                                                4\n",
              "Drama|History|Thriller|War                                            4\n",
              "Biography|Drama|Music|Musical                                         4\n",
              "Drama|Fantasy|Horror                                                  4\n",
              "Comedy|Horror|Thriller                                                4\n",
              "Drama|Mystery|Sci-Fi                                                  4\n",
              "Adventure|Mystery|Sci-Fi                                              4\n",
              "Adventure|Biography|Drama|History|War                                 4\n",
              "Comedy|Crime|Mystery                                                  4\n",
              "Action|Adventure|Animation|Comedy|Family|Fantasy                      4\n",
              "Adventure|Animation|Comedy|Family|Fantasy|Sci-Fi                      4\n",
              "Action|Adventure|Romance|Sci-Fi|Thriller                              4\n",
              "Adventure|Drama|Sci-Fi                                                4\n",
              "Drama|Horror|Sci-Fi                                                   4\n",
              "Action|Adventure|Western                                              4\n",
              "Drama|History|Romance|War                                             3\n",
              "Action|Adventure|Mystery|Sci-Fi|Thriller                              3\n",
              "Adventure|Drama|Fantasy|Romance                                       3\n",
              "Adventure|Family                                                      3\n",
              "Action|Drama|Sport                                                    3\n",
              "Adventure|Drama|Fantasy                                               3\n",
              "Thriller                                                              3\n",
              "Comedy|Crime|Drama|Romance|Thriller                                   3\n",
              "Adventure|Family|Fantasy|Musical                                      3\n",
              "Action|Drama|Romance                                                  3\n",
              "Drama|Fantasy|Romance|Sci-Fi                                          3\n",
              "Action|Adventure|Fantasy|Romance                                      3\n",
              "Horror|Mystery|Sci-Fi                                                 3\n",
              "Comedy|Family|Sci-Fi                                                  3\n",
              "Action|Adventure|Comedy|Fantasy                                       3\n",
              "Biography|Comedy|Drama|History                                        3\n",
              "Documentary|Sport                                                     3\n",
              "Comedy|Western                                                        3\n",
              "Comedy|Drama|Family|Fantasy                                           3\n",
              "Action|Adventure|Animation|Comedy|Family|Sci-Fi                       3\n",
              "Adventure|Animation|Comedy|Family|Sport                               3\n",
              "Adventure|Biography|Drama|Thriller                                    3\n",
              "Adventure|Drama|History                                               3\n",
              "Adventure|Animation|Comedy|Family|Musical                             3\n",
              "Action|Comedy|Sport                                                   3\n",
              "Comedy|Drama|Fantasy                                                  3\n",
              "Biography|Comedy|Crime|Drama                                          3\n",
              "Biography|Drama|War                                                   3\n",
              "Comedy|Horror|Sci-Fi                                                  3\n",
              "Adventure|Comedy|Drama|Family|Fantasy                                 3\n",
              "Drama|Horror                                                          3\n",
              "Adventure|Comedy|Fantasy                                              3\n",
              "Adventure|Drama|Western                                               3\n",
              "Action|Crime|Drama|Thriller|Western                                   3\n",
              "Comedy|Musical                                                        3\n",
              "Drama|Fantasy|Thriller                                                3\n",
              "Western                                                               3\n",
              "Adventure|Comedy|Family|Romance                                       3\n",
              "Comedy|Drama|Musical|Romance                                          3\n",
              "Action|Adventure|History                                              3\n",
              "Adventure|Biography|Drama                                             3\n",
              "Action|Comedy|Fantasy                                                 3\n",
              "Action|Crime|Romance|Thriller                                         3\n",
              "Action|Crime|Fantasy|Thriller                                         3\n",
              "Comedy|Drama|Sci-Fi                                                   3\n",
              "Crime|Horror|Mystery|Thriller                                         3\n",
              "Action|Adventure|Drama|History|Romance                                3\n",
              "Comedy|Drama|Family|Sport                                             3\n",
              "Action|Animation|Comedy|Family|Sci-Fi                                 3\n",
              "Comedy|Crime|Romance|Thriller                                         3\n",
              "Action|Adventure|Horror|Sci-Fi|Thriller                               3\n",
              "Drama|Fantasy|Horror|Mystery|Thriller                                 3\n",
              "Drama|Family|Fantasy|Romance                                          3\n",
              "Action|Comedy|Crime|Romance|Thriller                                  3\n",
              "Adventure|Animation|Comedy|Family|Romance                             3\n",
              "Drama|Fantasy|Musical|Romance                                         2\n",
              "Action|Crime|Sport|Thriller                                           2\n",
              "Action|Adventure|Crime|Drama|Thriller                                 2\n",
              "Action|Romance|Thriller                                               2\n",
              "Comedy|Fantasy|Horror|Romance                                         2\n",
              "Action|Adventure|Crime|Mystery|Thriller                               2\n",
              "Animation|Comedy|Family|Mystery|Sci-Fi                                2\n",
              "Animation|Comedy|Family|Fantasy|Music                                 2\n",
              "Action|Crime|Drama|Sci-Fi|Thriller                                    2\n",
              "Action|Biography|Drama|Sport                                          2\n",
              "Biography|Comedy|Drama|Sport                                          2\n",
              "Animation|Family|Fantasy|Musical                                      2\n",
              "Animation|Comedy|Family|Fantasy|Musical                               2\n",
              "Adventure|Family|Fantasy|Romance                                      2\n",
              "Drama|Family|Fantasy                                                  2\n",
              "Action|Adventure|Animation|Comedy|Family|Fantasy|Sci-Fi               2\n",
              "Action|Adventure|Animation|Family|Sci-Fi                              2\n",
              "Adventure|Comedy|Family|Sport                                         2\n",
              "Comedy|Crime|Music                                                    2\n",
              "Biography|Drama|Music|Romance                                         2\n",
              "Animation|Comedy|Family|Sci-Fi                                        2\n",
              "Adventure                                                             2\n",
              "Drama|Fantasy|Mystery|Thriller                                        2\n",
              "Action|Adventure|Family|Sci-Fi                                        2\n",
              "Action|Drama|Family|Sport                                             2\n",
              "Comedy|Drama|Family|Music|Romance                                     2\n",
              "Adventure|Animation|Comedy|Family|Fantasy|Romance                     2\n",
              "Drama|Music|Musical|Romance                                           2\n",
              "Biography|Drama|History|Sport                                         2\n",
              "Action|Drama|Fantasy|War                                              2\n",
              "Documentary|Drama                                                     2\n",
              "Action|Crime|Mystery|Romance|Thriller                                 2\n",
              "Drama|Romance|War|Western                                             2\n",
              "Biography|Drama|History|Thriller                                      2\n",
              "Comedy|Drama|Musical                                                  2\n",
              "Biography|Drama|Thriller|War                                          2\n",
              "Biography|Crime|Drama|Romance                                         2\n",
              "Crime|Drama|Music                                                     2\n",
              "Action|Drama|Fantasy                                                  2\n",
              "Action|Adventure|Thriller|War                                         2\n",
              "Adventure|Animation|Comedy|Family|Fantasy|Musical                     2\n",
              "Action|Fantasy|Horror|Sci-Fi|Thriller                                 2\n",
              "Action|Comedy|Family|Fantasy                                          2\n",
              "Action|Comedy|Crime|Romance                                           2\n",
              "Drama|Family|Romance                                                  2\n",
              "Biography|Comedy|Drama|Romance                                        2\n",
              "Comedy|War                                                            2\n",
              "Comedy|Drama|Horror|Sci-Fi                                            2\n",
              "Action|Drama|History|Romance|War                                      2\n",
              "Biography|Comedy|Romance                                              2\n",
              "Action|Sci-Fi|Sport                                                   2\n",
              "Action|Adventure|Animation|Comedy|Drama|Family|Sci-Fi                 2\n",
              "Biography|Drama|Romance|Sport                                         2\n",
              "Animation|Family|Fantasy|Music                                        2\n",
              "Action|Crime                                                          2\n",
              "Adventure|Animation|Comedy|Drama|Family                               2\n",
              "Action|Adventure|Horror|Thriller                                      2\n",
              "Action|Comedy|Crime|Fantasy                                           2\n",
              "Comedy|Fantasy|Sci-Fi                                                 2\n",
              "Action|Adventure|Comedy|Western                                       2\n",
              "Action|Horror                                                         2\n",
              "Adventure|Animation|Comedy|Family|Fantasy|Music                       2\n",
              "Drama|Family|Musical|Romance                                          2\n",
              "Adventure|Drama|Mystery                                               2\n",
              "Adventure|Animation|Comedy|Family|Fantasy|Musical|Romance             2\n",
              "Comedy|Crime|Drama|Mystery|Romance                                    2\n",
              "Mystery|Romance|Thriller                                              2\n",
              "Adventure|Animation|Family|Sci-Fi                                     2\n",
              "Adventure|Comedy|Family|Fantasy|Horror                                2\n",
              "Action|Biography|Crime|Drama                                          2\n",
              "Comedy|Drama|Family|Fantasy|Romance                                   2\n",
              "Action|Adventure|Drama|History                                        2\n",
              "Action|Adventure|Comedy|Romance|Sci-Fi                                2\n",
              "Comedy|Drama|Family|Music|Musical|Romance                             2\n",
              "Musical|Romance                                                       2\n",
              "Action|Drama|Western                                                  2\n",
              "Action|Comedy|Horror                                                  2\n",
              "Drama|Romance|Sci-Fi|Thriller                                         2\n",
              "Drama|Thriller|War                                                    2\n",
              "Action|Comedy|Sci-Fi|Thriller                                         2\n",
              "Drama|Musical                                                         2\n",
              "Documentary|History|Music                                             2\n",
              "Adventure|Animation|Family                                            2\n",
              "Comedy|Drama|Romance|Thriller                                         2\n",
              "Comedy|Crime|Family                                                   2\n",
              "Comedy|Family|Sport                                                   2\n",
              "Adventure|Comedy|Mystery                                              2\n",
              "Adventure|Drama|War                                                   2\n",
              "Romance                                                               2\n",
              "Drama|History|Sport                                                   2\n",
              "Comedy|Horror|Romance                                                 2\n",
              "Documentary|History                                                   2\n",
              "Action|Adventure|Mystery|Sci-Fi                                       2\n",
              "Drama|Horror|Romance|Thriller                                         2\n",
              "Action|Adventure|Drama|Sci-Fi|Thriller                                2\n",
              "Action|Adventure|Drama|Sci-Fi                                         2\n",
              "Drama|Mystery|Romance|War                                             2\n",
              "Comedy|Drama|War                                                      2\n",
              "Adventure|Comedy|Family|Fantasy|Sci-Fi                                2\n",
              "Adventure|Animation|Comedy|Drama|Family|Musical                       2\n",
              "Adventure|Horror                                                      2\n",
              "Action|Comedy|Family                                                  2\n",
              "Comedy|Horror|Musical                                                 2\n",
              "Adventure|Mystery|Thriller                                            2\n",
              "Biography|Drama|Romance|War                                           2\n",
              "Comedy|Mystery                                                        2\n",
              "Adventure|Animation|Drama|Family|History|Musical|Romance              1\n",
              "Biography|Crime|Documentary|History|Thriller                          1\n",
              "Action|Horror|Romance|Sci-Fi|Thriller                                 1\n",
              "Horror|Musical|Sci-Fi                                                 1\n",
              "Adventure|Animation|Family|Fantasy|Musical                            1\n",
              "Adventure|Comedy|Drama|Family|Mystery                                 1\n",
              "Adventure|Comedy|Family|Romance|Sci-Fi                                1\n",
              "Adventure|Animation|Drama|Family|Fantasy|Musical|Mystery|Romance      1\n",
              "Action|Adventure|Animation|Fantasy|Romance|Sci-Fi                     1\n",
              "Crime|Drama|Musical                                                   1\n",
              "Action|Adventure|Fantasy|Horror|Sci-Fi|Thriller                       1\n",
              "Action|Adventure|Family|Mystery|Sci-Fi                                1\n",
              "Adventure|Family|Sci-Fi                                               1\n",
              "Action|Adventure|Comedy|Family|Mystery                                1\n",
              "Biography|Comedy|Drama|War                                            1\n",
              "Adventure|Comedy|Crime                                                1\n",
              "Drama|Mystery|Romance|Sci-Fi|Thriller                                 1\n",
              "Comedy|Horror|Mystery                                                 1\n",
              "Action|Adventure|Comedy|Family|Romance|Sci-Fi                         1\n",
              "Adventure|Animation|Drama|Family|Fantasy                              1\n",
              "Drama|Fantasy|Horror|Mystery                                          1\n",
              "Adventure|Animation|Family|Musical                                    1\n",
              "Adventure|Crime|Drama|Mystery|Western                                 1\n",
              "Animation|Comedy|Drama|Fantasy|Sci-Fi                                 1\n",
              "Biography|Comedy|Drama|History|Music                                  1\n",
              "Action|Adventure|Family|Fantasy|Sci-Fi|Thriller                       1\n",
              "Action|Biography|Drama|History|Romance|War                            1\n",
              "Action|Comedy|Romance|Thriller                                        1\n",
              "Drama|History|Horror                                                  1\n",
              "Action|Adventure|Family|Fantasy|Romance                               1\n",
              "Comedy|Crime|Drama|Thriller|War                                       1\n",
              "Action|Fantasy|Romance|Sci-Fi                                         1\n",
              "Action|Biography|Drama|Thriller|War                                   1\n",
              "Action|Adventure|Comedy|Sci-Fi|Thriller                               1\n",
              "Adventure|Crime|Drama|Romance                                         1\n",
              "Action|Biography|Drama|History|War                                    1\n",
              "Adventure|Biography|Drama|Horror|Thriller                             1\n",
              "Action|Biography|Crime|Drama|Thriller                                 1\n",
              "Animation|Drama|Mystery|Sci-Fi|Thriller                               1\n",
              "Fantasy|Horror|Romance|Thriller                                       1\n",
              "Adventure|Comedy|Sport                                                1\n",
              "Action|Adventure|Drama|Family                                         1\n",
              "Adventure|Comedy|Crime|Music                                          1\n",
              "Adventure|War|Western                                                 1\n",
              "Comedy|Drama|Fantasy|Music|Romance                                    1\n",
              "Action|Adventure|Comedy|Fantasy|Thriller                              1\n",
              "Biography|Documentary|History                                         1\n",
              "Comedy|Crime|Horror                                                   1\n",
              "Animation|Comedy|Fantasy|Musical                                      1\n",
              "Drama|Family|Music|Musical                                            1\n",
              "Action|Adventure|Drama|Romance|War                                    1\n",
              "Comedy|Romance|Sci-Fi|Thriller                                        1\n",
              "Adventure|Drama|Family|Mystery                                        1\n",
              "Animation|Comedy|Drama                                                1\n",
              "Action|Drama|Fantasy|Horror|War                                       1\n",
              "Action|Drama|Sport|Thriller                                           1\n",
              "Comedy|Family|Fantasy|Music|Romance                                   1\n",
              "Action|Adventure|Animation|Family|Fantasy|Sci-Fi                      1\n",
              "Biography|Crime|Drama|Mystery|Thriller                                1\n",
              "Action|Crime|Horror|Sci-Fi|Thriller                                   1\n",
              "Adventure|Documentary|Short                                           1\n",
              "Biography|Crime|Drama|History|Thriller                                1\n",
              "Comedy|Documentary|War                                                1\n",
              "Adventure|Fantasy|Mystery                                             1\n",
              "Comedy|Documentary|Drama                                              1\n",
              "Action|Comedy|Documentary                                             1\n",
              "Action|Comedy|Crime|Music|Romance|Thriller                            1\n",
              "Action|Comedy|Sci-Fi|Western                                          1\n",
              "Comedy|Crime|Drama|Horror|Thriller                                    1\n",
              "Action|Adventure|Crime|Drama|Romance                                  1\n",
              "Family|Music|Romance                                                  1\n",
              "Action|Biography|Drama|History|Thriller|War                           1\n",
              "Action|Fantasy|Horror|Mystery                                         1\n",
              "Drama|History|Romance                                                 1\n",
              "Action|Biography|Drama                                                1\n",
              "Crime|Drama|Musical|Romance                                           1\n",
              "Biography|Drama|Family|Sport                                          1\n",
              "Action|Adventure|Family|Thriller                                      1\n",
              "Comedy|Drama|Mystery|Romance|Thriller|War                             1\n",
              "Fantasy|Horror|Mystery|Romance                                        1\n",
              "Action|Western                                                        1\n",
              "Adventure|Animation|Comedy|Drama|Family|Fantasy|Sci-Fi                1\n",
              "Biography|Crime|Drama|History                                         1\n",
              "Comedy|Family|Music|Musical                                           1\n",
              "Adventure|Comedy|Drama|Fantasy|Romance                                1\n",
              "Adventure|Biography|Drama|War                                         1\n",
              "Drama|Fantasy|Sci-Fi                                                  1\n",
              "Adventure|Fantasy|Mystery|Thriller                                    1\n",
              "Adventure|Comedy|Drama|Music                                          1\n",
              "Adventure|Comedy|Music|Sci-Fi                                         1\n",
              "Adventure|Horror|Mystery                                              1\n",
              "Action|Crime|Drama|Western                                            1\n",
              "Biography|Comedy|Drama|History|Music|Musical                          1\n",
              "Crime|Documentary|Drama                                               1\n",
              "Adventure|Fantasy|Horror|Mystery|Thriller                             1\n",
              "Adventure|Animation|Comedy|Crime|Family                               1\n",
              "Action|Biography|Documentary|Sport                                    1\n",
              "Action|Comedy|Mystery                                                 1\n",
              "Biography|Crime|Drama|History|Romance                                 1\n",
              "Comedy|Family|Fantasy|Horror|Mystery                                  1\n",
              "Adventure|Animation|Comedy|Family|War                                 1\n",
              "Adventure|Biography                                                   1\n",
              "Comedy|Drama|Thriller                                                 1\n",
              "Action|Adventure|Comedy|Drama|Thriller                                1\n",
              "Action|Adventure|Crime|Drama|Mystery|Thriller                         1\n",
              "Adventure|Animation|Comedy|Drama|Family|Fantasy|Musical               1\n",
              "Crime|Drama|Mystery|Romance                                           1\n",
              "Comedy|Family|Romance|Sci-Fi                                          1\n",
              "Action|Animation|Comedy|Family                                        1\n",
              "Comedy|Family|Romance|Sport                                           1\n",
              "Crime|Drama|History|Mystery|Thriller                                  1\n",
              "Comedy|Family|Music                                                   1\n",
              "Drama|Family|Musical                                                  1\n",
              "Drama|Music|Mystery|Romance                                           1\n",
              "Adventure|Animation|Fantasy                                           1\n",
              "Action|Adventure|Fantasy|Horror|Thriller                              1\n",
              "Action|Drama|Sci-Fi                                                   1\n",
              "Action|Adventure|Drama|Romance|Sci-Fi                                 1\n",
              "Action|Drama|Romance|Thriller                                         1\n",
              "Action|Animation|Comedy|Sci-Fi                                        1\n",
              "Biography|Drama|Family                                                1\n",
              "Action|Fantasy|Horror|Sci-Fi                                          1\n",
              "Adventure|Comedy|Family|Fantasy|Horror|Mystery                        1\n",
              "Action|Adventure|Romance|Sci-Fi                                       1\n",
              "Crime|Fantasy|Horror                                                  1\n",
              "Drama|Music|Mystery|Romance|Thriller                                  1\n",
              "Adventure|Comedy|Fantasy|Music|Sci-Fi                                 1\n",
              "Adventure|Animation|Family|Western                                    1\n",
              "Action|Fantasy|Western                                                1\n",
              "Animation|Drama|Family|Fantasy|Musical|Romance                        1\n",
              "Action|Horror|Romance                                                 1\n",
              "Comedy|Family|Fantasy|Sport                                           1\n",
              "Action|Drama|Sci-Fi|Sport                                             1\n",
              "Animation|Drama|Family|Fantasy                                        1\n",
              "Action|Thriller|Western                                               1\n",
              "Adventure|Comedy|Romance|Sci-Fi                                       1\n",
              "Adventure|Animation|Family|Fantasy|Musical|War                        1\n",
              "Action|Adventure|Biography|Drama|History|Thriller                     1\n",
              "Biography|Documentary|Sport                                           1\n",
              "Animation|Comedy|Drama|Romance                                        1\n",
              "Comedy|Crime|Musical|Romance                                          1\n",
              "Family|Sci-Fi                                                         1\n",
              "Adventure|Biography|Crime|Drama|Western                               1\n",
              "Biography|Drama|History|Musical                                       1\n",
              "Adventure|Comedy|Horror                                               1\n",
              "Crime|Drama|History|Romance                                           1\n",
              "Drama|Fantasy|Romance|Thriller                                        1\n",
              "Action|Comedy|Drama|Music                                             1\n",
              "Action|Adventure|Drama|War                                            1\n",
              "Adventure|Comedy|Crime|Drama|Family                                   1\n",
              "Drama|History|War|Western                                             1\n",
              "Action|Comedy|Crime|Drama                                             1\n",
              "Biography|Crime|Drama|History|Music                                   1\n",
              "Action|Crime|Drama|Thriller|War                                       1\n",
              "Action|Comedy|Drama|War                                               1\n",
              "Adventure|Animation|Comedy|Drama|Family|Fantasy                       1\n",
              "Crime|Drama|Fantasy|Mystery                                           1\n",
              "Fantasy|Horror|Sci-Fi                                                 1\n",
              "Comedy|Fantasy|Thriller                                               1\n",
              "Comedy|Drama|Music|Musical                                            1\n",
              "Action|Comedy|Fantasy|Romance                                         1\n",
              "Drama|Family|Western                                                  1\n",
              "Action|Adventure|Comedy|Family                                        1\n",
              "Action|Adventure|Drama|Mystery                                        1\n",
              "Action|Adventure|Animation|Family|Sci-Fi|Thriller                     1\n",
              "Family|Fantasy|Music                                                  1\n",
              "Action|Drama|Horror|Thriller                                          1\n",
              "Biography|Drama|Family|Musical|Romance                                1\n",
              "Comedy|Crime|Musical|Mystery                                          1\n",
              "Comedy|Family|Fantasy|Musical                                         1\n",
              "Adventure|Drama|Horror|Thriller                                       1\n",
              "Action|Adventure|Animation|Comedy|Fantasy                             1\n",
              "Action|Sport                                                          1\n",
              "Comedy|Drama|Music|War                                                1\n",
              "Animation|Comedy|Drama|Family|Musical                                 1\n",
              "Biography|Drama|Sport|War                                             1\n",
              "Action|Adventure|Comedy|Crime|Music|Mystery                           1\n",
              "Action|War                                                            1\n",
              "Crime|Documentary                                                     1\n",
              "Biography|Comedy|Drama|Family|Sport                                   1\n",
              "Adventure|Sci-Fi                                                      1\n",
              "Action|Adventure|Drama|Romance|Western                                1\n",
              "Adventure|Animation|Comedy|Crime                                      1\n",
              "Adventure|Comedy|Musical|Romance                                      1\n",
              "Biography|Crime|Drama|Western                                         1\n",
              "Comedy|Mystery|Romance                                                1\n",
              "Crime|Drama|Film-Noir|Mystery|Thriller                                1\n",
              "Action|Comedy|Crime|Music                                             1\n",
              "Action|Adventure|Family|Sci-Fi|Thriller                               1\n",
              "Biography|Crime|Drama|Romance|Thriller                                1\n",
              "Adventure|Comedy|Family|Musical                                       1\n",
              "Animation|Comedy|Crime|Drama|Family                                   1\n",
              "Adventure|Comedy|Horror|Sci-Fi                                        1\n",
              "Drama|Fantasy|Mystery|Romance|Thriller                                1\n",
              "Comedy|Fantasy|Musical|Sci-Fi                                         1\n",
              "Drama|Musical|Romance|Thriller                                        1\n",
              "Action|Comedy|Crime|Sci-Fi|Thriller                                   1\n",
              "Action|Adventure|Animation|Drama|Mystery|Sci-Fi|Thriller              1\n",
              "Crime|Drama|Sport                                                     1\n",
              "Comedy|Family|Musical|Romance|Short                                   1\n",
              "Action|Drama|History|Romance|War|Western                              1\n",
              "Comedy|Horror|Musical|Sci-Fi                                          1\n",
              "Action|Adventure|Comedy|Family|Fantasy                                1\n",
              "Comedy|Crime|Mystery|Romance                                          1\n",
              "Action|Crime|Drama|Mystery|Sci-Fi|Thriller                            1\n",
              "Crime|Thriller|War                                                    1\n",
              "Animation|Biography|Documentary|Drama|History|War                     1\n",
              "Drama|History|Romance|Western                                         1\n",
              "Adventure|Animation|Comedy|Family|Western                             1\n",
              "Drama|Music|Musical                                                   1\n",
              "Drama|Mystery|War                                                     1\n",
              "Action|Drama|Mystery|Sci-Fi                                           1\n",
              "Animation|Comedy|Family|Fantasy|Mystery                               1\n",
              "Biography|Documentary                                                 1\n",
              "Action|Family|Fantasy|Musical                                         1\n",
              "Action|Adventure|Fantasy|War                                          1\n",
              "Adventure|Crime|Drama|Western                                         1\n",
              "Action|Adventure|Comedy|Fantasy|Mystery                               1\n",
              "Action|Drama|Fantasy|Romance                                          1\n",
              "Adventure|Comedy|Drama|Romance|Sci-Fi                                 1\n",
              "Action|Adventure|Animation|Family                                     1\n",
              "Biography|Crime|Drama|History|Western                                 1\n",
              "Action|Comedy|War                                                     1\n",
              "Action|Crime|Sci-Fi                                                   1\n",
              "Biography|Comedy|Documentary                                          1\n",
              "Drama|Music|Romance|War                                               1\n",
              "Comedy|Documentary|Music                                              1\n",
              "Comedy|Crime|Drama|Mystery|Thriller                                   1\n",
              "Action|Biography|Drama|History                                        1\n",
              "Adventure|Comedy|Family|Sci-Fi                                        1\n",
              "Action|Adventure|Comedy|Drama|War                                     1\n",
              "Crime|Horror|Music|Thriller                                           1\n",
              "Action|Fantasy|Sci-Fi|Thriller                                        1\n",
              "Crime|Drama|Music|Romance                                             1\n",
              "Adventure|Biography|Drama|History|Sport|Thriller                      1\n",
              "Adventure|Comedy|Family|Mystery|Sci-Fi                                1\n",
              "Action|Animation|Comedy|Crime|Family                                  1\n",
              "Comedy|Family|Musical|Romance                                         1\n",
              "Action|Adventure|Animation|Comedy|Crime|Family|Fantasy                1\n",
              "Action|Adventure|Comedy|Family|Romance                                1\n",
              "Adventure|Drama|History|Romance|War                                   1\n",
              "Adventure|Animation|Comedy|Fantasy|Romance                            1\n",
              "Action|Adventure|Romance|Thriller                                     1\n",
              "Adventure|Comedy|Sci-Fi|Western                                       1\n",
              "Adventure|Animation|Comedy                                            1\n",
              "Drama|Mystery|Romance|Thriller|War                                    1\n",
              "Drama|Fantasy|Music|Romance                                           1\n",
              "Animation|Comedy|Family|Horror|Sci-Fi                                 1\n",
              "Comedy|Mystery|Sci-Fi|Thriller                                        1\n",
              "Adventure|Comedy|Family|Fantasy|Musical                               1\n",
              "Action|Adventure|Drama|Thriller|War                                   1\n",
              "Adventure|Comedy|Family|Fantasy|Romance|Sport                         1\n",
              "Action|Crime|Drama|History|Western                                    1\n",
              "Comedy|Family|Fantasy|Sci-Fi                                          1\n",
              "Action|Adventure|Comedy|Crime|Family|Romance|Thriller                 1\n",
              "Adventure|Animation|Biography|Drama|Family|Fantasy|Musical            1\n",
              "Action|Drama|Fantasy|Mystery|Sci-Fi|Thriller                          1\n",
              "Comedy|Drama|Romance|Sci-Fi                                           1\n",
              "Adventure|Animation|Comedy|Family|Fantasy|Sci-Fi|Sport                1\n",
              "Action|Adventure|Drama|History|Romance|War                            1\n",
              "Comedy|Drama|Fantasy|Horror                                           1\n",
              "Adventure|Comedy|Drama|Fantasy|Musical                                1\n",
              "Adventure|Comedy|Drama|Romance|Thriller|War                           1\n",
              "Adventure|Drama|Horror|Mystery|Thriller                               1\n",
              "Action|Adventure|Comedy|Crime|Mystery|Thriller                        1\n",
              "Comedy|Crime|Sport                                                    1\n",
              "Biography|Crime|Drama|War                                             1\n",
              "Action|Crime|Mystery|Sci-Fi|Thriller                                  1\n",
              "Action|Adventure|Drama|Thriller|Western                               1\n",
              "Comedy|Drama|Musical|Romance|War                                      1\n",
              "Action|Comedy|Crime|Family                                            1\n",
              "Adventure|Comedy|Crime|Family|Mystery                                 1\n",
              "Animation|Comedy|Family|Sport                                         1\n",
              "Adventure|Comedy|Drama|Family|Romance                                 1\n",
              "Adventure|Documentary                                                 1\n",
              "Action|Adventure|Comedy|Crime|Thriller                                1\n",
              "Action|Adventure|Comedy|Music|Thriller                                1\n",
              "Action|Biography|Drama|History|Romance|Western                        1\n",
              "Action|Fantasy|Horror|Mystery|Thriller                                1\n",
              "Adventure|Comedy|Drama|Family                                         1\n",
              "Action|Adventure|Fantasy|Horror|Sci-Fi                                1\n",
              "Action|Crime|Fantasy|Romance|Thriller                                 1\n",
              "Fantasy|Thriller                                                      1\n",
              "Action|Adventure|Comedy|Drama|Music|Sci-Fi                            1\n",
              "Animation|Comedy|Family|Fantasy|Sci-Fi                                1\n",
              "Adventure|Comedy|Drama|Fantasy                                        1\n",
              "Animation|Comedy|Family|Musical                                       1\n",
              "Animation|Comedy|Family|Music|Romance                                 1\n",
              "Action|Adventure|Animation|Comedy|Fantasy|Sci-Fi                      1\n",
              "Action|Drama|Romance|Sci-Fi|Thriller                                  1\n",
              "Action|Adventure|Animation|Family|Fantasy                             1\n",
              "Fantasy|Mystery|Romance|Sci-Fi|Thriller                               1\n",
              "Comedy|Romance|Thriller                                               1\n",
              "Crime|Horror                                                          1\n",
              "Crime|Romance|Thriller                                                1\n",
              "Biography|Drama|History|Music                                         1\n",
              "Crime|Drama|Mystery|Sci-Fi|Thriller                                   1\n",
              "Drama|Fantasy|Sport                                                   1\n",
              "Adventure|Comedy|Crime|Family|Musical                                 1\n",
              "Drama|Fantasy|Mystery|Romance                                         1\n",
              "Crime|Drama|Music|Thriller                                            1\n",
              "Biography|Drama|Family|History|Sport                                  1\n",
              "Action|Crime|Drama|Sport                                              1\n",
              "Action|Drama|Fantasy|Horror|Thriller                                  1\n",
              "Comedy|Crime|Musical                                                  1\n",
              "Comedy|Drama|Family|Musical                                           1\n",
              "Comedy|Drama|Family|Fantasy|Musical                                   1\n",
              "Comedy|Crime|Family|Romance                                           1\n",
              "Action|Drama|Mystery|Thriller|War                                     1\n",
              "Comedy|Drama|Romance|War                                              1\n",
              "Adventure|Comedy|Romance                                              1\n",
              "Biography|Comedy|Crime|Drama|Romance                                  1\n",
              "Animation|Family|Fantasy|Musical|Romance                              1\n",
              "Action|Adventure|Biography|Drama|History|Romance|War                  1\n",
              "Adventure|Drama|History|Romance                                       1\n",
              "Adventure|Animation|Comedy|Drama|Family|Fantasy|Romance               1\n",
              "Action|Horror|Mystery|Sci-Fi|Thriller                                 1\n",
              "Comedy|Drama|Family|Fantasy|Sci-Fi                                    1\n",
              "Adventure|Drama|Thriller|War                                          1\n",
              "Action|Adventure|Comedy|Romance|Thriller                              1\n",
              "Animation|Comedy|Family|Fantasy|Musical|Romance                       1\n",
              "Animation|Drama|Family|Musical|Romance                                1\n",
              "Biography|Crime|Drama|Music                                           1\n",
              "Action|Adventure|Crime|Drama|Family|Fantasy|Romance|Thriller          1\n",
              "Drama|Family|Music|Romance                                            1\n",
              "Adventure|Horror|Sci-Fi                                               1\n",
              "Action|Animation|Sci-Fi                                               1\n",
              "Action|Adventure|Animation|Fantasy                                    1\n",
              "Biography|Comedy|Musical|Romance|Western                              1\n",
              "Crime|Drama|Fantasy                                                   1\n",
              "Action|Family|Sport                                                   1\n",
              "Action|Adventure|Comedy|Musical                                       1\n",
              "Drama|History|Music|Romance|War                                       1\n",
              "Crime|Drama|Western                                                   1\n",
              "Biography|Drama|History|Thriller|War                                  1\n",
              "Action|Comedy|Drama|Family|Thriller                                   1\n",
              "Action|Comedy|Crime|Fantasy|Horror|Mystery|Sci-Fi|Thriller            1\n",
              "Action|Drama|Music|Romance                                            1\n",
              "Fantasy|Horror|Romance                                                1\n",
              "Adventure|Comedy|Fantasy|Sci-Fi                                       1\n",
              "Action|Drama|Mystery|Thriller                                         1\n",
              "Action|Adventure|Fantasy|Horror                                       1\n",
              "Comedy|Sci-Fi|Thriller                                                1\n",
              "Action|Adventure|Family|Mystery                                       1\n",
              "Action|Adventure|Crime|Fantasy|Mystery|Thriller                       1\n",
              "Biography|Crime|Documentary|History                                   1\n",
              "Adventure|Comedy|Crime|Romance                                        1\n",
              "Animation|Comedy|Fantasy                                              1\n",
              "Biography|Comedy|Musical                                              1\n",
              "Animation|Family|Fantasy                                              1\n",
              "Crime|Drama|Musical|Romance|Thriller                                  1\n",
              "Crime|Drama|Fantasy|Romance                                           1\n",
              "Sci-Fi                                                                1\n",
              "Action|Adventure|Family|Fantasy|Thriller                              1\n",
              "Crime|Drama|History                                                   1\n",
              "Comedy|Crime|Family|Mystery|Romance|Thriller                          1\n",
              "Action|Sci-Fi|War                                                     1\n",
              "Documentary|Drama|Sport                                               1\n",
              "Adventure|Comedy|Family|Music|Romance                                 1\n",
              "Romance|Sci-Fi|Thriller                                               1\n",
              "Action|Adventure|Comedy|Romance                                       1\n",
              "Comedy|History                                                        1\n",
              "Action|Comedy|Drama|Thriller                                          1\n",
              "Action|Drama|Fantasy|Mystery|Thriller                                 1\n",
              "Comedy|Fantasy|Horror|Musical                                         1\n",
              "Fantasy|Romance                                                       1\n",
              "Comedy|Family|Music|Romance                                           1\n",
              "Adventure|Crime|Mystery|Sci-Fi|Thriller                               1\n",
              "Adventure|Comedy|Family|Fantasy|Music|Sci-Fi                          1\n",
              "Action|Adventure|Comedy|Romance|Thriller|Western                      1\n",
              "Action|Adventure|Drama|Romance|Thriller                               1\n",
              "Documentary|War                                                       1\n",
              "Adventure|Biography|Drama|History                                     1\n",
              "Adventure|Comedy|Crime|Drama                                          1\n",
              "Action|Animation|Sci-Fi|Thriller                                      1\n",
              "Action|Comedy|Mystery|Romance                                         1\n",
              "Action|Adventure|Family|Fantasy|Sci-Fi                                1\n",
              "Comedy|Crime|Family|Sci-Fi                                            1\n",
              "Adventure|Biography|Documentary|Drama                                 1\n",
              "Action|Adventure|Comedy|Family|Fantasy|Mystery|Sci-Fi                 1\n",
              "Crime|Drama|Mystery|Thriller|Western                                  1\n",
              "Drama|Horror|Mystery|Sci-Fi|Thriller                                  1\n",
              "Adventure|Family|Fantasy|Music|Musical                                1\n",
              "Adventure|Family|Fantasy|Sci-Fi                                       1\n",
              "Adventure|Family|Romance                                              1\n",
              "Action|Fantasy                                                        1\n",
              "Fantasy|Horror|Mystery                                                1\n",
              "Action|Comedy|Drama                                                   1\n",
              "Comedy|Crime|Drama|Sci-Fi                                             1\n",
              "Action|Adventure|Drama|Fantasy|War                                    1\n",
              "Animation|Family|Fantasy|Mystery                                      1\n",
              "Adventure|Animation|Drama|Family|Musical                              1\n",
              "Animation|Comedy|Family|Music|Western                                 1\n",
              "Adventure|Animation|Family|Thriller                                   1\n",
              "Adventure|Drama|Thriller|Western                                      1\n",
              "Documentary|Drama|War                                                 1\n",
              "Action|Comedy|Horror|Sci-Fi                                           1\n",
              "Action|Drama|Fantasy|Thriller|Western                                 1\n",
              "Crime|Documentary|War                                                 1\n",
              "Drama|Fantasy|War                                                     1\n",
              "Comedy|Drama|Horror                                                   1\n",
              "Action|Comedy|Music                                                   1\n",
              "Animation|Biography|Drama|War                                         1\n",
              "Action|Biography|Crime|Drama|Family|Fantasy                           1\n",
              "Name: genres, dtype: int64"
            ]
          },
          "metadata": {
            "tags": []
          },
          "execution_count": 186
        }
      ]
    },
    {
      "cell_type": "code",
      "metadata": {
        "colab": {
          "base_uri": "https://localhost:8080/",
          "height": 204
        },
        "id": "BthQQ8BrTEDf",
        "outputId": "5c1f7f95-b282-4d2a-d75f-4327af1c998a"
      },
      "source": [
        "#most of the movies have multiple genres, so lets keep at most four genres using.\n",
        "\n",
        "data['Moviegenres'] = data['genres'].str.split('|')\n",
        "data['Genre1'] = data['Moviegenres'].apply(lambda x: x[0])\n",
        "\n",
        "# Some of the movies have only one genre. In such cases, assign the same genre to 'genre_2' as well\n",
        "data['Genre2'] = data['Moviegenres'].apply(lambda x: x[1] if len(x) > 1 else x[0])\n",
        "data['Genre3'] = data['Moviegenres'].apply(lambda x: x[2] if len(x) > 2 else x[0])\n",
        "data['Genre4'] = data['Moviegenres'].apply(lambda x: x[3] if len(x) > 3 else x[0])\n",
        "\n",
        "data[['genres','Genre1','Genre2','Genre3','Genre4']].head(5)"
      ],
      "execution_count": 187,
      "outputs": [
        {
          "output_type": "execute_result",
          "data": {
            "text/html": [
              "<div>\n",
              "<style scoped>\n",
              "    .dataframe tbody tr th:only-of-type {\n",
              "        vertical-align: middle;\n",
              "    }\n",
              "\n",
              "    .dataframe tbody tr th {\n",
              "        vertical-align: top;\n",
              "    }\n",
              "\n",
              "    .dataframe thead th {\n",
              "        text-align: right;\n",
              "    }\n",
              "</style>\n",
              "<table border=\"1\" class=\"dataframe\">\n",
              "  <thead>\n",
              "    <tr style=\"text-align: right;\">\n",
              "      <th></th>\n",
              "      <th>genres</th>\n",
              "      <th>Genre1</th>\n",
              "      <th>Genre2</th>\n",
              "      <th>Genre3</th>\n",
              "      <th>Genre4</th>\n",
              "    </tr>\n",
              "  </thead>\n",
              "  <tbody>\n",
              "    <tr>\n",
              "      <th>0</th>\n",
              "      <td>Action|Adventure|Fantasy|Sci-Fi</td>\n",
              "      <td>Action</td>\n",
              "      <td>Adventure</td>\n",
              "      <td>Fantasy</td>\n",
              "      <td>Sci-Fi</td>\n",
              "    </tr>\n",
              "    <tr>\n",
              "      <th>1</th>\n",
              "      <td>Action|Adventure|Fantasy</td>\n",
              "      <td>Action</td>\n",
              "      <td>Adventure</td>\n",
              "      <td>Fantasy</td>\n",
              "      <td>Action</td>\n",
              "    </tr>\n",
              "    <tr>\n",
              "      <th>2</th>\n",
              "      <td>Action|Adventure|Thriller</td>\n",
              "      <td>Action</td>\n",
              "      <td>Adventure</td>\n",
              "      <td>Thriller</td>\n",
              "      <td>Action</td>\n",
              "    </tr>\n",
              "    <tr>\n",
              "      <th>3</th>\n",
              "      <td>Action|Thriller</td>\n",
              "      <td>Action</td>\n",
              "      <td>Thriller</td>\n",
              "      <td>Action</td>\n",
              "      <td>Action</td>\n",
              "    </tr>\n",
              "    <tr>\n",
              "      <th>5</th>\n",
              "      <td>Action|Adventure|Sci-Fi</td>\n",
              "      <td>Action</td>\n",
              "      <td>Adventure</td>\n",
              "      <td>Sci-Fi</td>\n",
              "      <td>Action</td>\n",
              "    </tr>\n",
              "  </tbody>\n",
              "</table>\n",
              "</div>"
            ],
            "text/plain": [
              "                            genres  Genre1     Genre2    Genre3  Genre4\n",
              "0  Action|Adventure|Fantasy|Sci-Fi  Action  Adventure   Fantasy  Sci-Fi\n",
              "1         Action|Adventure|Fantasy  Action  Adventure   Fantasy  Action\n",
              "2        Action|Adventure|Thriller  Action  Adventure  Thriller  Action\n",
              "3                  Action|Thriller  Action   Thriller    Action  Action\n",
              "5          Action|Adventure|Sci-Fi  Action  Adventure    Sci-Fi  Action"
            ]
          },
          "metadata": {
            "tags": []
          },
          "execution_count": 187
        }
      ]
    },
    {
      "cell_type": "markdown",
      "metadata": {
        "id": "k2FNmfNpTEDf"
      },
      "source": [
        "**Data Visualization**"
      ]
    },
    {
      "cell_type": "markdown",
      "metadata": {
        "id": "EaEnvc-XCMyF"
      },
      "source": [
        "## Social Media Popularity"
      ]
    },
    {
      "cell_type": "code",
      "metadata": {
        "id": "4RZi1cMYTEDf"
      },
      "source": [
        "#calculate socila media popularity of a movie by aggregating No. of voted users, No. of Users for Reviews, and Facebook Likes.\n",
        "\n",
        "data['Social_Media_Popularity'] = (data['num_user_for_reviews']/\n",
        "                                   data['num_voted_users'])*data['movie_facebook_likes']"
      ],
      "execution_count": 188,
      "outputs": []
    },
    {
      "cell_type": "markdown",
      "metadata": {
        "id": "udT4yrOUDQAw"
      },
      "source": [
        "## Top 10 Most Popular Movies on Social media"
      ]
    },
    {
      "cell_type": "code",
      "metadata": {
        "colab": {
          "base_uri": "https://localhost:8080/"
        },
        "id": "vmvROsVgDEmd",
        "outputId": "ce379b8f-b8c6-4014-bb03-1f2004a66a5b"
      },
      "source": [
        "x = data[['movie_title','Social_Media_Popularity']].sort_values(by = 'Social_Media_Popularity',\n",
        "                                                                ascending = False).head(10).reset_index()\n",
        "print(x)"
      ],
      "execution_count": 189,
      "outputs": [
        {
          "output_type": "stream",
          "text": [
            "   index                          movie_title  Social_Media_Popularity\n",
            "0     10  Batman v Superman: Dawn of Justice               1599.794424\n",
            "1    150                        Ghostbusters               1076.336425\n",
            "2   1582                        Ghostbusters               1075.827482\n",
            "3     96                        Interstellar               1024.560802\n",
            "4   3015               10 Days in a Madhouse                828.025478\n",
            "5    945                      Into the Woods                692.937200\n",
            "6     73                       Suicide Squad                652.816996\n",
            "7   1190                Fifty Shades of Grey                624.306881\n",
            "8    108                            Warcraft                622.790277\n",
            "9     92        Independence Day: Resurgence                599.274128\n"
          ],
          "name": "stdout"
        }
      ]
    },
    {
      "cell_type": "markdown",
      "metadata": {
        "id": "issksmqZ1tRi"
      },
      "source": [
        "Batman v Superman: Dawn of Justice is the most popular movie on social media."
      ]
    },
    {
      "cell_type": "code",
      "metadata": {
        "colab": {
          "base_uri": "https://localhost:8080/",
          "height": 810
        },
        "id": "6-8BKI2dDdiQ",
        "outputId": "06405fdf-99da-4d40-a155-9ebc83697c4c"
      },
      "source": [
        "sns.barplot(x['movie_title'], x['Social_Media_Popularity'], palette = 'magma')\n",
        "plt.title('Top 10 Most Popular Movies on Social Media', fontsize = 20)\n",
        "plt.xticks(rotation = 90, fontsize = 14)\n",
        "plt.xlabel(' ')\n",
        "plt.show()"
      ],
      "execution_count": 190,
      "outputs": [
        {
          "output_type": "display_data",
          "data": {
            "image/png": "[encoded data removed]",
            "text/plain": [
              "<Figure size 1152x576 with 1 Axes>"
            ]
          },
          "metadata": {
            "tags": []
          }
        }
      ]
    },
    {
      "cell_type": "markdown",
      "metadata": {
        "id": "NUL1YRRDvpaA"
      },
      "source": [
        "## Comparison of Gross and Profit for Different Genres"
      ]
    },
    {
      "cell_type": "code",
      "metadata": {
        "colab": {
          "base_uri": "https://localhost:8080/",
          "height": 439
        },
        "id": "iTgSLUwmvgwS",
        "outputId": "ffc1800a-fd3f-4bdc-c107-258a87b50cfb"
      },
      "source": [
        "display(data[['Genre1','gross',]].groupby(['Genre1']).agg(['max','mean','min']).style.background_gradient(cmap = 'Wistia'))"
      ],
      "execution_count": 191,
      "outputs": [
        {
          "output_type": "display_data",
          "data": {
            "text/html": [
              "<style  type=\"text/css\" >\n",
              "#T_77ff4cf0_da3d_11eb_84e6_0242ac1c0002row0_col0,#T_77ff4cf0_da3d_11eb_84e6_0242ac1c0002row8_col1,#T_77ff4cf0_da3d_11eb_84e6_0242ac1c0002row11_col2{\n",
              "            background-color:  #fc7f00;\n",
              "            color:  #000000;\n",
              "        }#T_77ff4cf0_da3d_11eb_84e6_0242ac1c0002row0_col1{\n",
              "            background-color:  #ffbb00;\n",
              "            color:  #000000;\n",
              "        }#T_77ff4cf0_da3d_11eb_84e6_0242ac1c0002row0_col2,#T_77ff4cf0_da3d_11eb_84e6_0242ac1c0002row1_col2,#T_77ff4cf0_da3d_11eb_84e6_0242ac1c0002row4_col2,#T_77ff4cf0_da3d_11eb_84e6_0242ac1c0002row5_col2,#T_77ff4cf0_da3d_11eb_84e6_0242ac1c0002row6_col2,#T_77ff4cf0_da3d_11eb_84e6_0242ac1c0002row7_col2,#T_77ff4cf0_da3d_11eb_84e6_0242ac1c0002row9_col2,#T_77ff4cf0_da3d_11eb_84e6_0242ac1c0002row10_col2,#T_77ff4cf0_da3d_11eb_84e6_0242ac1c0002row15_col0,#T_77ff4cf0_da3d_11eb_84e6_0242ac1c0002row15_col1,#T_77ff4cf0_da3d_11eb_84e6_0242ac1c0002row15_col2{\n",
              "            background-color:  #e4ff7a;\n",
              "            color:  #000000;\n",
              "        }#T_77ff4cf0_da3d_11eb_84e6_0242ac1c0002row1_col0,#T_77ff4cf0_da3d_11eb_84e6_0242ac1c0002row8_col0{\n",
              "            background-color:  #ffb500;\n",
              "            color:  #000000;\n",
              "        }#T_77ff4cf0_da3d_11eb_84e6_0242ac1c0002row1_col1{\n",
              "            background-color:  #ffb300;\n",
              "            color:  #000000;\n",
              "        }#T_77ff4cf0_da3d_11eb_84e6_0242ac1c0002row2_col0{\n",
              "            background-color:  #ffc002;\n",
              "            color:  #000000;\n",
              "        }#T_77ff4cf0_da3d_11eb_84e6_0242ac1c0002row2_col1{\n",
              "            background-color:  #ffb100;\n",
              "            color:  #000000;\n",
              "        }#T_77ff4cf0_da3d_11eb_84e6_0242ac1c0002row2_col2,#T_77ff4cf0_da3d_11eb_84e6_0242ac1c0002row13_col2{\n",
              "            background-color:  #e7fd71;\n",
              "            color:  #000000;\n",
              "        }#T_77ff4cf0_da3d_11eb_84e6_0242ac1c0002row3_col0{\n",
              "            background-color:  #ffd911;\n",
              "            color:  #000000;\n",
              "        }#T_77ff4cf0_da3d_11eb_84e6_0242ac1c0002row3_col1{\n",
              "            background-color:  #fee91d;\n",
              "            color:  #000000;\n",
              "        }#T_77ff4cf0_da3d_11eb_84e6_0242ac1c0002row3_col2,#T_77ff4cf0_da3d_11eb_84e6_0242ac1c0002row12_col2,#T_77ff4cf0_da3d_11eb_84e6_0242ac1c0002row14_col2{\n",
              "            background-color:  #e4ff78;\n",
              "            color:  #000000;\n",
              "        }#T_77ff4cf0_da3d_11eb_84e6_0242ac1c0002row4_col0{\n",
              "            background-color:  #ffc907;\n",
              "            color:  #000000;\n",
              "        }#T_77ff4cf0_da3d_11eb_84e6_0242ac1c0002row4_col1{\n",
              "            background-color:  #ffe81a;\n",
              "            color:  #000000;\n",
              "        }#T_77ff4cf0_da3d_11eb_84e6_0242ac1c0002row5_col0,#T_77ff4cf0_da3d_11eb_84e6_0242ac1c0002row11_col0{\n",
              "            background-color:  #fee91e;\n",
              "            color:  #000000;\n",
              "        }#T_77ff4cf0_da3d_11eb_84e6_0242ac1c0002row5_col1{\n",
              "            background-color:  #fbeb27;\n",
              "            color:  #000000;\n",
              "        }#T_77ff4cf0_da3d_11eb_84e6_0242ac1c0002row6_col0{\n",
              "            background-color:  #f5f13e;\n",
              "            color:  #000000;\n",
              "        }#T_77ff4cf0_da3d_11eb_84e6_0242ac1c0002row6_col1{\n",
              "            background-color:  #eef757;\n",
              "            color:  #000000;\n",
              "        }#T_77ff4cf0_da3d_11eb_84e6_0242ac1c0002row7_col0{\n",
              "            background-color:  #fe9100;\n",
              "            color:  #000000;\n",
              "        }#T_77ff4cf0_da3d_11eb_84e6_0242ac1c0002row7_col1{\n",
              "            background-color:  #faec2c;\n",
              "            color:  #000000;\n",
              "        }#T_77ff4cf0_da3d_11eb_84e6_0242ac1c0002row8_col2{\n",
              "            background-color:  #ff9f00;\n",
              "            color:  #000000;\n",
              "        }#T_77ff4cf0_da3d_11eb_84e6_0242ac1c0002row9_col0{\n",
              "            background-color:  #f2f348;\n",
              "            color:  #000000;\n",
              "        }#T_77ff4cf0_da3d_11eb_84e6_0242ac1c0002row9_col1{\n",
              "            background-color:  #ffe418;\n",
              "            color:  #000000;\n",
              "        }#T_77ff4cf0_da3d_11eb_84e6_0242ac1c0002row10_col0{\n",
              "            background-color:  #ffe518;\n",
              "            color:  #000000;\n",
              "        }#T_77ff4cf0_da3d_11eb_84e6_0242ac1c0002row10_col1{\n",
              "            background-color:  #fdea21;\n",
              "            color:  #000000;\n",
              "        }#T_77ff4cf0_da3d_11eb_84e6_0242ac1c0002row11_col1{\n",
              "            background-color:  #ffaf00;\n",
              "            color:  #000000;\n",
              "        }#T_77ff4cf0_da3d_11eb_84e6_0242ac1c0002row12_col0{\n",
              "            background-color:  #ffe216;\n",
              "            color:  #000000;\n",
              "        }#T_77ff4cf0_da3d_11eb_84e6_0242ac1c0002row12_col1{\n",
              "            background-color:  #ffdb12;\n",
              "            color:  #000000;\n",
              "        }#T_77ff4cf0_da3d_11eb_84e6_0242ac1c0002row13_col0{\n",
              "            background-color:  #edf75a;\n",
              "            color:  #000000;\n",
              "        }#T_77ff4cf0_da3d_11eb_84e6_0242ac1c0002row13_col1{\n",
              "            background-color:  #f3f245;\n",
              "            color:  #000000;\n",
              "        }#T_77ff4cf0_da3d_11eb_84e6_0242ac1c0002row14_col0{\n",
              "            background-color:  #eff653;\n",
              "            color:  #000000;\n",
              "        }#T_77ff4cf0_da3d_11eb_84e6_0242ac1c0002row14_col1{\n",
              "            background-color:  #f7ef38;\n",
              "            color:  #000000;\n",
              "        }#T_77ff4cf0_da3d_11eb_84e6_0242ac1c0002row16_col0{\n",
              "            background-color:  #eafa66;\n",
              "            color:  #000000;\n",
              "        }#T_77ff4cf0_da3d_11eb_84e6_0242ac1c0002row16_col1{\n",
              "            background-color:  #eff551;\n",
              "            color:  #000000;\n",
              "        }#T_77ff4cf0_da3d_11eb_84e6_0242ac1c0002row16_col2{\n",
              "            background-color:  #edf759;\n",
              "            color:  #000000;\n",
              "        }</style><table id=\"T_77ff4cf0_da3d_11eb_84e6_0242ac1c0002\" ><thead>    <tr>        <th class=\"blank level0\" ></th>        <th class=\"col_heading level0 col0\" colspan=3>gross</th>    </tr>    <tr>        <th class=\"blank level1\" ></th>        <th class=\"col_heading level1 col0\" >max</th>        <th class=\"col_heading level1 col1\" >mean</th>        <th class=\"col_heading level1 col2\" >min</th>    </tr>    <tr>        <th class=\"index_name level0\" >Genre1</th>        <th class=\"blank\" ></th>        <th class=\"blank\" ></th>        <th class=\"blank\" ></th>    </tr></thead><tbody>\n",
              "                <tr>\n",
              "                        <th id=\"T_77ff4cf0_da3d_11eb_84e6_0242ac1c0002level0_row0\" class=\"row_heading level0 row0\" >Action</th>\n",
              "                        <td id=\"T_77ff4cf0_da3d_11eb_84e6_0242ac1c0002row0_col0\" class=\"data row0 col0\" >760.505847</td>\n",
              "                        <td id=\"T_77ff4cf0_da3d_11eb_84e6_0242ac1c0002row0_col1\" class=\"data row0 col1\" >76.584686</td>\n",
              "                        <td id=\"T_77ff4cf0_da3d_11eb_84e6_0242ac1c0002row0_col2\" class=\"data row0 col2\" >0.000162</td>\n",
              "            </tr>\n",
              "            <tr>\n",
              "                        <th id=\"T_77ff4cf0_da3d_11eb_84e6_0242ac1c0002level0_row1\" class=\"row_heading level0 row1\" >Adventure</th>\n",
              "                        <td id=\"T_77ff4cf0_da3d_11eb_84e6_0242ac1c0002row1_col0\" class=\"data row1 col0\" >436.471036</td>\n",
              "                        <td id=\"T_77ff4cf0_da3d_11eb_84e6_0242ac1c0002row1_col1\" class=\"data row1 col1\" >87.827145</td>\n",
              "                        <td id=\"T_77ff4cf0_da3d_11eb_84e6_0242ac1c0002row1_col2\" class=\"data row1 col2\" >0.004091</td>\n",
              "            </tr>\n",
              "            <tr>\n",
              "                        <th id=\"T_77ff4cf0_da3d_11eb_84e6_0242ac1c0002level0_row2\" class=\"row_heading level0 row2\" >Animation</th>\n",
              "                        <td id=\"T_77ff4cf0_da3d_11eb_84e6_0242ac1c0002row2_col0\" class=\"data row2 col0\" >368.049635</td>\n",
              "                        <td id=\"T_77ff4cf0_da3d_11eb_84e6_0242ac1c0002row2_col1\" class=\"data row2 col1\" >89.873480</td>\n",
              "                        <td id=\"T_77ff4cf0_da3d_11eb_84e6_0242ac1c0002row2_col2\" class=\"data row2 col2\" >0.071442</td>\n",
              "            </tr>\n",
              "            <tr>\n",
              "                        <th id=\"T_77ff4cf0_da3d_11eb_84e6_0242ac1c0002level0_row3\" class=\"row_heading level0 row3\" >Biography</th>\n",
              "                        <td id=\"T_77ff4cf0_da3d_11eb_84e6_0242ac1c0002row3_col0\" class=\"data row3 col0\" >255.950375</td>\n",
              "                        <td id=\"T_77ff4cf0_da3d_11eb_84e6_0242ac1c0002row3_col1\" class=\"data row3 col1\" >36.431983</td>\n",
              "                        <td id=\"T_77ff4cf0_da3d_11eb_84e6_0242ac1c0002row3_col2\" class=\"data row3 col2\" >0.012836</td>\n",
              "            </tr>\n",
              "            <tr>\n",
              "                        <th id=\"T_77ff4cf0_da3d_11eb_84e6_0242ac1c0002level0_row4\" class=\"row_heading level0 row4\" >Comedy</th>\n",
              "                        <td id=\"T_77ff4cf0_da3d_11eb_84e6_0242ac1c0002row4_col0\" class=\"data row4 col0\" >329.691196</td>\n",
              "                        <td id=\"T_77ff4cf0_da3d_11eb_84e6_0242ac1c0002row4_col1\" class=\"data row4 col1\" >37.611935</td>\n",
              "                        <td id=\"T_77ff4cf0_da3d_11eb_84e6_0242ac1c0002row4_col2\" class=\"data row4 col2\" >0.000703</td>\n",
              "            </tr>\n",
              "            <tr>\n",
              "                        <th id=\"T_77ff4cf0_da3d_11eb_84e6_0242ac1c0002level0_row5\" class=\"row_heading level0 row5\" >Crime</th>\n",
              "                        <td id=\"T_77ff4cf0_da3d_11eb_84e6_0242ac1c0002row5_col0\" class=\"data row5 col0\" >183.405771</td>\n",
              "                        <td id=\"T_77ff4cf0_da3d_11eb_84e6_0242ac1c0002row5_col1\" class=\"data row5 col1\" >32.223226</td>\n",
              "                        <td id=\"T_77ff4cf0_da3d_11eb_84e6_0242ac1c0002row5_col2\" class=\"data row5 col2\" >0.001111</td>\n",
              "            </tr>\n",
              "            <tr>\n",
              "                        <th id=\"T_77ff4cf0_da3d_11eb_84e6_0242ac1c0002level0_row6\" class=\"row_heading level0 row6\" >Documentary</th>\n",
              "                        <td id=\"T_77ff4cf0_da3d_11eb_84e6_0242ac1c0002row6_col0\" class=\"data row6 col0\" >119.078393</td>\n",
              "                        <td id=\"T_77ff4cf0_da3d_11eb_84e6_0242ac1c0002row6_col1\" class=\"data row6 col1\" >13.704278</td>\n",
              "                        <td id=\"T_77ff4cf0_da3d_11eb_84e6_0242ac1c0002row6_col2\" class=\"data row6 col2\" >0.005858</td>\n",
              "            </tr>\n",
              "            <tr>\n",
              "                        <th id=\"T_77ff4cf0_da3d_11eb_84e6_0242ac1c0002level0_row7\" class=\"row_heading level0 row7\" >Drama</th>\n",
              "                        <td id=\"T_77ff4cf0_da3d_11eb_84e6_0242ac1c0002row7_col0\" class=\"data row7 col0\" >658.672302</td>\n",
              "                        <td id=\"T_77ff4cf0_da3d_11eb_84e6_0242ac1c0002row7_col1\" class=\"data row7 col1\" >30.778967</td>\n",
              "                        <td id=\"T_77ff4cf0_da3d_11eb_84e6_0242ac1c0002row7_col2\" class=\"data row7 col2\" >0.002580</td>\n",
              "            </tr>\n",
              "            <tr>\n",
              "                        <th id=\"T_77ff4cf0_da3d_11eb_84e6_0242ac1c0002level0_row8\" class=\"row_heading level0 row8\" >Family</th>\n",
              "                        <td id=\"T_77ff4cf0_da3d_11eb_84e6_0242ac1c0002row8_col0\" class=\"data row8 col0\" >434.949459</td>\n",
              "                        <td id=\"T_77ff4cf0_da3d_11eb_84e6_0242ac1c0002row8_col1\" class=\"data row8 col1\" >149.160478</td>\n",
              "                        <td id=\"T_77ff4cf0_da3d_11eb_84e6_0242ac1c0002row8_col2\" class=\"data row8 col2\" >2.119994</td>\n",
              "            </tr>\n",
              "            <tr>\n",
              "                        <th id=\"T_77ff4cf0_da3d_11eb_84e6_0242ac1c0002level0_row9\" class=\"row_heading level0 row9\" >Fantasy</th>\n",
              "                        <td id=\"T_77ff4cf0_da3d_11eb_84e6_0242ac1c0002row9_col0\" class=\"data row9 col0\" >100.614858</td>\n",
              "                        <td id=\"T_77ff4cf0_da3d_11eb_84e6_0242ac1c0002row9_col1\" class=\"data row9 col1\" >40.483059</td>\n",
              "                        <td id=\"T_77ff4cf0_da3d_11eb_84e6_0242ac1c0002row9_col2\" class=\"data row9 col2\" >0.003478</td>\n",
              "            </tr>\n",
              "            <tr>\n",
              "                        <th id=\"T_77ff4cf0_da3d_11eb_84e6_0242ac1c0002level0_row10\" class=\"row_heading level0 row10\" >Horror</th>\n",
              "                        <td id=\"T_77ff4cf0_da3d_11eb_84e6_0242ac1c0002row10_col0\" class=\"data row10 col0\" >204.565000</td>\n",
              "                        <td id=\"T_77ff4cf0_da3d_11eb_84e6_0242ac1c0002row10_col1\" class=\"data row10 col1\" >34.737117</td>\n",
              "                        <td id=\"T_77ff4cf0_da3d_11eb_84e6_0242ac1c0002row10_col2\" class=\"data row10 col2\" >0.005725</td>\n",
              "            </tr>\n",
              "            <tr>\n",
              "                        <th id=\"T_77ff4cf0_da3d_11eb_84e6_0242ac1c0002level0_row11\" class=\"row_heading level0 row11\" >Musical</th>\n",
              "                        <td id=\"T_77ff4cf0_da3d_11eb_84e6_0242ac1c0002row11_col0\" class=\"data row11 col0\" >181.360000</td>\n",
              "                        <td id=\"T_77ff4cf0_da3d_11eb_84e6_0242ac1c0002row11_col1\" class=\"data row11 col1\" >92.084000</td>\n",
              "                        <td id=\"T_77ff4cf0_da3d_11eb_84e6_0242ac1c0002row11_col2\" class=\"data row11 col2\" >2.808000</td>\n",
              "            </tr>\n",
              "            <tr>\n",
              "                        <th id=\"T_77ff4cf0_da3d_11eb_84e6_0242ac1c0002level0_row12\" class=\"row_heading level0 row12\" >Mystery</th>\n",
              "                        <td id=\"T_77ff4cf0_da3d_11eb_84e6_0242ac1c0002row12_col0\" class=\"data row12 col0\" >217.536138</td>\n",
              "                        <td id=\"T_77ff4cf0_da3d_11eb_84e6_0242ac1c0002row12_col1\" class=\"data row12 col1\" >48.822296</td>\n",
              "                        <td id=\"T_77ff4cf0_da3d_11eb_84e6_0242ac1c0002row12_col2\" class=\"data row12 col2\" >0.016066</td>\n",
              "            </tr>\n",
              "            <tr>\n",
              "                        <th id=\"T_77ff4cf0_da3d_11eb_84e6_0242ac1c0002level0_row13\" class=\"row_heading level0 row13\" >Romance</th>\n",
              "                        <td id=\"T_77ff4cf0_da3d_11eb_84e6_0242ac1c0002row13_col0\" class=\"data row13 col0\" >62.453315</td>\n",
              "                        <td id=\"T_77ff4cf0_da3d_11eb_84e6_0242ac1c0002row13_col1\" class=\"data row13 col1\" >20.886339</td>\n",
              "                        <td id=\"T_77ff4cf0_da3d_11eb_84e6_0242ac1c0002row13_col2\" class=\"data row13 col2\" >0.076382</td>\n",
              "            </tr>\n",
              "            <tr>\n",
              "                        <th id=\"T_77ff4cf0_da3d_11eb_84e6_0242ac1c0002level0_row14\" class=\"row_heading level0 row14\" >Sci-Fi</th>\n",
              "                        <td id=\"T_77ff4cf0_da3d_11eb_84e6_0242ac1c0002row14_col0\" class=\"data row14 col0\" >79.568000</td>\n",
              "                        <td id=\"T_77ff4cf0_da3d_11eb_84e6_0242ac1c0002row14_col1\" class=\"data row14 col1\" >26.071841</td>\n",
              "                        <td id=\"T_77ff4cf0_da3d_11eb_84e6_0242ac1c0002row14_col2\" class=\"data row14 col2\" >0.018195</td>\n",
              "            </tr>\n",
              "            <tr>\n",
              "                        <th id=\"T_77ff4cf0_da3d_11eb_84e6_0242ac1c0002level0_row15\" class=\"row_heading level0 row15\" >Thriller</th>\n",
              "                        <td id=\"T_77ff4cf0_da3d_11eb_84e6_0242ac1c0002row15_col0\" class=\"data row15 col0\" >0.070071</td>\n",
              "                        <td id=\"T_77ff4cf0_da3d_11eb_84e6_0242ac1c0002row15_col1\" class=\"data row15 col1\" >0.040513</td>\n",
              "                        <td id=\"T_77ff4cf0_da3d_11eb_84e6_0242ac1c0002row15_col2\" class=\"data row15 col2\" >0.002468</td>\n",
              "            </tr>\n",
              "            <tr>\n",
              "                        <th id=\"T_77ff4cf0_da3d_11eb_84e6_0242ac1c0002level0_row16\" class=\"row_heading level0 row16\" >Western</th>\n",
              "                        <td id=\"T_77ff4cf0_da3d_11eb_84e6_0242ac1c0002row16_col0\" class=\"data row16 col0\" >41.400000</td>\n",
              "                        <td id=\"T_77ff4cf0_da3d_11eb_84e6_0242ac1c0002row16_col1\" class=\"data row16 col1\" >15.914589</td>\n",
              "                        <td id=\"T_77ff4cf0_da3d_11eb_84e6_0242ac1c0002row16_col2\" class=\"data row16 col2\" >0.243768</td>\n",
              "            </tr>\n",
              "    </tbody></table>"
            ],
            "text/plain": [
              "<pandas.io.formats.style.Styler at 0x7fe0de7e6210>"
            ]
          },
          "metadata": {
            "tags": []
          }
        }
      ]
    },
    {
      "cell_type": "code",
      "metadata": {
        "colab": {
          "base_uri": "https://localhost:8080/",
          "height": 414
        },
        "id": "2EbQ64Bww9ec",
        "outputId": "1c640bcb-f6ac-4fb3-f7a2-782d5b95ff9e"
      },
      "source": [
        "print('The Most Profitable Movie from each Genre')\n",
        "display(data.loc[data.groupby(data['Genre1'])['Profit'].idxmax()][['Genre1',\n",
        "                                    'movie_title','Profit']].style.background_gradient(cmap = 'spring'))"
      ],
      "execution_count": 192,
      "outputs": [
        {
          "output_type": "stream",
          "text": [
            "The Most Profitable Movie from each Genre\n"
          ],
          "name": "stdout"
        },
        {
          "output_type": "display_data",
          "data": {
            "text/html": [
              "<style  type=\"text/css\" >\n",
              "#T_7806b788_da3d_11eb_84e6_0242ac1c0002row0_col2{\n",
              "            background-color:  #ffff00;\n",
              "            color:  #000000;\n",
              "        }#T_7806b788_da3d_11eb_84e6_0242ac1c0002row1_col2{\n",
              "            background-color:  #ffb847;\n",
              "            color:  #000000;\n",
              "        }#T_7806b788_da3d_11eb_84e6_0242ac1c0002row2_col2{\n",
              "            background-color:  #ff8e71;\n",
              "            color:  #000000;\n",
              "        }#T_7806b788_da3d_11eb_84e6_0242ac1c0002row3_col2{\n",
              "            background-color:  #ff6e91;\n",
              "            color:  #000000;\n",
              "        }#T_7806b788_da3d_11eb_84e6_0242ac1c0002row4_col2{\n",
              "            background-color:  #ff8679;\n",
              "            color:  #000000;\n",
              "        }#T_7806b788_da3d_11eb_84e6_0242ac1c0002row5_col2{\n",
              "            background-color:  #ff3ec1;\n",
              "            color:  #000000;\n",
              "        }#T_7806b788_da3d_11eb_84e6_0242ac1c0002row6_col2{\n",
              "            background-color:  #ff37c8;\n",
              "            color:  #000000;\n",
              "        }#T_7806b788_da3d_11eb_84e6_0242ac1c0002row7_col2{\n",
              "            background-color:  #ffe01f;\n",
              "            color:  #000000;\n",
              "        }#T_7806b788_da3d_11eb_84e6_0242ac1c0002row8_col2{\n",
              "            background-color:  #ffcf30;\n",
              "            color:  #000000;\n",
              "        }#T_7806b788_da3d_11eb_84e6_0242ac1c0002row9_col2{\n",
              "            background-color:  #ff26d9;\n",
              "            color:  #f1f1f1;\n",
              "        }#T_7806b788_da3d_11eb_84e6_0242ac1c0002row10_col2{\n",
              "            background-color:  #ff609f;\n",
              "            color:  #000000;\n",
              "        }#T_7806b788_da3d_11eb_84e6_0242ac1c0002row11_col2{\n",
              "            background-color:  #ff55aa;\n",
              "            color:  #000000;\n",
              "        }#T_7806b788_da3d_11eb_84e6_0242ac1c0002row12_col2{\n",
              "            background-color:  #ff2dd2;\n",
              "            color:  #f1f1f1;\n",
              "        }#T_7806b788_da3d_11eb_84e6_0242ac1c0002row13_col2{\n",
              "            background-color:  #ff05fa;\n",
              "            color:  #f1f1f1;\n",
              "        }#T_7806b788_da3d_11eb_84e6_0242ac1c0002row14_col2{\n",
              "            background-color:  #ff21de;\n",
              "            color:  #f1f1f1;\n",
              "        }#T_7806b788_da3d_11eb_84e6_0242ac1c0002row15_col2{\n",
              "            background-color:  #ff00ff;\n",
              "            color:  #f1f1f1;\n",
              "        }#T_7806b788_da3d_11eb_84e6_0242ac1c0002row16_col2{\n",
              "            background-color:  #ff10ef;\n",
              "            color:  #f1f1f1;\n",
              "        }</style><table id=\"T_7806b788_da3d_11eb_84e6_0242ac1c0002\" ><thead>    <tr>        <th class=\"blank level0\" ></th>        <th class=\"col_heading level0 col0\" >Genre1</th>        <th class=\"col_heading level0 col1\" >movie_title</th>        <th class=\"col_heading level0 col2\" >Profit</th>    </tr></thead><tbody>\n",
              "                <tr>\n",
              "                        <th id=\"T_7806b788_da3d_11eb_84e6_0242ac1c0002level0_row0\" class=\"row_heading level0 row0\" >0</th>\n",
              "                        <td id=\"T_7806b788_da3d_11eb_84e6_0242ac1c0002row0_col0\" class=\"data row0 col0\" >Action</td>\n",
              "                        <td id=\"T_7806b788_da3d_11eb_84e6_0242ac1c0002row0_col1\" class=\"data row0 col1\" >Avatar </td>\n",
              "                        <td id=\"T_7806b788_da3d_11eb_84e6_0242ac1c0002row0_col2\" class=\"data row0 col2\" >523.505847</td>\n",
              "            </tr>\n",
              "            <tr>\n",
              "                        <th id=\"T_7806b788_da3d_11eb_84e6_0242ac1c0002level0_row1\" class=\"row_heading level0 row1\" >509</th>\n",
              "                        <td id=\"T_7806b788_da3d_11eb_84e6_0242ac1c0002row1_col0\" class=\"data row1 col0\" >Adventure</td>\n",
              "                        <td id=\"T_7806b788_da3d_11eb_84e6_0242ac1c0002row1_col1\" class=\"data row1 col1\" >The Lion King </td>\n",
              "                        <td id=\"T_7806b788_da3d_11eb_84e6_0242ac1c0002row1_col2\" class=\"data row1 col2\" >377.783777</td>\n",
              "            </tr>\n",
              "            <tr>\n",
              "                        <th id=\"T_7806b788_da3d_11eb_84e6_0242ac1c0002level0_row2\" class=\"row_heading level0 row2\" >521</th>\n",
              "                        <td id=\"T_7806b788_da3d_11eb_84e6_0242ac1c0002row2_col0\" class=\"data row2 col0\" >Animation</td>\n",
              "                        <td id=\"T_7806b788_da3d_11eb_84e6_0242ac1c0002row2_col1\" class=\"data row2 col1\" >Despicable Me 2 </td>\n",
              "                        <td id=\"T_7806b788_da3d_11eb_84e6_0242ac1c0002row2_col2\" class=\"data row2 col2\" >292.049635</td>\n",
              "            </tr>\n",
              "            <tr>\n",
              "                        <th id=\"T_7806b788_da3d_11eb_84e6_0242ac1c0002level0_row3\" class=\"row_heading level0 row3\" >1403</th>\n",
              "                        <td id=\"T_7806b788_da3d_11eb_84e6_0242ac1c0002row3_col0\" class=\"data row3 col0\" >Biography</td>\n",
              "                        <td id=\"T_7806b788_da3d_11eb_84e6_0242ac1c0002row3_col1\" class=\"data row3 col1\" >The Blind Side </td>\n",
              "                        <td id=\"T_7806b788_da3d_11eb_84e6_0242ac1c0002row3_col2\" class=\"data row3 col2\" >226.950375</td>\n",
              "            </tr>\n",
              "            <tr>\n",
              "                        <th id=\"T_7806b788_da3d_11eb_84e6_0242ac1c0002level0_row4\" class=\"row_heading level0 row4\" >836</th>\n",
              "                        <td id=\"T_7806b788_da3d_11eb_84e6_0242ac1c0002row4_col0\" class=\"data row4 col0\" >Comedy</td>\n",
              "                        <td id=\"T_7806b788_da3d_11eb_84e6_0242ac1c0002row4_col1\" class=\"data row4 col1\" >Forrest Gump </td>\n",
              "                        <td id=\"T_7806b788_da3d_11eb_84e6_0242ac1c0002row4_col2\" class=\"data row4 col2\" >274.691196</td>\n",
              "            </tr>\n",
              "            <tr>\n",
              "                        <th id=\"T_7806b788_da3d_11eb_84e6_0242ac1c0002level0_row5\" class=\"row_heading level0 row5\" >3466</th>\n",
              "                        <td id=\"T_7806b788_da3d_11eb_84e6_0242ac1c0002row5_col0\" class=\"data row5 col0\" >Crime</td>\n",
              "                        <td id=\"T_7806b788_da3d_11eb_84e6_0242ac1c0002row5_col1\" class=\"data row5 col1\" >The Godfather </td>\n",
              "                        <td id=\"T_7806b788_da3d_11eb_84e6_0242ac1c0002row5_col2\" class=\"data row5 col2\" >128.821952</td>\n",
              "            </tr>\n",
              "            <tr>\n",
              "                        <th id=\"T_7806b788_da3d_11eb_84e6_0242ac1c0002level0_row6\" class=\"row_heading level0 row6\" >3583</th>\n",
              "                        <td id=\"T_7806b788_da3d_11eb_84e6_0242ac1c0002row6_col0\" class=\"data row6 col0\" >Documentary</td>\n",
              "                        <td id=\"T_7806b788_da3d_11eb_84e6_0242ac1c0002row6_col1\" class=\"data row6 col1\" >Fahrenheit 9/11 </td>\n",
              "                        <td id=\"T_7806b788_da3d_11eb_84e6_0242ac1c0002row6_col2\" class=\"data row6 col2\" >113.078393</td>\n",
              "            </tr>\n",
              "            <tr>\n",
              "                        <th id=\"T_7806b788_da3d_11eb_84e6_0242ac1c0002level0_row7\" class=\"row_heading level0 row7\" >26</th>\n",
              "                        <td id=\"T_7806b788_da3d_11eb_84e6_0242ac1c0002row7_col0\" class=\"data row7 col0\" >Drama</td>\n",
              "                        <td id=\"T_7806b788_da3d_11eb_84e6_0242ac1c0002row7_col1\" class=\"data row7 col1\" >Titanic </td>\n",
              "                        <td id=\"T_7806b788_da3d_11eb_84e6_0242ac1c0002row7_col2\" class=\"data row7 col2\" >458.672302</td>\n",
              "            </tr>\n",
              "            <tr>\n",
              "                        <th id=\"T_7806b788_da3d_11eb_84e6_0242ac1c0002level0_row8\" class=\"row_heading level0 row8\" >3080</th>\n",
              "                        <td id=\"T_7806b788_da3d_11eb_84e6_0242ac1c0002row8_col0\" class=\"data row8 col0\" >Family</td>\n",
              "                        <td id=\"T_7806b788_da3d_11eb_84e6_0242ac1c0002row8_col1\" class=\"data row8 col1\" >E.T. the Extra-Terrestrial </td>\n",
              "                        <td id=\"T_7806b788_da3d_11eb_84e6_0242ac1c0002row8_col2\" class=\"data row8 col2\" >424.449459</td>\n",
              "            </tr>\n",
              "            <tr>\n",
              "                        <th id=\"T_7806b788_da3d_11eb_84e6_0242ac1c0002level0_row9\" class=\"row_heading level0 row9\" >2485</th>\n",
              "                        <td id=\"T_7806b788_da3d_11eb_84e6_0242ac1c0002row9_col0\" class=\"data row9 col0\" >Fantasy</td>\n",
              "                        <td id=\"T_7806b788_da3d_11eb_84e6_0242ac1c0002row9_col1\" class=\"data row9 col1\" >The Others </td>\n",
              "                        <td id=\"T_7806b788_da3d_11eb_84e6_0242ac1c0002row9_col2\" class=\"data row9 col2\" >79.471845</td>\n",
              "            </tr>\n",
              "            <tr>\n",
              "                        <th id=\"T_7806b788_da3d_11eb_84e6_0242ac1c0002level0_row10\" class=\"row_heading level0 row10\" >2916</th>\n",
              "                        <td id=\"T_7806b788_da3d_11eb_84e6_0242ac1c0002row10_col0\" class=\"data row10 col0\" >Horror</td>\n",
              "                        <td id=\"T_7806b788_da3d_11eb_84e6_0242ac1c0002row10_col1\" class=\"data row10 col1\" >The Exorcist </td>\n",
              "                        <td id=\"T_7806b788_da3d_11eb_84e6_0242ac1c0002row10_col2\" class=\"data row10 col2\" >196.565000</td>\n",
              "            </tr>\n",
              "            <tr>\n",
              "                        <th id=\"T_7806b788_da3d_11eb_84e6_0242ac1c0002level0_row11\" class=\"row_heading level0 row11\" >3581</th>\n",
              "                        <td id=\"T_7806b788_da3d_11eb_84e6_0242ac1c0002row11_col0\" class=\"data row11 col0\" >Musical</td>\n",
              "                        <td id=\"T_7806b788_da3d_11eb_84e6_0242ac1c0002row11_col1\" class=\"data row11 col1\" >Grease </td>\n",
              "                        <td id=\"T_7806b788_da3d_11eb_84e6_0242ac1c0002row11_col2\" class=\"data row11 col2\" >175.360000</td>\n",
              "            </tr>\n",
              "            <tr>\n",
              "                        <th id=\"T_7806b788_da3d_11eb_84e6_0242ac1c0002level0_row12\" class=\"row_heading level0 row12\" >208</th>\n",
              "                        <td id=\"T_7806b788_da3d_11eb_84e6_0242ac1c0002row12_col0\" class=\"data row12 col0\" >Mystery</td>\n",
              "                        <td id=\"T_7806b788_da3d_11eb_84e6_0242ac1c0002row12_col1\" class=\"data row12 col1\" >The Da Vinci Code </td>\n",
              "                        <td id=\"T_7806b788_da3d_11eb_84e6_0242ac1c0002row12_col2\" class=\"data row12 col2\" >92.536138</td>\n",
              "            </tr>\n",
              "            <tr>\n",
              "                        <th id=\"T_7806b788_da3d_11eb_84e6_0242ac1c0002level0_row13\" class=\"row_heading level0 row13\" >928</th>\n",
              "                        <td id=\"T_7806b788_da3d_11eb_84e6_0242ac1c0002row13_col0\" class=\"data row13 col0\" >Romance</td>\n",
              "                        <td id=\"T_7806b788_da3d_11eb_84e6_0242ac1c0002row13_col1\" class=\"data row13 col1\" >The Adjustment Bureau </td>\n",
              "                        <td id=\"T_7806b788_da3d_11eb_84e6_0242ac1c0002row13_col2\" class=\"data row13 col2\" >12.253315</td>\n",
              "            </tr>\n",
              "            <tr>\n",
              "                        <th id=\"T_7806b788_da3d_11eb_84e6_0242ac1c0002level0_row14\" class=\"row_heading level0 row14\" >2925</th>\n",
              "                        <td id=\"T_7806b788_da3d_11eb_84e6_0242ac1c0002row14_col0\" class=\"data row14 col0\" >Sci-Fi</td>\n",
              "                        <td id=\"T_7806b788_da3d_11eb_84e6_0242ac1c0002row14_col1\" class=\"data row14 col1\" >WarGames </td>\n",
              "                        <td id=\"T_7806b788_da3d_11eb_84e6_0242ac1c0002row14_col2\" class=\"data row14 col2\" >67.568000</td>\n",
              "            </tr>\n",
              "            <tr>\n",
              "                        <th id=\"T_7806b788_da3d_11eb_84e6_0242ac1c0002level0_row15\" class=\"row_heading level0 row15\" >5034</th>\n",
              "                        <td id=\"T_7806b788_da3d_11eb_84e6_0242ac1c0002row15_col0\" class=\"data row15 col0\" >Thriller</td>\n",
              "                        <td id=\"T_7806b788_da3d_11eb_84e6_0242ac1c0002row15_col1\" class=\"data row15 col1\" >Cavite </td>\n",
              "                        <td id=\"T_7806b788_da3d_11eb_84e6_0242ac1c0002row15_col2\" class=\"data row15 col2\" >0.063071</td>\n",
              "            </tr>\n",
              "            <tr>\n",
              "                        <th id=\"T_7806b788_da3d_11eb_84e6_0242ac1c0002level0_row16\" class=\"row_heading level0 row16\" >3540</th>\n",
              "                        <td id=\"T_7806b788_da3d_11eb_84e6_0242ac1c0002row16_col0\" class=\"data row16 col0\" >Western</td>\n",
              "                        <td id=\"T_7806b788_da3d_11eb_84e6_0242ac1c0002row16_col1\" class=\"data row16 col1\" >Pale Rider </td>\n",
              "                        <td id=\"T_7806b788_da3d_11eb_84e6_0242ac1c0002row16_col2\" class=\"data row16 col2\" >34.500000</td>\n",
              "            </tr>\n",
              "    </tbody></table>"
            ],
            "text/plain": [
              "<pandas.io.formats.style.Styler at 0x7fe0de607890>"
            ]
          },
          "metadata": {
            "tags": []
          }
        }
      ]
    },
    {
      "cell_type": "markdown",
      "metadata": {
        "id": "9zU3Drgo2L0A"
      },
      "source": [
        "Action, Drama, and Family are three most pofitable genres."
      ]
    },
    {
      "cell_type": "markdown",
      "metadata": {
        "id": "Woi0slScD4W2"
      },
      "source": [
        "## Language based profit analysis"
      ]
    },
    {
      "cell_type": "code",
      "metadata": {
        "scrolled": false,
        "colab": {
          "base_uri": "https://localhost:8080/",
          "height": 288
        },
        "id": "slgisn2LTEDg",
        "outputId": "45517b77-6a6a-48d1-9783-1c9ec12dfd97"
      },
      "source": [
        "# lets convert year into integer\n",
        "data['title_year'] = data['title_year'].astype('int')\n",
        "\n",
        "print('Most Profitable Years in Box Office')\n",
        "display(data[['title_year','language','Profit']].groupby(['language','title_year']).agg('sum').sort_values(by = 'Profit',ascending = False)\n",
        "                                                          .head(10).style.background_gradient(cmap = 'Oranges'))\n"
      ],
      "execution_count": 193,
      "outputs": [
        {
          "output_type": "stream",
          "text": [
            "Most Profitable Years in Box Office\n"
          ],
          "name": "stdout"
        },
        {
          "output_type": "display_data",
          "data": {
            "text/html": [
              "<style  type=\"text/css\" >\n",
              "#T_780dd720_da3d_11eb_84e6_0242ac1c0002row0_col0{\n",
              "            background-color:  #7f2704;\n",
              "            color:  #f1f1f1;\n",
              "        }#T_780dd720_da3d_11eb_84e6_0242ac1c0002row1_col0{\n",
              "            background-color:  #862a04;\n",
              "            color:  #f1f1f1;\n",
              "        }#T_780dd720_da3d_11eb_84e6_0242ac1c0002row2_col0{\n",
              "            background-color:  #e75b0b;\n",
              "            color:  #000000;\n",
              "        }#T_780dd720_da3d_11eb_84e6_0242ac1c0002row3_col0{\n",
              "            background-color:  #f4721e;\n",
              "            color:  #000000;\n",
              "        }#T_780dd720_da3d_11eb_84e6_0242ac1c0002row4_col0{\n",
              "            background-color:  #fd9547;\n",
              "            color:  #000000;\n",
              "        }#T_780dd720_da3d_11eb_84e6_0242ac1c0002row5_col0{\n",
              "            background-color:  #fda159;\n",
              "            color:  #000000;\n",
              "        }#T_780dd720_da3d_11eb_84e6_0242ac1c0002row6_col0{\n",
              "            background-color:  #fdc692;\n",
              "            color:  #000000;\n",
              "        }#T_780dd720_da3d_11eb_84e6_0242ac1c0002row7_col0{\n",
              "            background-color:  #fee4ca;\n",
              "            color:  #000000;\n",
              "        }#T_780dd720_da3d_11eb_84e6_0242ac1c0002row8_col0{\n",
              "            background-color:  #ffeedd;\n",
              "            color:  #000000;\n",
              "        }#T_780dd720_da3d_11eb_84e6_0242ac1c0002row9_col0{\n",
              "            background-color:  #fff5eb;\n",
              "            color:  #000000;\n",
              "        }</style><table id=\"T_780dd720_da3d_11eb_84e6_0242ac1c0002\" ><thead>    <tr>        <th class=\"blank\" ></th>        <th class=\"blank level0\" ></th>        <th class=\"col_heading level0 col0\" >Profit</th>    </tr>    <tr>        <th class=\"index_name level0\" >language</th>        <th class=\"index_name level1\" >title_year</th>        <th class=\"blank\" ></th>    </tr></thead><tbody>\n",
              "                <tr>\n",
              "                        <th id=\"T_780dd720_da3d_11eb_84e6_0242ac1c0002level0_row0\" class=\"row_heading level0 row0\" rowspan=10>English</th>\n",
              "                        <th id=\"T_780dd720_da3d_11eb_84e6_0242ac1c0002level1_row0\" class=\"row_heading level1 row0\" >2014</th>\n",
              "                        <td id=\"T_780dd720_da3d_11eb_84e6_0242ac1c0002row0_col0\" class=\"data row0 col0\" >2729.797944</td>\n",
              "            </tr>\n",
              "            <tr>\n",
              "                                <th id=\"T_780dd720_da3d_11eb_84e6_0242ac1c0002level1_row1\" class=\"row_heading level1 row1\" >2012</th>\n",
              "                        <td id=\"T_780dd720_da3d_11eb_84e6_0242ac1c0002row1_col0\" class=\"data row1 col0\" >2701.504634</td>\n",
              "            </tr>\n",
              "            <tr>\n",
              "                                <th id=\"T_780dd720_da3d_11eb_84e6_0242ac1c0002level1_row2\" class=\"row_heading level1 row2\" >2015</th>\n",
              "                        <td id=\"T_780dd720_da3d_11eb_84e6_0242ac1c0002row2_col0\" class=\"data row2 col0\" >2364.554417</td>\n",
              "            </tr>\n",
              "            <tr>\n",
              "                                <th id=\"T_780dd720_da3d_11eb_84e6_0242ac1c0002level1_row3\" class=\"row_heading level1 row3\" >2002</th>\n",
              "                        <td id=\"T_780dd720_da3d_11eb_84e6_0242ac1c0002row3_col0\" class=\"data row3 col0\" >2268.274235</td>\n",
              "            </tr>\n",
              "            <tr>\n",
              "                                <th id=\"T_780dd720_da3d_11eb_84e6_0242ac1c0002level1_row4\" class=\"row_heading level1 row4\" >2009</th>\n",
              "                        <td id=\"T_780dd720_da3d_11eb_84e6_0242ac1c0002row4_col0\" class=\"data row4 col0\" >2133.449256</td>\n",
              "            </tr>\n",
              "            <tr>\n",
              "                                <th id=\"T_780dd720_da3d_11eb_84e6_0242ac1c0002level1_row5\" class=\"row_heading level1 row5\" >2013</th>\n",
              "                        <td id=\"T_780dd720_da3d_11eb_84e6_0242ac1c0002row5_col0\" class=\"data row5 col0\" >2080.782304</td>\n",
              "            </tr>\n",
              "            <tr>\n",
              "                                <th id=\"T_780dd720_da3d_11eb_84e6_0242ac1c0002level1_row6\" class=\"row_heading level1 row6\" >2003</th>\n",
              "                        <td id=\"T_780dd720_da3d_11eb_84e6_0242ac1c0002row6_col0\" class=\"data row6 col0\" >1924.411513</td>\n",
              "            </tr>\n",
              "            <tr>\n",
              "                                <th id=\"T_780dd720_da3d_11eb_84e6_0242ac1c0002level1_row7\" class=\"row_heading level1 row7\" >2007</th>\n",
              "                        <td id=\"T_780dd720_da3d_11eb_84e6_0242ac1c0002row7_col0\" class=\"data row7 col0\" >1754.855579</td>\n",
              "            </tr>\n",
              "            <tr>\n",
              "                                <th id=\"T_780dd720_da3d_11eb_84e6_0242ac1c0002level1_row8\" class=\"row_heading level1 row8\" >2001</th>\n",
              "                        <td id=\"T_780dd720_da3d_11eb_84e6_0242ac1c0002row8_col0\" class=\"data row8 col0\" >1666.984435</td>\n",
              "            </tr>\n",
              "            <tr>\n",
              "                                <th id=\"T_780dd720_da3d_11eb_84e6_0242ac1c0002level1_row9\" class=\"row_heading level1 row9\" >1994</th>\n",
              "                        <td id=\"T_780dd720_da3d_11eb_84e6_0242ac1c0002row9_col0\" class=\"data row9 col0\" >1600.413059</td>\n",
              "            </tr>\n",
              "    </tbody></table>"
            ],
            "text/plain": [
              "<pandas.io.formats.style.Styler at 0x7fe0de3a3310>"
            ]
          },
          "metadata": {
            "tags": []
          }
        }
      ]
    },
    {
      "cell_type": "markdown",
      "metadata": {
        "id": "qJuNCoD12e1N"
      },
      "source": [
        "English movies are most profitable movies. "
      ]
    },
    {
      "cell_type": "code",
      "metadata": {
        "colab": {
          "base_uri": "https://localhost:8080/",
          "height": 562
        },
        "id": "O6ak3icJEgW1",
        "outputId": "a947e26b-5e9f-497e-db14-074bd5e7fa03"
      },
      "source": [
        "sns.lineplot(data['title_year'], data['Profit'], hue = data['language'])\n",
        "plt.title('Time Series for Profit for English vs Foreign Movies', fontsize = 20)\n",
        "plt.xticks(fontsize = 18)\n",
        "plt.xlabel(' ')\n",
        "plt.show()"
      ],
      "execution_count": 194,
      "outputs": [
        {
          "output_type": "display_data",
          "data": {
            "image/png": "[encoded data removed]",
            "text/plain": [
              "<Figure size 1152x576 with 1 Axes>"
            ]
          },
          "metadata": {
            "tags": []
          }
        }
      ]
    },
    {
      "cell_type": "markdown",
      "metadata": {
        "id": "iuO_MNa13KY6"
      },
      "source": [
        "Foreign movies are facing loss throughout the time with highest loss in 1990.English movies are profitable throughout the time."
      ]
    },
    {
      "cell_type": "code",
      "metadata": {
        "colab": {
          "base_uri": "https://localhost:8080/",
          "height": 162
        },
        "id": "U-hoHLkDElSR",
        "outputId": "20381053-8d5f-498a-e4a0-4ea7bc588afd"
      },
      "source": [
        "print(\"Movies that Made Huge Losses\")\n",
        "display(data[data['Profit'] < -2000][['movie_title',\n",
        "                        'language','Profit']].style.background_gradient(cmap = 'Reds'))"
      ],
      "execution_count": 195,
      "outputs": [
        {
          "output_type": "stream",
          "text": [
            "Movies that Made Huge Losses\n"
          ],
          "name": "stdout"
        },
        {
          "output_type": "display_data",
          "data": {
            "text/html": [
              "<style  type=\"text/css\" >\n",
              "#T_795f76f6_da3d_11eb_84e6_0242ac1c0002row0_col2{\n",
              "            background-color:  #73030f;\n",
              "            color:  #f1f1f1;\n",
              "        }#T_795f76f6_da3d_11eb_84e6_0242ac1c0002row1_col2{\n",
              "            background-color:  #67000d;\n",
              "            color:  #f1f1f1;\n",
              "        }#T_795f76f6_da3d_11eb_84e6_0242ac1c0002row2_col2{\n",
              "            background-color:  #fff5f0;\n",
              "            color:  #000000;\n",
              "        }#T_795f76f6_da3d_11eb_84e6_0242ac1c0002row3_col2{\n",
              "            background-color:  #79040f;\n",
              "            color:  #f1f1f1;\n",
              "        }#T_795f76f6_da3d_11eb_84e6_0242ac1c0002row4_col2{\n",
              "            background-color:  #bd151a;\n",
              "            color:  #f1f1f1;\n",
              "        }</style><table id=\"T_795f76f6_da3d_11eb_84e6_0242ac1c0002\" ><thead>    <tr>        <th class=\"blank level0\" ></th>        <th class=\"col_heading level0 col0\" >movie_title</th>        <th class=\"col_heading level0 col1\" >language</th>        <th class=\"col_heading level0 col2\" >Profit</th>    </tr></thead><tbody>\n",
              "                <tr>\n",
              "                        <th id=\"T_795f76f6_da3d_11eb_84e6_0242ac1c0002level0_row0\" class=\"row_heading level0 row0\" >2323</th>\n",
              "                        <td id=\"T_795f76f6_da3d_11eb_84e6_0242ac1c0002row0_col0\" class=\"data row0 col0\" >Princess Mononoke </td>\n",
              "                        <td id=\"T_795f76f6_da3d_11eb_84e6_0242ac1c0002row0_col1\" class=\"data row0 col1\" >Foreign</td>\n",
              "                        <td id=\"T_795f76f6_da3d_11eb_84e6_0242ac1c0002row0_col2\" class=\"data row0 col2\" >-2397.701809</td>\n",
              "            </tr>\n",
              "            <tr>\n",
              "                        <th id=\"T_795f76f6_da3d_11eb_84e6_0242ac1c0002level0_row1\" class=\"row_heading level0 row1\" >2334</th>\n",
              "                        <td id=\"T_795f76f6_da3d_11eb_84e6_0242ac1c0002row1_col0\" class=\"data row1 col0\" >Steamboy </td>\n",
              "                        <td id=\"T_795f76f6_da3d_11eb_84e6_0242ac1c0002row1_col1\" class=\"data row1 col1\" >Foreign</td>\n",
              "                        <td id=\"T_795f76f6_da3d_11eb_84e6_0242ac1c0002row1_col2\" class=\"data row1 col2\" >-2127.109510</td>\n",
              "            </tr>\n",
              "            <tr>\n",
              "                        <th id=\"T_795f76f6_da3d_11eb_84e6_0242ac1c0002level0_row2\" class=\"row_heading level0 row2\" >2988</th>\n",
              "                        <td id=\"T_795f76f6_da3d_11eb_84e6_0242ac1c0002row2_col0\" class=\"data row2 col0\" >The Host </td>\n",
              "                        <td id=\"T_795f76f6_da3d_11eb_84e6_0242ac1c0002row2_col1\" class=\"data row2 col1\" >Foreign</td>\n",
              "                        <td id=\"T_795f76f6_da3d_11eb_84e6_0242ac1c0002row2_col2\" class=\"data row2 col2\" >-12213.298588</td>\n",
              "            </tr>\n",
              "            <tr>\n",
              "                        <th id=\"T_795f76f6_da3d_11eb_84e6_0242ac1c0002level0_row3\" class=\"row_heading level0 row3\" >3005</th>\n",
              "                        <td id=\"T_795f76f6_da3d_11eb_84e6_0242ac1c0002row3_col0\" class=\"data row3 col0\" >Fateless </td>\n",
              "                        <td id=\"T_795f76f6_da3d_11eb_84e6_0242ac1c0002row3_col1\" class=\"data row3 col1\" >Foreign</td>\n",
              "                        <td id=\"T_795f76f6_da3d_11eb_84e6_0242ac1c0002row3_col2\" class=\"data row3 col2\" >-2499.804112</td>\n",
              "            </tr>\n",
              "            <tr>\n",
              "                        <th id=\"T_795f76f6_da3d_11eb_84e6_0242ac1c0002level0_row4\" class=\"row_heading level0 row4\" >3859</th>\n",
              "                        <td id=\"T_795f76f6_da3d_11eb_84e6_0242ac1c0002row4_col0\" class=\"data row4 col0\" >Lady Vengeance </td>\n",
              "                        <td id=\"T_795f76f6_da3d_11eb_84e6_0242ac1c0002row4_col1\" class=\"data row4 col1\" >Foreign</td>\n",
              "                        <td id=\"T_795f76f6_da3d_11eb_84e6_0242ac1c0002row4_col2\" class=\"data row4 col2\" >-4199.788333</td>\n",
              "            </tr>\n",
              "    </tbody></table>"
            ],
            "text/plain": [
              "<pandas.io.formats.style.Styler at 0x7fe0de396710>"
            ]
          },
          "metadata": {
            "tags": []
          }
        }
      ]
    },
    {
      "cell_type": "markdown",
      "metadata": {
        "id": "eZF3UXr-30VY"
      },
      "source": [
        "All huge loss movies are from foreign category."
      ]
    },
    {
      "cell_type": "markdown",
      "metadata": {
        "id": "eJoA9F3Vf3Q8"
      },
      "source": [
        "## Duration based gross and profit analysis"
      ]
    },
    {
      "cell_type": "code",
      "metadata": {
        "scrolled": false,
        "colab": {
          "base_uri": "https://localhost:8080/",
          "height": 145
        },
        "id": "ZEYllUxcTEDg",
        "outputId": "17d6c315-05b8-41a3-d9f6-03cdc45946f9"
      },
      "source": [
        "display(data[data['duration'] == 'Long'][['movie_title', 'duration', 'gross',\n",
        "                    'Profit']].sort_values(by = 'Profit',ascending = False).head(5).style.background_gradient(cmap = 'summer'))"
      ],
      "execution_count": 196,
      "outputs": [
        {
          "output_type": "display_data",
          "data": {
            "text/html": [
              "<style  type=\"text/css\" >\n",
              "#T_796632f2_da3d_11eb_84e6_0242ac1c0002row0_col2,#T_796632f2_da3d_11eb_84e6_0242ac1c0002row0_col3{\n",
              "            background-color:  #ffff66;\n",
              "            color:  #000000;\n",
              "        }#T_796632f2_da3d_11eb_84e6_0242ac1c0002row1_col2{\n",
              "            background-color:  #a3d166;\n",
              "            color:  #000000;\n",
              "        }#T_796632f2_da3d_11eb_84e6_0242ac1c0002row1_col3{\n",
              "            background-color:  #d2e866;\n",
              "            color:  #000000;\n",
              "        }#T_796632f2_da3d_11eb_84e6_0242ac1c0002row2_col2{\n",
              "            background-color:  #a8d366;\n",
              "            color:  #000000;\n",
              "        }#T_796632f2_da3d_11eb_84e6_0242ac1c0002row2_col3{\n",
              "            background-color:  #75ba66;\n",
              "            color:  #000000;\n",
              "        }#T_796632f2_da3d_11eb_84e6_0242ac1c0002row3_col2,#T_796632f2_da3d_11eb_84e6_0242ac1c0002row4_col3{\n",
              "            background-color:  #008066;\n",
              "            color:  #f1f1f1;\n",
              "        }#T_796632f2_da3d_11eb_84e6_0242ac1c0002row3_col3{\n",
              "            background-color:  #63b166;\n",
              "            color:  #000000;\n",
              "        }#T_796632f2_da3d_11eb_84e6_0242ac1c0002row4_col2{\n",
              "            background-color:  #8ac466;\n",
              "            color:  #000000;\n",
              "        }</style><table id=\"T_796632f2_da3d_11eb_84e6_0242ac1c0002\" ><thead>    <tr>        <th class=\"blank level0\" ></th>        <th class=\"col_heading level0 col0\" >movie_title</th>        <th class=\"col_heading level0 col1\" >duration</th>        <th class=\"col_heading level0 col2\" >gross</th>        <th class=\"col_heading level0 col3\" >Profit</th>    </tr></thead><tbody>\n",
              "                <tr>\n",
              "                        <th id=\"T_796632f2_da3d_11eb_84e6_0242ac1c0002level0_row0\" class=\"row_heading level0 row0\" >0</th>\n",
              "                        <td id=\"T_796632f2_da3d_11eb_84e6_0242ac1c0002row0_col0\" class=\"data row0 col0\" >Avatar </td>\n",
              "                        <td id=\"T_796632f2_da3d_11eb_84e6_0242ac1c0002row0_col1\" class=\"data row0 col1\" >Long</td>\n",
              "                        <td id=\"T_796632f2_da3d_11eb_84e6_0242ac1c0002row0_col2\" class=\"data row0 col2\" >760.505847</td>\n",
              "                        <td id=\"T_796632f2_da3d_11eb_84e6_0242ac1c0002row0_col3\" class=\"data row0 col3\" >523.505847</td>\n",
              "            </tr>\n",
              "            <tr>\n",
              "                        <th id=\"T_796632f2_da3d_11eb_84e6_0242ac1c0002level0_row1\" class=\"row_heading level0 row1\" >29</th>\n",
              "                        <td id=\"T_796632f2_da3d_11eb_84e6_0242ac1c0002row1_col0\" class=\"data row1 col0\" >Jurassic World </td>\n",
              "                        <td id=\"T_796632f2_da3d_11eb_84e6_0242ac1c0002row1_col1\" class=\"data row1 col1\" >Long</td>\n",
              "                        <td id=\"T_796632f2_da3d_11eb_84e6_0242ac1c0002row1_col2\" class=\"data row1 col2\" >652.177271</td>\n",
              "                        <td id=\"T_796632f2_da3d_11eb_84e6_0242ac1c0002row1_col3\" class=\"data row1 col3\" >502.177271</td>\n",
              "            </tr>\n",
              "            <tr>\n",
              "                        <th id=\"T_796632f2_da3d_11eb_84e6_0242ac1c0002level0_row2\" class=\"row_heading level0 row2\" >26</th>\n",
              "                        <td id=\"T_796632f2_da3d_11eb_84e6_0242ac1c0002row2_col0\" class=\"data row2 col0\" >Titanic </td>\n",
              "                        <td id=\"T_796632f2_da3d_11eb_84e6_0242ac1c0002row2_col1\" class=\"data row2 col1\" >Long</td>\n",
              "                        <td id=\"T_796632f2_da3d_11eb_84e6_0242ac1c0002row2_col2\" class=\"data row2 col2\" >658.672302</td>\n",
              "                        <td id=\"T_796632f2_da3d_11eb_84e6_0242ac1c0002row2_col3\" class=\"data row2 col3\" >458.672302</td>\n",
              "            </tr>\n",
              "            <tr>\n",
              "                        <th id=\"T_796632f2_da3d_11eb_84e6_0242ac1c0002level0_row3\" class=\"row_heading level0 row3\" >3024</th>\n",
              "                        <td id=\"T_796632f2_da3d_11eb_84e6_0242ac1c0002row3_col0\" class=\"data row3 col0\" >Star Wars: Episode IV - A New Hope </td>\n",
              "                        <td id=\"T_796632f2_da3d_11eb_84e6_0242ac1c0002row3_col1\" class=\"data row3 col1\" >Long</td>\n",
              "                        <td id=\"T_796632f2_da3d_11eb_84e6_0242ac1c0002row3_col2\" class=\"data row3 col2\" >460.935665</td>\n",
              "                        <td id=\"T_796632f2_da3d_11eb_84e6_0242ac1c0002row3_col3\" class=\"data row3 col3\" >449.935665</td>\n",
              "            </tr>\n",
              "            <tr>\n",
              "                        <th id=\"T_796632f2_da3d_11eb_84e6_0242ac1c0002level0_row4\" class=\"row_heading level0 row4\" >17</th>\n",
              "                        <td id=\"T_796632f2_da3d_11eb_84e6_0242ac1c0002row4_col0\" class=\"data row4 col0\" >The Avengers </td>\n",
              "                        <td id=\"T_796632f2_da3d_11eb_84e6_0242ac1c0002row4_col1\" class=\"data row4 col1\" >Long</td>\n",
              "                        <td id=\"T_796632f2_da3d_11eb_84e6_0242ac1c0002row4_col2\" class=\"data row4 col2\" >623.279547</td>\n",
              "                        <td id=\"T_796632f2_da3d_11eb_84e6_0242ac1c0002row4_col3\" class=\"data row4 col3\" >403.279547</td>\n",
              "            </tr>\n",
              "    </tbody></table>"
            ],
            "text/plain": [
              "<pandas.io.formats.style.Styler at 0x7fe0de397250>"
            ]
          },
          "metadata": {
            "tags": []
          }
        }
      ]
    },
    {
      "cell_type": "code",
      "metadata": {
        "colab": {
          "base_uri": "https://localhost:8080/",
          "height": 145
        },
        "id": "05S22PeCfpxv",
        "outputId": "27f9e259-d90d-4a2a-d63b-da437b742967"
      },
      "source": [
        "display(data[data['duration'] == 'Short'][['movie_title', 'duration', 'gross',\n",
        "                    'Profit']].sort_values(by = 'Profit',ascending = False).head(5).style.background_gradient(cmap = 'winter'))"
      ],
      "execution_count": 197,
      "outputs": [
        {
          "output_type": "display_data",
          "data": {
            "text/html": [
              "<style  type=\"text/css\" >\n",
              "#T_796bbc0e_da3d_11eb_84e6_0242ac1c0002row0_col2,#T_796bbc0e_da3d_11eb_84e6_0242ac1c0002row0_col3{\n",
              "            background-color:  #00ff80;\n",
              "            color:  #000000;\n",
              "        }#T_796bbc0e_da3d_11eb_84e6_0242ac1c0002row1_col2{\n",
              "            background-color:  #00d495;\n",
              "            color:  #000000;\n",
              "        }#T_796bbc0e_da3d_11eb_84e6_0242ac1c0002row1_col3{\n",
              "            background-color:  #00a9ab;\n",
              "            color:  #000000;\n",
              "        }#T_796bbc0e_da3d_11eb_84e6_0242ac1c0002row2_col2,#T_796bbc0e_da3d_11eb_84e6_0242ac1c0002row4_col3{\n",
              "            background-color:  #0000ff;\n",
              "            color:  #f1f1f1;\n",
              "        }#T_796bbc0e_da3d_11eb_84e6_0242ac1c0002row2_col3{\n",
              "            background-color:  #0021ee;\n",
              "            color:  #f1f1f1;\n",
              "        }#T_796bbc0e_da3d_11eb_84e6_0242ac1c0002row3_col2{\n",
              "            background-color:  #0011f6;\n",
              "            color:  #f1f1f1;\n",
              "        }#T_796bbc0e_da3d_11eb_84e6_0242ac1c0002row3_col3{\n",
              "            background-color:  #0009fa;\n",
              "            color:  #f1f1f1;\n",
              "        }#T_796bbc0e_da3d_11eb_84e6_0242ac1c0002row4_col2{\n",
              "            background-color:  #003fe0;\n",
              "            color:  #f1f1f1;\n",
              "        }</style><table id=\"T_796bbc0e_da3d_11eb_84e6_0242ac1c0002\" ><thead>    <tr>        <th class=\"blank level0\" ></th>        <th class=\"col_heading level0 col0\" >movie_title</th>        <th class=\"col_heading level0 col1\" >duration</th>        <th class=\"col_heading level0 col2\" >gross</th>        <th class=\"col_heading level0 col3\" >Profit</th>    </tr></thead><tbody>\n",
              "                <tr>\n",
              "                        <th id=\"T_796bbc0e_da3d_11eb_84e6_0242ac1c0002level0_row0\" class=\"row_heading level0 row0\" >3080</th>\n",
              "                        <td id=\"T_796bbc0e_da3d_11eb_84e6_0242ac1c0002row0_col0\" class=\"data row0 col0\" >E.T. the Extra-Terrestrial </td>\n",
              "                        <td id=\"T_796bbc0e_da3d_11eb_84e6_0242ac1c0002row0_col1\" class=\"data row0 col1\" >Short</td>\n",
              "                        <td id=\"T_796bbc0e_da3d_11eb_84e6_0242ac1c0002row0_col2\" class=\"data row0 col2\" >434.949459</td>\n",
              "                        <td id=\"T_796bbc0e_da3d_11eb_84e6_0242ac1c0002row0_col3\" class=\"data row0 col3\" >424.449459</td>\n",
              "            </tr>\n",
              "            <tr>\n",
              "                        <th id=\"T_796bbc0e_da3d_11eb_84e6_0242ac1c0002level0_row1\" class=\"row_heading level0 row1\" >509</th>\n",
              "                        <td id=\"T_796bbc0e_da3d_11eb_84e6_0242ac1c0002row1_col0\" class=\"data row1 col0\" >The Lion King </td>\n",
              "                        <td id=\"T_796bbc0e_da3d_11eb_84e6_0242ac1c0002row1_col1\" class=\"data row1 col1\" >Short</td>\n",
              "                        <td id=\"T_796bbc0e_da3d_11eb_84e6_0242ac1c0002row1_col2\" class=\"data row1 col2\" >422.783777</td>\n",
              "                        <td id=\"T_796bbc0e_da3d_11eb_84e6_0242ac1c0002row1_col3\" class=\"data row1 col3\" >377.783777</td>\n",
              "            </tr>\n",
              "            <tr>\n",
              "                        <th id=\"T_796bbc0e_da3d_11eb_84e6_0242ac1c0002level0_row2\" class=\"row_heading level0 row2\" >812</th>\n",
              "                        <td id=\"T_796bbc0e_da3d_11eb_84e6_0242ac1c0002row2_col0\" class=\"data row2 col0\" >Deadpool </td>\n",
              "                        <td id=\"T_796bbc0e_da3d_11eb_84e6_0242ac1c0002row2_col1\" class=\"data row2 col1\" >Short</td>\n",
              "                        <td id=\"T_796bbc0e_da3d_11eb_84e6_0242ac1c0002row2_col2\" class=\"data row2 col2\" >363.024263</td>\n",
              "                        <td id=\"T_796bbc0e_da3d_11eb_84e6_0242ac1c0002row2_col3\" class=\"data row2 col3\" >305.024263</td>\n",
              "            </tr>\n",
              "            <tr>\n",
              "                        <th id=\"T_796bbc0e_da3d_11eb_84e6_0242ac1c0002level0_row3\" class=\"row_heading level0 row3\" >521</th>\n",
              "                        <td id=\"T_796bbc0e_da3d_11eb_84e6_0242ac1c0002row3_col0\" class=\"data row3 col0\" >Despicable Me 2 </td>\n",
              "                        <td id=\"T_796bbc0e_da3d_11eb_84e6_0242ac1c0002row3_col1\" class=\"data row3 col1\" >Short</td>\n",
              "                        <td id=\"T_796bbc0e_da3d_11eb_84e6_0242ac1c0002row3_col2\" class=\"data row3 col2\" >368.049635</td>\n",
              "                        <td id=\"T_796bbc0e_da3d_11eb_84e6_0242ac1c0002row3_col3\" class=\"data row3 col3\" >292.049635</td>\n",
              "            </tr>\n",
              "            <tr>\n",
              "                        <th id=\"T_796bbc0e_da3d_11eb_84e6_0242ac1c0002level0_row4\" class=\"row_heading level0 row4\" >338</th>\n",
              "                        <td id=\"T_796bbc0e_da3d_11eb_84e6_0242ac1c0002row4_col0\" class=\"data row4 col0\" >Finding Nemo </td>\n",
              "                        <td id=\"T_796bbc0e_da3d_11eb_84e6_0242ac1c0002row4_col1\" class=\"data row4 col1\" >Short</td>\n",
              "                        <td id=\"T_796bbc0e_da3d_11eb_84e6_0242ac1c0002row4_col2\" class=\"data row4 col2\" >380.838870</td>\n",
              "                        <td id=\"T_796bbc0e_da3d_11eb_84e6_0242ac1c0002row4_col3\" class=\"data row4 col3\" >286.838870</td>\n",
              "            </tr>\n",
              "    </tbody></table>"
            ],
            "text/plain": [
              "<pandas.io.formats.style.Styler at 0x7fe0de2f6550>"
            ]
          },
          "metadata": {
            "tags": []
          }
        }
      ]
    },
    {
      "cell_type": "code",
      "metadata": {
        "colab": {
          "base_uri": "https://localhost:8080/",
          "height": 575
        },
        "id": "nlHxl_dcfv_O",
        "outputId": "4c8152aa-3063-4056-b22c-a83f8c54c53e"
      },
      "source": [
        "sns.barplot(data['duration'], data['gross'], hue = data['language'], palette = 'cool')\n",
        "plt.title('Gross Comparison')"
      ],
      "execution_count": 198,
      "outputs": [
        {
          "output_type": "execute_result",
          "data": {
            "text/plain": [
              "Text(0.5, 1.0, 'Gross Comparison')"
            ]
          },
          "metadata": {
            "tags": []
          },
          "execution_count": 198
        },
        {
          "output_type": "display_data",
          "data": {
            "image/png": "[encoded data removed]",
            "text/plain": [
              "<Figure size 1152x576 with 1 Axes>"
            ]
          },
          "metadata": {
            "tags": []
          }
        }
      ]
    },
    {
      "cell_type": "markdown",
      "metadata": {
        "id": "YTt6Fp7Rg_wj"
      },
      "source": [
        "## IMDB Score Analysis"
      ]
    },
    {
      "cell_type": "code",
      "metadata": {
        "scrolled": false,
        "colab": {
          "base_uri": "https://localhost:8080/"
        },
        "id": "qK4b17epTEDh",
        "outputId": "e6d2e35c-850e-4692-afca-2221ef2b217c"
      },
      "source": [
        "print(\"Average IMDB Score for Long Duration Movies is {0:.2f}\".format(data[data['duration'] == 'Long']['imdb_score'].mean()))\n",
        "print(\"Average IMDB Score for Short Duration Movies is {0:.2f}\".format(data[data['duration'] == 'Short']['imdb_score'].mean()))\n"
      ],
      "execution_count": 199,
      "outputs": [
        {
          "output_type": "stream",
          "text": [
            "Average IMDB Score for Long Duration Movies is 7.06\n",
            "Average IMDB Score for Short Duration Movies is 6.28\n"
          ],
          "name": "stdout"
        }
      ]
    },
    {
      "cell_type": "code",
      "metadata": {
        "colab": {
          "base_uri": "https://localhost:8080/"
        },
        "id": "mzcWqi3_hHDk",
        "outputId": "df5cfd83-b8d5-42db-b4a7-7e45fff6b1b8"
      },
      "source": [
        "print(\"Top 5 Highest Rated Long Duration Movie\\n\", \n",
        "    data[data['duration'] == 'Long'][['movie_title','imdb_score']].sort_values(by = 'imdb_score', ascending = False).head(5))\n"
      ],
      "execution_count": 200,
      "outputs": [
        {
          "output_type": "stream",
          "text": [
            "Top 5 Highest Rated Long Duration Movie\n",
            "                     movie_title  imdb_score\n",
            "1937  The Shawshank Redemption          9.3\n",
            "3466             The Godfather          9.2\n",
            "66             The Dark Knight          9.0\n",
            "2837    The Godfather: Part II          9.0\n",
            "3355              Pulp Fiction          8.9\n"
          ],
          "name": "stdout"
        }
      ]
    },
    {
      "cell_type": "code",
      "metadata": {
        "colab": {
          "base_uri": "https://localhost:8080/"
        },
        "id": "7AD1--FshcPL",
        "outputId": "d6bf8afc-8c0b-4c51-f551-3dc9dcd36a0a"
      },
      "source": [
        "print(\"Top 5 Highest Rated Short Duration Movie\\n\", \n",
        "    data[data['duration'] == 'Short'][['movie_title','imdb_score']].sort_values(by = 'imdb_score', ascending = False).head(5))"
      ],
      "execution_count": 201,
      "outputs": [
        {
          "output_type": "stream",
          "text": [
            "Top 5 Highest Rated Short Duration Movie\n",
            "                    movie_title  imdb_score\n",
            "3592       The Usual Suspects          8.6\n",
            "3175       American History X          8.6\n",
            "4427             Modern Times          8.6\n",
            "2152  Raiders of the Lost Ark          8.5\n",
            "3931                  Samsara          8.5\n"
          ],
          "name": "stdout"
        }
      ]
    },
    {
      "cell_type": "code",
      "metadata": {
        "colab": {
          "base_uri": "https://localhost:8080/",
          "height": 553
        },
        "id": "JbI-EQ3EhPHh",
        "outputId": "29194f0c-9aea-4416-f567-629f3fed17d7"
      },
      "source": [
        "sns.boxplot(data['imdb_score'], data['duration'], palette = 'copper')\n",
        "plt.title('IMDB Ratings vs Gross', fontsize = 20)\n",
        "plt.xticks(rotation = 90)\n",
        "plt.show()"
      ],
      "execution_count": 202,
      "outputs": [
        {
          "output_type": "display_data",
          "data": {
            "image/png": "[encoded data removed]",
            "text/plain": [
              "<Figure size 1152x576 with 1 Axes>"
            ]
          },
          "metadata": {
            "tags": []
          }
        }
      ]
    },
    {
      "cell_type": "markdown",
      "metadata": {
        "id": "2wFofG7Zh5V3"
      },
      "source": [
        "Long durtaion movies show high gross trend than short duration movies."
      ]
    },
    {
      "cell_type": "markdown",
      "metadata": {
        "id": "svePh4qWiITD"
      },
      "source": [
        "## Actor Performance Analysis"
      ]
    },
    {
      "cell_type": "code",
      "metadata": {
        "id": "-sgr-0xtTEDh"
      },
      "source": [
        "#get all movies information of an actor/actress\n",
        "\n",
        "def actors(x):\n",
        "    a = data[data['actor_1_name'] == x]\n",
        "    b = data[data['actor_2_name'] == x]\n",
        "    c = data[data['actor_3_name'] == x]\n",
        "    x = a.append(b)\n",
        "    y = x.append(c)\n",
        "    \n",
        "    y = y[['movie_title',\n",
        "        'title_year',\n",
        "        'genres',\n",
        "       'language',\n",
        "       'budget',\n",
        "       'gross',\n",
        "       'imdb_score'\n",
        "        ]]\n",
        "    return y"
      ],
      "execution_count": 203,
      "outputs": []
    },
    {
      "cell_type": "code",
      "metadata": {
        "colab": {
          "base_uri": "https://localhost:8080/",
          "height": 917
        },
        "id": "9Hn_PhP5TEDh",
        "outputId": "f0bcd692-0c43-4033-cbfe-cc7458c9212b"
      },
      "source": [
        "actors('Robert Downey Jr.')"
      ],
      "execution_count": 204,
      "outputs": [
        {
          "output_type": "execute_result",
          "data": {
            "text/html": [
              "<div>\n",
              "<style scoped>\n",
              "    .dataframe tbody tr th:only-of-type {\n",
              "        vertical-align: middle;\n",
              "    }\n",
              "\n",
              "    .dataframe tbody tr th {\n",
              "        vertical-align: top;\n",
              "    }\n",
              "\n",
              "    .dataframe thead th {\n",
              "        text-align: right;\n",
              "    }\n",
              "</style>\n",
              "<table border=\"1\" class=\"dataframe\">\n",
              "  <thead>\n",
              "    <tr style=\"text-align: right;\">\n",
              "      <th></th>\n",
              "      <th>movie_title</th>\n",
              "      <th>title_year</th>\n",
              "      <th>genres</th>\n",
              "      <th>language</th>\n",
              "      <th>budget</th>\n",
              "      <th>gross</th>\n",
              "      <th>imdb_score</th>\n",
              "    </tr>\n",
              "  </thead>\n",
              "  <tbody>\n",
              "    <tr>\n",
              "      <th>27</th>\n",
              "      <td>Captain America: Civil War</td>\n",
              "      <td>2016</td>\n",
              "      <td>Action|Adventure|Sci-Fi</td>\n",
              "      <td>English</td>\n",
              "      <td>250.0</td>\n",
              "      <td>407.197282</td>\n",
              "      <td>8.2</td>\n",
              "    </tr>\n",
              "    <tr>\n",
              "      <th>32</th>\n",
              "      <td>Iron Man 3</td>\n",
              "      <td>2013</td>\n",
              "      <td>Action|Adventure|Sci-Fi</td>\n",
              "      <td>English</td>\n",
              "      <td>200.0</td>\n",
              "      <td>408.992272</td>\n",
              "      <td>7.2</td>\n",
              "    </tr>\n",
              "    <tr>\n",
              "      <th>69</th>\n",
              "      <td>Iron Man</td>\n",
              "      <td>2008</td>\n",
              "      <td>Action|Adventure|Sci-Fi</td>\n",
              "      <td>English</td>\n",
              "      <td>140.0</td>\n",
              "      <td>318.298180</td>\n",
              "      <td>7.9</td>\n",
              "    </tr>\n",
              "    <tr>\n",
              "      <th>80</th>\n",
              "      <td>Iron Man 2</td>\n",
              "      <td>2010</td>\n",
              "      <td>Action|Adventure|Sci-Fi</td>\n",
              "      <td>English</td>\n",
              "      <td>200.0</td>\n",
              "      <td>312.057433</td>\n",
              "      <td>7.0</td>\n",
              "    </tr>\n",
              "    <tr>\n",
              "      <th>212</th>\n",
              "      <td>Sherlock Holmes: A Game of Shadows</td>\n",
              "      <td>2011</td>\n",
              "      <td>Action|Adventure|Crime|Mystery|Thriller</td>\n",
              "      <td>English</td>\n",
              "      <td>125.0</td>\n",
              "      <td>186.830669</td>\n",
              "      <td>7.5</td>\n",
              "    </tr>\n",
              "    <tr>\n",
              "      <th>363</th>\n",
              "      <td>Tropic Thunder</td>\n",
              "      <td>2008</td>\n",
              "      <td>Action|Comedy</td>\n",
              "      <td>English</td>\n",
              "      <td>92.0</td>\n",
              "      <td>110.416702</td>\n",
              "      <td>7.0</td>\n",
              "    </tr>\n",
              "    <tr>\n",
              "      <th>366</th>\n",
              "      <td>Sherlock Holmes</td>\n",
              "      <td>2009</td>\n",
              "      <td>Action|Adventure|Crime|Mystery|Thriller</td>\n",
              "      <td>English</td>\n",
              "      <td>90.0</td>\n",
              "      <td>209.019489</td>\n",
              "      <td>7.6</td>\n",
              "    </tr>\n",
              "    <tr>\n",
              "      <th>434</th>\n",
              "      <td>Zodiac</td>\n",
              "      <td>2007</td>\n",
              "      <td>Crime|Drama|History|Mystery|Thriller</td>\n",
              "      <td>English</td>\n",
              "      <td>65.0</td>\n",
              "      <td>33.048353</td>\n",
              "      <td>7.7</td>\n",
              "    </tr>\n",
              "    <tr>\n",
              "      <th>662</th>\n",
              "      <td>Due Date</td>\n",
              "      <td>2010</td>\n",
              "      <td>Comedy|Drama</td>\n",
              "      <td>English</td>\n",
              "      <td>65.0</td>\n",
              "      <td>100.448498</td>\n",
              "      <td>6.6</td>\n",
              "    </tr>\n",
              "    <tr>\n",
              "      <th>747</th>\n",
              "      <td>The Shaggy Dog</td>\n",
              "      <td>2006</td>\n",
              "      <td>Comedy|Family|Fantasy</td>\n",
              "      <td>English</td>\n",
              "      <td>50.0</td>\n",
              "      <td>61.112916</td>\n",
              "      <td>4.4</td>\n",
              "    </tr>\n",
              "    <tr>\n",
              "      <th>786</th>\n",
              "      <td>The Soloist</td>\n",
              "      <td>2009</td>\n",
              "      <td>Biography|Drama|Music</td>\n",
              "      <td>English</td>\n",
              "      <td>60.0</td>\n",
              "      <td>31.670931</td>\n",
              "      <td>6.7</td>\n",
              "    </tr>\n",
              "    <tr>\n",
              "      <th>856</th>\n",
              "      <td>Bowfinger</td>\n",
              "      <td>1999</td>\n",
              "      <td>Comedy</td>\n",
              "      <td>English</td>\n",
              "      <td>55.0</td>\n",
              "      <td>66.365290</td>\n",
              "      <td>6.4</td>\n",
              "    </tr>\n",
              "    <tr>\n",
              "      <th>910</th>\n",
              "      <td>Lucky You</td>\n",
              "      <td>2007</td>\n",
              "      <td>Drama|Romance|Sport</td>\n",
              "      <td>English</td>\n",
              "      <td>55.0</td>\n",
              "      <td>5.755286</td>\n",
              "      <td>5.9</td>\n",
              "    </tr>\n",
              "    <tr>\n",
              "      <th>983</th>\n",
              "      <td>The Judge</td>\n",
              "      <td>2014</td>\n",
              "      <td>Crime|Drama</td>\n",
              "      <td>English</td>\n",
              "      <td>50.0</td>\n",
              "      <td>47.105085</td>\n",
              "      <td>7.4</td>\n",
              "    </tr>\n",
              "    <tr>\n",
              "      <th>1247</th>\n",
              "      <td>Gothika</td>\n",
              "      <td>2003</td>\n",
              "      <td>Horror|Mystery|Thriller</td>\n",
              "      <td>English</td>\n",
              "      <td>40.0</td>\n",
              "      <td>59.588068</td>\n",
              "      <td>5.8</td>\n",
              "    </tr>\n",
              "    <tr>\n",
              "      <th>1471</th>\n",
              "      <td>Wonder Boys</td>\n",
              "      <td>2000</td>\n",
              "      <td>Comedy|Drama</td>\n",
              "      <td>English</td>\n",
              "      <td>55.0</td>\n",
              "      <td>19.389454</td>\n",
              "      <td>7.4</td>\n",
              "    </tr>\n",
              "    <tr>\n",
              "      <th>1701</th>\n",
              "      <td>In Dreams</td>\n",
              "      <td>1999</td>\n",
              "      <td>Drama|Fantasy|Thriller</td>\n",
              "      <td>English</td>\n",
              "      <td>30.0</td>\n",
              "      <td>11.900000</td>\n",
              "      <td>5.5</td>\n",
              "    </tr>\n",
              "    <tr>\n",
              "      <th>2255</th>\n",
              "      <td>Home for the Holidays</td>\n",
              "      <td>1995</td>\n",
              "      <td>Comedy|Drama|Romance</td>\n",
              "      <td>English</td>\n",
              "      <td>20.0</td>\n",
              "      <td>17.518220</td>\n",
              "      <td>6.6</td>\n",
              "    </tr>\n",
              "    <tr>\n",
              "      <th>2311</th>\n",
              "      <td>A Scanner Darkly</td>\n",
              "      <td>2006</td>\n",
              "      <td>Animation|Drama|Mystery|Sci-Fi|Thriller</td>\n",
              "      <td>English</td>\n",
              "      <td>8.7</td>\n",
              "      <td>5.480996</td>\n",
              "      <td>7.1</td>\n",
              "    </tr>\n",
              "    <tr>\n",
              "      <th>2532</th>\n",
              "      <td>Fur: An Imaginary Portrait of Diane Arbus</td>\n",
              "      <td>2006</td>\n",
              "      <td>Biography|Drama|Romance</td>\n",
              "      <td>English</td>\n",
              "      <td>16.8</td>\n",
              "      <td>0.220914</td>\n",
              "      <td>6.5</td>\n",
              "    </tr>\n",
              "    <tr>\n",
              "      <th>2721</th>\n",
              "      <td>Kiss Kiss Bang Bang</td>\n",
              "      <td>2005</td>\n",
              "      <td>Comedy|Crime|Mystery</td>\n",
              "      <td>English</td>\n",
              "      <td>15.0</td>\n",
              "      <td>4.235837</td>\n",
              "      <td>7.6</td>\n",
              "    </tr>\n",
              "    <tr>\n",
              "      <th>2991</th>\n",
              "      <td>Charlie Bartlett</td>\n",
              "      <td>2007</td>\n",
              "      <td>Comedy|Drama|Romance</td>\n",
              "      <td>English</td>\n",
              "      <td>12.0</td>\n",
              "      <td>3.950294</td>\n",
              "      <td>7.0</td>\n",
              "    </tr>\n",
              "    <tr>\n",
              "      <th>3271</th>\n",
              "      <td>Richard III</td>\n",
              "      <td>1995</td>\n",
              "      <td>Drama|War</td>\n",
              "      <td>English</td>\n",
              "      <td>6.0</td>\n",
              "      <td>2.600000</td>\n",
              "      <td>7.5</td>\n",
              "    </tr>\n",
              "    <tr>\n",
              "      <th>3413</th>\n",
              "      <td>The Singing Detective</td>\n",
              "      <td>2003</td>\n",
              "      <td>Comedy|Crime|Musical|Mystery</td>\n",
              "      <td>English</td>\n",
              "      <td>8.0</td>\n",
              "      <td>0.336456</td>\n",
              "      <td>5.6</td>\n",
              "    </tr>\n",
              "    <tr>\n",
              "      <th>3477</th>\n",
              "      <td>Good Night, and Good Luck.</td>\n",
              "      <td>2005</td>\n",
              "      <td>Biography|Drama|History</td>\n",
              "      <td>English</td>\n",
              "      <td>7.5</td>\n",
              "      <td>31.501218</td>\n",
              "      <td>7.5</td>\n",
              "    </tr>\n",
              "    <tr>\n",
              "      <th>4563</th>\n",
              "      <td>Two Girls and a Guy</td>\n",
              "      <td>1997</td>\n",
              "      <td>Comedy|Drama</td>\n",
              "      <td>English</td>\n",
              "      <td>1.0</td>\n",
              "      <td>1.950218</td>\n",
              "      <td>5.6</td>\n",
              "    </tr>\n",
              "    <tr>\n",
              "      <th>8</th>\n",
              "      <td>Avengers: Age of Ultron</td>\n",
              "      <td>2015</td>\n",
              "      <td>Action|Adventure|Sci-Fi</td>\n",
              "      <td>English</td>\n",
              "      <td>250.0</td>\n",
              "      <td>458.991599</td>\n",
              "      <td>7.5</td>\n",
              "    </tr>\n",
              "    <tr>\n",
              "      <th>17</th>\n",
              "      <td>The Avengers</td>\n",
              "      <td>2012</td>\n",
              "      <td>Action|Adventure|Sci-Fi</td>\n",
              "      <td>English</td>\n",
              "      <td>220.0</td>\n",
              "      <td>623.279547</td>\n",
              "      <td>8.1</td>\n",
              "    </tr>\n",
              "  </tbody>\n",
              "</table>\n",
              "</div>"
            ],
            "text/plain": [
              "                                     movie_title  ...  imdb_score\n",
              "27                   Captain America: Civil War   ...         8.2\n",
              "32                                   Iron Man 3   ...         7.2\n",
              "69                                     Iron Man   ...         7.9\n",
              "80                                   Iron Man 2   ...         7.0\n",
              "212          Sherlock Holmes: A Game of Shadows   ...         7.5\n",
              "363                              Tropic Thunder   ...         7.0\n",
              "366                             Sherlock Holmes   ...         7.6\n",
              "434                                      Zodiac   ...         7.7\n",
              "662                                    Due Date   ...         6.6\n",
              "747                              The Shaggy Dog   ...         4.4\n",
              "786                                 The Soloist   ...         6.7\n",
              "856                                   Bowfinger   ...         6.4\n",
              "910                                   Lucky You   ...         5.9\n",
              "983                                   The Judge   ...         7.4\n",
              "1247                                    Gothika   ...         5.8\n",
              "1471                                Wonder Boys   ...         7.4\n",
              "1701                                  In Dreams   ...         5.5\n",
              "2255                      Home for the Holidays   ...         6.6\n",
              "2311                           A Scanner Darkly   ...         7.1\n",
              "2532  Fur: An Imaginary Portrait of Diane Arbus   ...         6.5\n",
              "2721                        Kiss Kiss Bang Bang   ...         7.6\n",
              "2991                           Charlie Bartlett   ...         7.0\n",
              "3271                                Richard III   ...         7.5\n",
              "3413                      The Singing Detective   ...         5.6\n",
              "3477                 Good Night, and Good Luck.   ...         7.5\n",
              "4563                        Two Girls and a Guy   ...         5.6\n",
              "8                       Avengers: Age of Ultron   ...         7.5\n",
              "17                                 The Avengers   ...         8.1\n",
              "\n",
              "[28 rows x 7 columns]"
            ]
          },
          "metadata": {
            "tags": []
          },
          "execution_count": 204
        }
      ]
    },
    {
      "cell_type": "code",
      "metadata": {
        "colab": {
          "base_uri": "https://localhost:8080/"
        },
        "id": "I2zAoknjTEDi",
        "outputId": "9de2b5ce-4f36-4147-f1a4-159e6751ba64"
      },
      "source": [
        "#create a report considering actor is first, 2nd and 3rd lead in a movie\n",
        "\n",
        "def actors_report(x):\n",
        "    a = data[data['actor_1_name'] == x]\n",
        "    b = data[data['actor_2_name'] == x]\n",
        "    c = data[data['actor_3_name'] == x]\n",
        "    x = a.append(b)\n",
        "    y = x.append(c)\n",
        "    print(\"Time:\",y['title_year'].min(), y['title_year'].max())\n",
        "    print(\"Max Gross : {0:.2f} Millions\".format(y['gross'].max()))\n",
        "    print(\"Avg Gross : {0:.2f} Millions\".format(y['gross'].mean()))\n",
        "    print(\"Min Gross : {0:.2f} Millions\".format(y['gross'].min()))\n",
        "    print(\"Number of 100 Million Movies :\", y[y['gross'] > 100].shape[0])\n",
        "    print(\"Avg IMDB Score : {0:.2f}\".format(y['imdb_score'].mean()))\n",
        "    print(\"Most Common Genres:\\n\",y['Genre1'].value_counts().head())\n",
        "    \n",
        "actors_report('Robert Downey Jr.')"
      ],
      "execution_count": 205,
      "outputs": [
        {
          "output_type": "stream",
          "text": [
            "Time: 1995 2016\n",
            "Max Gross : 623.28 Millions\n",
            "Avg Gross : 126.40 Millions\n",
            "Min Gross : 0.22 Millions\n",
            "Number of 100 Million Movies : 10\n",
            "Avg IMDB Score : 6.89\n",
            "Most Common Genres:\n",
            " Comedy       9\n",
            "Action       9\n",
            "Drama        3\n",
            "Biography    3\n",
            "Crime        2\n",
            "Name: Genre1, dtype: int64\n"
          ],
          "name": "stdout"
        }
      ]
    },
    {
      "cell_type": "code",
      "metadata": {
        "colab": {
          "base_uri": "https://localhost:8080/"
        },
        "id": "2dK0digylRi2",
        "outputId": "3030a58a-2b09-4e42-a22b-85cf696b2f4a"
      },
      "source": [
        "print(\"Top 5 Highest Rated Movies of Leonardo DiCaprio\\n\", \n",
        "    data[data['actor_1_name'] == 'Leonardo DiCaprio'][['movie_title', 'gross', 'imdb_score']].sort_values(by = 'imdb_score', ascending = False).head(5))"
      ],
      "execution_count": 206,
      "outputs": [
        {
          "output_type": "stream",
          "text": [
            "Top 5 Highest Rated Movies of Leonardo DiCaprio\n",
            "                   movie_title       gross  imdb_score\n",
            "97                 Inception   292.568851         8.8\n",
            "361             The Departed   132.373442         8.5\n",
            "296         Django Unchained   162.804648         8.5\n",
            "308  The Wolf of Wall Street   116.866727         8.2\n",
            "452           Shutter Island   127.968405         8.1\n"
          ],
          "name": "stdout"
        }
      ]
    },
    {
      "cell_type": "markdown",
      "metadata": {
        "id": "JOly8n4JmFJ3"
      },
      "source": [
        "## Compare Actors Performance based on Critic Reviews"
      ]
    },
    {
      "cell_type": "code",
      "metadata": {
        "colab": {
          "base_uri": "https://localhost:8080/",
          "height": 119
        },
        "id": "LqvRXKKZTEDi",
        "outputId": "6b1634a3-d400-4359-e025-954f66664467"
      },
      "source": [
        "# Lets compare Brad Pitt, Tom Hanks and Keanu Reeves\n",
        "\n",
        "def critically_acclaimed_actors(m):\n",
        "    a = data[data['actor_1_name'] == m]\n",
        "    b = data[data['actor_2_name'] == m]\n",
        "    c = data[data['actor_3_name'] == m]\n",
        "    x = a.append(b)\n",
        "    y = x.append(c)\n",
        "    return y['num_critic_for_reviews'].sum().astype('int')\n",
        "\n",
        "\n",
        "print(\"Number of Critics Reviews for Brad Pitt\")\n",
        "display(critically_acclaimed_actors('Brad Pitt'))\n",
        "\n",
        "print(\"Number of Critics Reviews for Tom Hanks\")\n",
        "display(critically_acclaimed_actors('Tom Hanks'))\n",
        "\n",
        "print(\"Number of Critics Reviews for Keanu Reeves\")\n",
        "display(critically_acclaimed_actors('Keanu Reeves'))"
      ],
      "execution_count": 207,
      "outputs": [
        {
          "output_type": "stream",
          "text": [
            "Number of Critics Reviews for Brad Pitt\n"
          ],
          "name": "stdout"
        },
        {
          "output_type": "display_data",
          "data": {
            "text/plain": [
              "7814"
            ]
          },
          "metadata": {
            "tags": []
          }
        },
        {
          "output_type": "stream",
          "text": [
            "Number of Critics Reviews for Tom Hanks\n"
          ],
          "name": "stdout"
        },
        {
          "output_type": "display_data",
          "data": {
            "text/plain": [
              "6403"
            ]
          },
          "metadata": {
            "tags": []
          }
        },
        {
          "output_type": "stream",
          "text": [
            "Number of Critics Reviews for Keanu Reeves\n"
          ],
          "name": "stdout"
        },
        {
          "output_type": "display_data",
          "data": {
            "text/plain": [
              "3273"
            ]
          },
          "metadata": {
            "tags": []
          }
        }
      ]
    },
    {
      "cell_type": "code",
      "metadata": {
        "scrolled": true,
        "colab": {
          "base_uri": "https://localhost:8080/",
          "height": 175,
          "referenced_widgets": [
            "b6959c256d4f462cacc4ec1298ace3a8",
            "a44fb77fe6b840b2b1651b9741f92e8f",
            "a6085822b5774fa68e403648504d879a",
            "d839385401f64d368ec0bb7c7d6c124a",
            "958e2c6584ce4623bd9f2bfd7ab62949",
            "74a544d5e2c64dba88c9a3f7d74871cb",
            "4b02ea367b2a47b1912c5bb08c4e1bf3",
            "207d995866ae43858bff388cc9483385",
            "d476579c3d3f404dbdc7c2a95e65822e",
            "244c30386e49456cb7dab4b26f04b400"
          ]
        },
        "id": "7lDIXfo2TEDi",
        "outputId": "9d0c7204-cc37-4d3c-a0c2-27f21383ef2c"
      },
      "source": [
        "pd.set_option('max_rows', 3000)\n",
        "\n",
        "@interact\n",
        "def show_movies_more_than(column='imdb_score', score=9.0):\n",
        "    x = data.loc[data[column] > score][[ 'title_year','movie_title',\n",
        "                                       'director_name',\n",
        "                                       'actor_1_name',\n",
        "                                       'actor_2_name',\n",
        "                                       'actor_3_name',\n",
        "                                       'Profit',\n",
        "                                       'imdb_score',\n",
        "                                    ]]\n",
        "    x = x.sort_values(by = 'imdb_score', ascending = False)\n",
        "    x = x.drop_duplicates(keep = 'first')\n",
        "    return x"
      ],
      "execution_count": 208,
      "outputs": [
        {
          "output_type": "display_data",
          "data": {
            "application/vnd.jupyter.widget-view+json": {
              "model_id": "b6959c256d4f462cacc4ec1298ace3a8",
              "version_minor": 0,
              "version_major": 2
            },
            "text/plain": [
              "interactive(children=(Text(value='imdb_score', description='column'), FloatSlider(value=9.0, description='scor…"
            ]
          },
          "metadata": {
            "tags": []
          }
        }
      ]
    },
    {
      "cell_type": "code",
      "metadata": {
        "scrolled": false,
        "colab": {
          "base_uri": "https://localhost:8080/",
          "height": 299,
          "referenced_widgets": [
            "c7c39326987646699643c7ba4f582cf0",
            "7ce45a097775441e940787d233d08fbf",
            "7713d384e9d94dd1aa7bcac28fb2837f",
            "20fee897a2f44adb8c63a907001e5b25",
            "71a791bde19347a6834d7a8d16ed449d",
            "a10af59c27bc4b178f22cdd17a555c37",
            "b6b158943c484875ac5b6ba333c8a492",
            "e7799bad00824c7b91f2266bf5dcc965",
            "eee27e0c432f4de7a7e76ed7037c1e69",
            "0eb50957d1cd45c5889bf0431576fb45"
          ]
        },
        "id": "dg6DnbvVTEDi",
        "outputId": "96a1f099-a3af-4b11-dae5-7de5c1c63a74"
      },
      "source": [
        "pd.set_option('max_rows', 30000)\n",
        "\n",
        "@interact\n",
        "def show_articles_more_than(column=['budget', 'gross'], x=1000):\n",
        "    return data.loc[data[column] > x][['movie_title','duration','gross','Profit','imdb_score']]"
      ],
      "execution_count": 209,
      "outputs": [
        {
          "output_type": "display_data",
          "data": {
            "application/vnd.jupyter.widget-view+json": {
              "model_id": "c7c39326987646699643c7ba4f582cf0",
              "version_minor": 0,
              "version_major": 2
            },
            "text/plain": [
              "interactive(children=(Dropdown(description='column', options=('budget', 'gross'), value='budget'), IntSlider(v…"
            ]
          },
          "metadata": {
            "tags": []
          }
        }
      ]
    },
    {
      "cell_type": "markdown",
      "metadata": {
        "id": "fnEAhNigTEDj"
      },
      "source": [
        "## Recommending Movies based on Languages"
      ]
    },
    {
      "cell_type": "code",
      "metadata": {
        "scrolled": true,
        "id": "AG8Doa43TEDj"
      },
      "source": [
        "def recommend_lang(x):\n",
        "    y = data[['language','movie_title','imdb_score']][data['language'] == x]\n",
        "    y = y.sort_values(by = 'imdb_score', ascending = False)\n",
        "    return y.head(15)\n"
      ],
      "execution_count": 210,
      "outputs": []
    },
    {
      "cell_type": "code",
      "metadata": {
        "scrolled": false,
        "colab": {
          "base_uri": "https://localhost:8080/",
          "height": 514
        },
        "id": "Fa44x4ygTEDj",
        "outputId": "70cd89fe-4521-41aa-be3f-1677b7101ab0"
      },
      "source": [
        "recommend_lang('Foreign')"
      ],
      "execution_count": 211,
      "outputs": [
        {
          "output_type": "execute_result",
          "data": {
            "text/html": [
              "<div>\n",
              "<style scoped>\n",
              "    .dataframe tbody tr th:only-of-type {\n",
              "        vertical-align: middle;\n",
              "    }\n",
              "\n",
              "    .dataframe tbody tr th {\n",
              "        vertical-align: top;\n",
              "    }\n",
              "\n",
              "    .dataframe thead th {\n",
              "        text-align: right;\n",
              "    }\n",
              "</style>\n",
              "<table border=\"1\" class=\"dataframe\">\n",
              "  <thead>\n",
              "    <tr style=\"text-align: right;\">\n",
              "      <th></th>\n",
              "      <th>language</th>\n",
              "      <th>movie_title</th>\n",
              "      <th>imdb_score</th>\n",
              "    </tr>\n",
              "  </thead>\n",
              "  <tbody>\n",
              "    <tr>\n",
              "      <th>4498</th>\n",
              "      <td>Foreign</td>\n",
              "      <td>The Good, the Bad and the Ugly</td>\n",
              "      <td>8.9</td>\n",
              "    </tr>\n",
              "    <tr>\n",
              "      <th>4029</th>\n",
              "      <td>Foreign</td>\n",
              "      <td>City of God</td>\n",
              "      <td>8.7</td>\n",
              "    </tr>\n",
              "    <tr>\n",
              "      <th>4747</th>\n",
              "      <td>Foreign</td>\n",
              "      <td>Seven Samurai</td>\n",
              "      <td>8.7</td>\n",
              "    </tr>\n",
              "    <tr>\n",
              "      <th>2373</th>\n",
              "      <td>Foreign</td>\n",
              "      <td>Spirited Away</td>\n",
              "      <td>8.6</td>\n",
              "    </tr>\n",
              "    <tr>\n",
              "      <th>4921</th>\n",
              "      <td>Foreign</td>\n",
              "      <td>Children of Heaven</td>\n",
              "      <td>8.5</td>\n",
              "    </tr>\n",
              "    <tr>\n",
              "      <th>4259</th>\n",
              "      <td>Foreign</td>\n",
              "      <td>The Lives of Others</td>\n",
              "      <td>8.5</td>\n",
              "    </tr>\n",
              "    <tr>\n",
              "      <th>3931</th>\n",
              "      <td>Foreign</td>\n",
              "      <td>Samsara</td>\n",
              "      <td>8.5</td>\n",
              "    </tr>\n",
              "    <tr>\n",
              "      <th>4659</th>\n",
              "      <td>Foreign</td>\n",
              "      <td>A Separation</td>\n",
              "      <td>8.4</td>\n",
              "    </tr>\n",
              "    <tr>\n",
              "      <th>1329</th>\n",
              "      <td>Foreign</td>\n",
              "      <td>Baahubali: The Beginning</td>\n",
              "      <td>8.4</td>\n",
              "    </tr>\n",
              "    <tr>\n",
              "      <th>2970</th>\n",
              "      <td>Foreign</td>\n",
              "      <td>Das Boot</td>\n",
              "      <td>8.4</td>\n",
              "    </tr>\n",
              "    <tr>\n",
              "      <th>4105</th>\n",
              "      <td>Foreign</td>\n",
              "      <td>Oldboy</td>\n",
              "      <td>8.4</td>\n",
              "    </tr>\n",
              "    <tr>\n",
              "      <th>1298</th>\n",
              "      <td>Foreign</td>\n",
              "      <td>Amélie</td>\n",
              "      <td>8.4</td>\n",
              "    </tr>\n",
              "    <tr>\n",
              "      <th>2323</th>\n",
              "      <td>Foreign</td>\n",
              "      <td>Princess Mononoke</td>\n",
              "      <td>8.4</td>\n",
              "    </tr>\n",
              "    <tr>\n",
              "      <th>2829</th>\n",
              "      <td>Foreign</td>\n",
              "      <td>Downfall</td>\n",
              "      <td>8.3</td>\n",
              "    </tr>\n",
              "    <tr>\n",
              "      <th>4033</th>\n",
              "      <td>Foreign</td>\n",
              "      <td>The Hunt</td>\n",
              "      <td>8.3</td>\n",
              "    </tr>\n",
              "  </tbody>\n",
              "</table>\n",
              "</div>"
            ],
            "text/plain": [
              "     language                      movie_title  imdb_score\n",
              "4498  Foreign  The Good, the Bad and the Ugly          8.9\n",
              "4029  Foreign                     City of God          8.7\n",
              "4747  Foreign                   Seven Samurai          8.7\n",
              "2373  Foreign                   Spirited Away          8.6\n",
              "4921  Foreign              Children of Heaven          8.5\n",
              "4259  Foreign             The Lives of Others          8.5\n",
              "3931  Foreign                         Samsara          8.5\n",
              "4659  Foreign                    A Separation          8.4\n",
              "1329  Foreign        Baahubali: The Beginning          8.4\n",
              "2970  Foreign                        Das Boot          8.4\n",
              "4105  Foreign                          Oldboy          8.4\n",
              "1298  Foreign                          Amélie          8.4\n",
              "2323  Foreign               Princess Mononoke          8.4\n",
              "2829  Foreign                        Downfall          8.3\n",
              "4033  Foreign                        The Hunt          8.3"
            ]
          },
          "metadata": {
            "tags": []
          },
          "execution_count": 211
        }
      ]
    },
    {
      "cell_type": "markdown",
      "metadata": {
        "id": "a8KX0LI5TEDj"
      },
      "source": [
        "## Recommending Movies Based on Actors"
      ]
    },
    {
      "cell_type": "code",
      "metadata": {
        "scrolled": false,
        "id": "Uu-CNbhKTEDj"
      },
      "source": [
        "def recommend_movies_on_actors(x):\n",
        "    a = data[['movie_title','imdb_score']][data['actor_1_name'] == x]\n",
        "    b = data[['movie_title','imdb_score']][data['actor_2_name'] == x]\n",
        "    c = data[['movie_title','imdb_score']][data['actor_3_name'] == x]\n",
        "    a = a.append(b)\n",
        "    a = a.append(c)\n",
        "    a = a.sort_values(by = 'imdb_score', ascending = False)\n",
        "    return a.head(15)"
      ],
      "execution_count": 212,
      "outputs": []
    },
    {
      "cell_type": "code",
      "metadata": {
        "scrolled": false,
        "colab": {
          "base_uri": "https://localhost:8080/",
          "height": 514
        },
        "id": "-07dSap-TEDj",
        "outputId": "be1fb3f5-e167-4fa9-9d5e-7ce057e45af0"
      },
      "source": [
        "recommend_movies_on_actors('Meryl Streep')"
      ],
      "execution_count": 213,
      "outputs": [
        {
          "output_type": "execute_result",
          "data": {
            "text/html": [
              "<div>\n",
              "<style scoped>\n",
              "    .dataframe tbody tr th:only-of-type {\n",
              "        vertical-align: middle;\n",
              "    }\n",
              "\n",
              "    .dataframe tbody tr th {\n",
              "        vertical-align: top;\n",
              "    }\n",
              "\n",
              "    .dataframe thead th {\n",
              "        text-align: right;\n",
              "    }\n",
              "</style>\n",
              "<table border=\"1\" class=\"dataframe\">\n",
              "  <thead>\n",
              "    <tr style=\"text-align: right;\">\n",
              "      <th></th>\n",
              "      <th>movie_title</th>\n",
              "      <th>imdb_score</th>\n",
              "    </tr>\n",
              "  </thead>\n",
              "  <tbody>\n",
              "    <tr>\n",
              "      <th>1295</th>\n",
              "      <td>Fantastic Mr. Fox</td>\n",
              "      <td>7.8</td>\n",
              "    </tr>\n",
              "    <tr>\n",
              "      <th>2386</th>\n",
              "      <td>Adaptation.</td>\n",
              "      <td>7.7</td>\n",
              "    </tr>\n",
              "    <tr>\n",
              "      <th>1925</th>\n",
              "      <td>The Hours</td>\n",
              "      <td>7.6</td>\n",
              "    </tr>\n",
              "    <tr>\n",
              "      <th>2206</th>\n",
              "      <td>Doubt</td>\n",
              "      <td>7.5</td>\n",
              "    </tr>\n",
              "    <tr>\n",
              "      <th>2086</th>\n",
              "      <td>The Bridges of Madison County</td>\n",
              "      <td>7.5</td>\n",
              "    </tr>\n",
              "    <tr>\n",
              "      <th>1941</th>\n",
              "      <td>August: Osage County</td>\n",
              "      <td>7.3</td>\n",
              "    </tr>\n",
              "    <tr>\n",
              "      <th>1575</th>\n",
              "      <td>Out of Africa</td>\n",
              "      <td>7.2</td>\n",
              "    </tr>\n",
              "    <tr>\n",
              "      <th>1204</th>\n",
              "      <td>Julie &amp; Julia</td>\n",
              "      <td>7.0</td>\n",
              "    </tr>\n",
              "    <tr>\n",
              "      <th>1674</th>\n",
              "      <td>One True Thing</td>\n",
              "      <td>7.0</td>\n",
              "    </tr>\n",
              "    <tr>\n",
              "      <th>1408</th>\n",
              "      <td>The Devil Wears Prada</td>\n",
              "      <td>6.8</td>\n",
              "    </tr>\n",
              "    <tr>\n",
              "      <th>1801</th>\n",
              "      <td>Rendition</td>\n",
              "      <td>6.8</td>\n",
              "    </tr>\n",
              "    <tr>\n",
              "      <th>3135</th>\n",
              "      <td>A Prairie Home Companion</td>\n",
              "      <td>6.8</td>\n",
              "    </tr>\n",
              "    <tr>\n",
              "      <th>2067</th>\n",
              "      <td>Marvin's Room</td>\n",
              "      <td>6.7</td>\n",
              "    </tr>\n",
              "    <tr>\n",
              "      <th>410</th>\n",
              "      <td>It's Complicated</td>\n",
              "      <td>6.6</td>\n",
              "    </tr>\n",
              "    <tr>\n",
              "      <th>1920</th>\n",
              "      <td>The Giver</td>\n",
              "      <td>6.5</td>\n",
              "    </tr>\n",
              "  </tbody>\n",
              "</table>\n",
              "</div>"
            ],
            "text/plain": [
              "                         movie_title  imdb_score\n",
              "1295              Fantastic Mr. Fox          7.8\n",
              "2386                    Adaptation.          7.7\n",
              "1925                      The Hours          7.6\n",
              "2206                          Doubt          7.5\n",
              "2086  The Bridges of Madison County          7.5\n",
              "1941           August: Osage County          7.3\n",
              "1575                  Out of Africa          7.2\n",
              "1204                  Julie & Julia          7.0\n",
              "1674                 One True Thing          7.0\n",
              "1408          The Devil Wears Prada          6.8\n",
              "1801                      Rendition          6.8\n",
              "3135       A Prairie Home Companion          6.8\n",
              "2067                  Marvin's Room          6.7\n",
              "410                It's Complicated          6.6\n",
              "1920                      The Giver          6.5"
            ]
          },
          "metadata": {
            "tags": []
          },
          "execution_count": 213
        }
      ]
    },
    {
      "cell_type": "markdown",
      "metadata": {
        "id": "CLJdezEATEDj"
      },
      "source": [
        "## Recommending Movies Based on Genres"
      ]
    },
    {
      "cell_type": "markdown",
      "metadata": {
        "id": "Xw2MquSaoymE"
      },
      "source": [
        "TrusactionEncoder is an encoder class for transaction data in Python lists which can transform the genres data into a logical dataframe. Each column represents a genre and each row represent a record or a movie. True if the movies falls into a genre, False if not."
      ]
    },
    {
      "cell_type": "code",
      "metadata": {
        "scrolled": true,
        "colab": {
          "base_uri": "https://localhost:8080/",
          "height": 204
        },
        "id": "wSPcGYL6TEDk",
        "outputId": "fef6695b-80c4-4c9e-8841-64525768752e"
      },
      "source": [
        "from mlxtend.preprocessing import TransactionEncoder\n",
        "\n",
        "x = data['genres'].str.split('|')\n",
        "te = TransactionEncoder()\n",
        "x = te.fit_transform(x)\n",
        "x = pd.DataFrame(x, columns = te.columns_)\n",
        "x.head()"
      ],
      "execution_count": 214,
      "outputs": [
        {
          "output_type": "execute_result",
          "data": {
            "text/html": [
              "<div>\n",
              "<style scoped>\n",
              "    .dataframe tbody tr th:only-of-type {\n",
              "        vertical-align: middle;\n",
              "    }\n",
              "\n",
              "    .dataframe tbody tr th {\n",
              "        vertical-align: top;\n",
              "    }\n",
              "\n",
              "    .dataframe thead th {\n",
              "        text-align: right;\n",
              "    }\n",
              "</style>\n",
              "<table border=\"1\" class=\"dataframe\">\n",
              "  <thead>\n",
              "    <tr style=\"text-align: right;\">\n",
              "      <th></th>\n",
              "      <th>Action</th>\n",
              "      <th>Adventure</th>\n",
              "      <th>Animation</th>\n",
              "      <th>Biography</th>\n",
              "      <th>Comedy</th>\n",
              "      <th>Crime</th>\n",
              "      <th>Documentary</th>\n",
              "      <th>Drama</th>\n",
              "      <th>Family</th>\n",
              "      <th>Fantasy</th>\n",
              "      <th>Film-Noir</th>\n",
              "      <th>History</th>\n",
              "      <th>Horror</th>\n",
              "      <th>Music</th>\n",
              "      <th>Musical</th>\n",
              "      <th>Mystery</th>\n",
              "      <th>Romance</th>\n",
              "      <th>Sci-Fi</th>\n",
              "      <th>Short</th>\n",
              "      <th>Sport</th>\n",
              "      <th>Thriller</th>\n",
              "      <th>War</th>\n",
              "      <th>Western</th>\n",
              "    </tr>\n",
              "  </thead>\n",
              "  <tbody>\n",
              "    <tr>\n",
              "      <th>0</th>\n",
              "      <td>True</td>\n",
              "      <td>True</td>\n",
              "      <td>False</td>\n",
              "      <td>False</td>\n",
              "      <td>False</td>\n",
              "      <td>False</td>\n",
              "      <td>False</td>\n",
              "      <td>False</td>\n",
              "      <td>False</td>\n",
              "      <td>True</td>\n",
              "      <td>False</td>\n",
              "      <td>False</td>\n",
              "      <td>False</td>\n",
              "      <td>False</td>\n",
              "      <td>False</td>\n",
              "      <td>False</td>\n",
              "      <td>False</td>\n",
              "      <td>True</td>\n",
              "      <td>False</td>\n",
              "      <td>False</td>\n",
              "      <td>False</td>\n",
              "      <td>False</td>\n",
              "      <td>False</td>\n",
              "    </tr>\n",
              "    <tr>\n",
              "      <th>1</th>\n",
              "      <td>True</td>\n",
              "      <td>True</td>\n",
              "      <td>False</td>\n",
              "      <td>False</td>\n",
              "      <td>False</td>\n",
              "      <td>False</td>\n",
              "      <td>False</td>\n",
              "      <td>False</td>\n",
              "      <td>False</td>\n",
              "      <td>True</td>\n",
              "      <td>False</td>\n",
              "      <td>False</td>\n",
              "      <td>False</td>\n",
              "      <td>False</td>\n",
              "      <td>False</td>\n",
              "      <td>False</td>\n",
              "      <td>False</td>\n",
              "      <td>False</td>\n",
              "      <td>False</td>\n",
              "      <td>False</td>\n",
              "      <td>False</td>\n",
              "      <td>False</td>\n",
              "      <td>False</td>\n",
              "    </tr>\n",
              "    <tr>\n",
              "      <th>2</th>\n",
              "      <td>True</td>\n",
              "      <td>True</td>\n",
              "      <td>False</td>\n",
              "      <td>False</td>\n",
              "      <td>False</td>\n",
              "      <td>False</td>\n",
              "      <td>False</td>\n",
              "      <td>False</td>\n",
              "      <td>False</td>\n",
              "      <td>False</td>\n",
              "      <td>False</td>\n",
              "      <td>False</td>\n",
              "      <td>False</td>\n",
              "      <td>False</td>\n",
              "      <td>False</td>\n",
              "      <td>False</td>\n",
              "      <td>False</td>\n",
              "      <td>False</td>\n",
              "      <td>False</td>\n",
              "      <td>False</td>\n",
              "      <td>True</td>\n",
              "      <td>False</td>\n",
              "      <td>False</td>\n",
              "    </tr>\n",
              "    <tr>\n",
              "      <th>3</th>\n",
              "      <td>True</td>\n",
              "      <td>False</td>\n",
              "      <td>False</td>\n",
              "      <td>False</td>\n",
              "      <td>False</td>\n",
              "      <td>False</td>\n",
              "      <td>False</td>\n",
              "      <td>False</td>\n",
              "      <td>False</td>\n",
              "      <td>False</td>\n",
              "      <td>False</td>\n",
              "      <td>False</td>\n",
              "      <td>False</td>\n",
              "      <td>False</td>\n",
              "      <td>False</td>\n",
              "      <td>False</td>\n",
              "      <td>False</td>\n",
              "      <td>False</td>\n",
              "      <td>False</td>\n",
              "      <td>False</td>\n",
              "      <td>True</td>\n",
              "      <td>False</td>\n",
              "      <td>False</td>\n",
              "    </tr>\n",
              "    <tr>\n",
              "      <th>4</th>\n",
              "      <td>True</td>\n",
              "      <td>True</td>\n",
              "      <td>False</td>\n",
              "      <td>False</td>\n",
              "      <td>False</td>\n",
              "      <td>False</td>\n",
              "      <td>False</td>\n",
              "      <td>False</td>\n",
              "      <td>False</td>\n",
              "      <td>False</td>\n",
              "      <td>False</td>\n",
              "      <td>False</td>\n",
              "      <td>False</td>\n",
              "      <td>False</td>\n",
              "      <td>False</td>\n",
              "      <td>False</td>\n",
              "      <td>False</td>\n",
              "      <td>True</td>\n",
              "      <td>False</td>\n",
              "      <td>False</td>\n",
              "      <td>False</td>\n",
              "      <td>False</td>\n",
              "      <td>False</td>\n",
              "    </tr>\n",
              "  </tbody>\n",
              "</table>\n",
              "</div>"
            ],
            "text/plain": [
              "   Action  Adventure  Animation  Biography  ...  Sport  Thriller    War  Western\n",
              "0    True       True      False      False  ...  False     False  False    False\n",
              "1    True       True      False      False  ...  False     False  False    False\n",
              "2    True       True      False      False  ...  False      True  False    False\n",
              "3    True      False      False      False  ...  False      True  False    False\n",
              "4    True       True      False      False  ...  False     False  False    False\n",
              "\n",
              "[5 rows x 23 columns]"
            ]
          },
          "metadata": {
            "tags": []
          },
          "execution_count": 214
        }
      ]
    },
    {
      "cell_type": "code",
      "metadata": {
        "colab": {
          "base_uri": "https://localhost:8080/",
          "height": 238
        },
        "id": "fLyZnHTkTEDk",
        "outputId": "267010ba-e09c-4cf1-f3a9-7146bb4699c6"
      },
      "source": [
        "#convert the data into 0 and 1 to perform calculation\n",
        "genres = x.astype('int')\n",
        "genres.insert(0, 'movie_title', data['movie_title'])\n",
        "genres.head()"
      ],
      "execution_count": 215,
      "outputs": [
        {
          "output_type": "execute_result",
          "data": {
            "text/html": [
              "<div>\n",
              "<style scoped>\n",
              "    .dataframe tbody tr th:only-of-type {\n",
              "        vertical-align: middle;\n",
              "    }\n",
              "\n",
              "    .dataframe tbody tr th {\n",
              "        vertical-align: top;\n",
              "    }\n",
              "\n",
              "    .dataframe thead th {\n",
              "        text-align: right;\n",
              "    }\n",
              "</style>\n",
              "<table border=\"1\" class=\"dataframe\">\n",
              "  <thead>\n",
              "    <tr style=\"text-align: right;\">\n",
              "      <th></th>\n",
              "      <th>movie_title</th>\n",
              "      <th>Action</th>\n",
              "      <th>Adventure</th>\n",
              "      <th>Animation</th>\n",
              "      <th>Biography</th>\n",
              "      <th>Comedy</th>\n",
              "      <th>Crime</th>\n",
              "      <th>Documentary</th>\n",
              "      <th>Drama</th>\n",
              "      <th>Family</th>\n",
              "      <th>Fantasy</th>\n",
              "      <th>Film-Noir</th>\n",
              "      <th>History</th>\n",
              "      <th>Horror</th>\n",
              "      <th>Music</th>\n",
              "      <th>Musical</th>\n",
              "      <th>Mystery</th>\n",
              "      <th>Romance</th>\n",
              "      <th>Sci-Fi</th>\n",
              "      <th>Short</th>\n",
              "      <th>Sport</th>\n",
              "      <th>Thriller</th>\n",
              "      <th>War</th>\n",
              "      <th>Western</th>\n",
              "    </tr>\n",
              "  </thead>\n",
              "  <tbody>\n",
              "    <tr>\n",
              "      <th>0</th>\n",
              "      <td>Avatar</td>\n",
              "      <td>1</td>\n",
              "      <td>1</td>\n",
              "      <td>0</td>\n",
              "      <td>0</td>\n",
              "      <td>0</td>\n",
              "      <td>0</td>\n",
              "      <td>0</td>\n",
              "      <td>0</td>\n",
              "      <td>0</td>\n",
              "      <td>1</td>\n",
              "      <td>0</td>\n",
              "      <td>0</td>\n",
              "      <td>0</td>\n",
              "      <td>0</td>\n",
              "      <td>0</td>\n",
              "      <td>0</td>\n",
              "      <td>0</td>\n",
              "      <td>1</td>\n",
              "      <td>0</td>\n",
              "      <td>0</td>\n",
              "      <td>0</td>\n",
              "      <td>0</td>\n",
              "      <td>0</td>\n",
              "    </tr>\n",
              "    <tr>\n",
              "      <th>1</th>\n",
              "      <td>Pirates of the Caribbean: At World's End</td>\n",
              "      <td>1</td>\n",
              "      <td>1</td>\n",
              "      <td>0</td>\n",
              "      <td>0</td>\n",
              "      <td>0</td>\n",
              "      <td>0</td>\n",
              "      <td>0</td>\n",
              "      <td>0</td>\n",
              "      <td>0</td>\n",
              "      <td>1</td>\n",
              "      <td>0</td>\n",
              "      <td>0</td>\n",
              "      <td>0</td>\n",
              "      <td>0</td>\n",
              "      <td>0</td>\n",
              "      <td>0</td>\n",
              "      <td>0</td>\n",
              "      <td>0</td>\n",
              "      <td>0</td>\n",
              "      <td>0</td>\n",
              "      <td>0</td>\n",
              "      <td>0</td>\n",
              "      <td>0</td>\n",
              "    </tr>\n",
              "    <tr>\n",
              "      <th>2</th>\n",
              "      <td>Spectre</td>\n",
              "      <td>1</td>\n",
              "      <td>1</td>\n",
              "      <td>0</td>\n",
              "      <td>0</td>\n",
              "      <td>0</td>\n",
              "      <td>0</td>\n",
              "      <td>0</td>\n",
              "      <td>0</td>\n",
              "      <td>0</td>\n",
              "      <td>0</td>\n",
              "      <td>0</td>\n",
              "      <td>0</td>\n",
              "      <td>0</td>\n",
              "      <td>0</td>\n",
              "      <td>0</td>\n",
              "      <td>0</td>\n",
              "      <td>0</td>\n",
              "      <td>0</td>\n",
              "      <td>0</td>\n",
              "      <td>0</td>\n",
              "      <td>1</td>\n",
              "      <td>0</td>\n",
              "      <td>0</td>\n",
              "    </tr>\n",
              "    <tr>\n",
              "      <th>3</th>\n",
              "      <td>The Dark Knight Rises</td>\n",
              "      <td>1</td>\n",
              "      <td>0</td>\n",
              "      <td>0</td>\n",
              "      <td>0</td>\n",
              "      <td>0</td>\n",
              "      <td>0</td>\n",
              "      <td>0</td>\n",
              "      <td>0</td>\n",
              "      <td>0</td>\n",
              "      <td>0</td>\n",
              "      <td>0</td>\n",
              "      <td>0</td>\n",
              "      <td>0</td>\n",
              "      <td>0</td>\n",
              "      <td>0</td>\n",
              "      <td>0</td>\n",
              "      <td>0</td>\n",
              "      <td>0</td>\n",
              "      <td>0</td>\n",
              "      <td>0</td>\n",
              "      <td>1</td>\n",
              "      <td>0</td>\n",
              "      <td>0</td>\n",
              "    </tr>\n",
              "    <tr>\n",
              "      <th>4</th>\n",
              "      <td>NaN</td>\n",
              "      <td>1</td>\n",
              "      <td>1</td>\n",
              "      <td>0</td>\n",
              "      <td>0</td>\n",
              "      <td>0</td>\n",
              "      <td>0</td>\n",
              "      <td>0</td>\n",
              "      <td>0</td>\n",
              "      <td>0</td>\n",
              "      <td>0</td>\n",
              "      <td>0</td>\n",
              "      <td>0</td>\n",
              "      <td>0</td>\n",
              "      <td>0</td>\n",
              "      <td>0</td>\n",
              "      <td>0</td>\n",
              "      <td>0</td>\n",
              "      <td>1</td>\n",
              "      <td>0</td>\n",
              "      <td>0</td>\n",
              "      <td>0</td>\n",
              "      <td>0</td>\n",
              "      <td>0</td>\n",
              "    </tr>\n",
              "  </tbody>\n",
              "</table>\n",
              "</div>"
            ],
            "text/plain": [
              "                                 movie_title  Action  ...  War  Western\n",
              "0                                    Avatar        1  ...    0        0\n",
              "1  Pirates of the Caribbean: At World's End        1  ...    0        0\n",
              "2                                   Spectre        1  ...    0        0\n",
              "3                     The Dark Knight Rises        1  ...    0        0\n",
              "4                                        NaN       1  ...    0        0\n",
              "\n",
              "[5 rows x 24 columns]"
            ]
          },
          "metadata": {
            "tags": []
          },
          "execution_count": 215
        }
      ]
    },
    {
      "cell_type": "code",
      "metadata": {
        "colab": {
          "base_uri": "https://localhost:8080/",
          "height": 235
        },
        "id": "oQQtpHC7TEDk",
        "outputId": "c555eb64-afdc-49ff-acd5-39c217d103d4"
      },
      "source": [
        "# lets set these movie titles as index of the data\n",
        "genres = genres.set_index('movie_title')\n",
        "\n",
        "genres.head()"
      ],
      "execution_count": 216,
      "outputs": [
        {
          "output_type": "execute_result",
          "data": {
            "text/html": [
              "<div>\n",
              "<style scoped>\n",
              "    .dataframe tbody tr th:only-of-type {\n",
              "        vertical-align: middle;\n",
              "    }\n",
              "\n",
              "    .dataframe tbody tr th {\n",
              "        vertical-align: top;\n",
              "    }\n",
              "\n",
              "    .dataframe thead th {\n",
              "        text-align: right;\n",
              "    }\n",
              "</style>\n",
              "<table border=\"1\" class=\"dataframe\">\n",
              "  <thead>\n",
              "    <tr style=\"text-align: right;\">\n",
              "      <th></th>\n",
              "      <th>Action</th>\n",
              "      <th>Adventure</th>\n",
              "      <th>Animation</th>\n",
              "      <th>Biography</th>\n",
              "      <th>Comedy</th>\n",
              "      <th>Crime</th>\n",
              "      <th>Documentary</th>\n",
              "      <th>Drama</th>\n",
              "      <th>Family</th>\n",
              "      <th>Fantasy</th>\n",
              "      <th>Film-Noir</th>\n",
              "      <th>History</th>\n",
              "      <th>Horror</th>\n",
              "      <th>Music</th>\n",
              "      <th>Musical</th>\n",
              "      <th>Mystery</th>\n",
              "      <th>Romance</th>\n",
              "      <th>Sci-Fi</th>\n",
              "      <th>Short</th>\n",
              "      <th>Sport</th>\n",
              "      <th>Thriller</th>\n",
              "      <th>War</th>\n",
              "      <th>Western</th>\n",
              "    </tr>\n",
              "    <tr>\n",
              "      <th>movie_title</th>\n",
              "      <th></th>\n",
              "      <th></th>\n",
              "      <th></th>\n",
              "      <th></th>\n",
              "      <th></th>\n",
              "      <th></th>\n",
              "      <th></th>\n",
              "      <th></th>\n",
              "      <th></th>\n",
              "      <th></th>\n",
              "      <th></th>\n",
              "      <th></th>\n",
              "      <th></th>\n",
              "      <th></th>\n",
              "      <th></th>\n",
              "      <th></th>\n",
              "      <th></th>\n",
              "      <th></th>\n",
              "      <th></th>\n",
              "      <th></th>\n",
              "      <th></th>\n",
              "      <th></th>\n",
              "      <th></th>\n",
              "    </tr>\n",
              "  </thead>\n",
              "  <tbody>\n",
              "    <tr>\n",
              "      <th>Avatar</th>\n",
              "      <td>1</td>\n",
              "      <td>1</td>\n",
              "      <td>0</td>\n",
              "      <td>0</td>\n",
              "      <td>0</td>\n",
              "      <td>0</td>\n",
              "      <td>0</td>\n",
              "      <td>0</td>\n",
              "      <td>0</td>\n",
              "      <td>1</td>\n",
              "      <td>0</td>\n",
              "      <td>0</td>\n",
              "      <td>0</td>\n",
              "      <td>0</td>\n",
              "      <td>0</td>\n",
              "      <td>0</td>\n",
              "      <td>0</td>\n",
              "      <td>1</td>\n",
              "      <td>0</td>\n",
              "      <td>0</td>\n",
              "      <td>0</td>\n",
              "      <td>0</td>\n",
              "      <td>0</td>\n",
              "    </tr>\n",
              "    <tr>\n",
              "      <th>Pirates of the Caribbean: At World's End</th>\n",
              "      <td>1</td>\n",
              "      <td>1</td>\n",
              "      <td>0</td>\n",
              "      <td>0</td>\n",
              "      <td>0</td>\n",
              "      <td>0</td>\n",
              "      <td>0</td>\n",
              "      <td>0</td>\n",
              "      <td>0</td>\n",
              "      <td>1</td>\n",
              "      <td>0</td>\n",
              "      <td>0</td>\n",
              "      <td>0</td>\n",
              "      <td>0</td>\n",
              "      <td>0</td>\n",
              "      <td>0</td>\n",
              "      <td>0</td>\n",
              "      <td>0</td>\n",
              "      <td>0</td>\n",
              "      <td>0</td>\n",
              "      <td>0</td>\n",
              "      <td>0</td>\n",
              "      <td>0</td>\n",
              "    </tr>\n",
              "    <tr>\n",
              "      <th>Spectre</th>\n",
              "      <td>1</td>\n",
              "      <td>1</td>\n",
              "      <td>0</td>\n",
              "      <td>0</td>\n",
              "      <td>0</td>\n",
              "      <td>0</td>\n",
              "      <td>0</td>\n",
              "      <td>0</td>\n",
              "      <td>0</td>\n",
              "      <td>0</td>\n",
              "      <td>0</td>\n",
              "      <td>0</td>\n",
              "      <td>0</td>\n",
              "      <td>0</td>\n",
              "      <td>0</td>\n",
              "      <td>0</td>\n",
              "      <td>0</td>\n",
              "      <td>0</td>\n",
              "      <td>0</td>\n",
              "      <td>0</td>\n",
              "      <td>1</td>\n",
              "      <td>0</td>\n",
              "      <td>0</td>\n",
              "    </tr>\n",
              "    <tr>\n",
              "      <th>The Dark Knight Rises</th>\n",
              "      <td>1</td>\n",
              "      <td>0</td>\n",
              "      <td>0</td>\n",
              "      <td>0</td>\n",
              "      <td>0</td>\n",
              "      <td>0</td>\n",
              "      <td>0</td>\n",
              "      <td>0</td>\n",
              "      <td>0</td>\n",
              "      <td>0</td>\n",
              "      <td>0</td>\n",
              "      <td>0</td>\n",
              "      <td>0</td>\n",
              "      <td>0</td>\n",
              "      <td>0</td>\n",
              "      <td>0</td>\n",
              "      <td>0</td>\n",
              "      <td>0</td>\n",
              "      <td>0</td>\n",
              "      <td>0</td>\n",
              "      <td>1</td>\n",
              "      <td>0</td>\n",
              "      <td>0</td>\n",
              "    </tr>\n",
              "    <tr>\n",
              "      <th>NaN</th>\n",
              "      <td>1</td>\n",
              "      <td>1</td>\n",
              "      <td>0</td>\n",
              "      <td>0</td>\n",
              "      <td>0</td>\n",
              "      <td>0</td>\n",
              "      <td>0</td>\n",
              "      <td>0</td>\n",
              "      <td>0</td>\n",
              "      <td>0</td>\n",
              "      <td>0</td>\n",
              "      <td>0</td>\n",
              "      <td>0</td>\n",
              "      <td>0</td>\n",
              "      <td>0</td>\n",
              "      <td>0</td>\n",
              "      <td>0</td>\n",
              "      <td>1</td>\n",
              "      <td>0</td>\n",
              "      <td>0</td>\n",
              "      <td>0</td>\n",
              "      <td>0</td>\n",
              "      <td>0</td>\n",
              "    </tr>\n",
              "  </tbody>\n",
              "</table>\n",
              "</div>"
            ],
            "text/plain": [
              "                                           Action  Adventure  ...  War  Western\n",
              "movie_title                                                   ...              \n",
              "Avatar                                          1          1  ...    0        0\n",
              "Pirates of the Caribbean: At World's End        1          1  ...    0        0\n",
              "Spectre                                         1          1  ...    0        0\n",
              "The Dark Knight Rises                           1          0  ...    0        0\n",
              "NaN                                             1          1  ...    0        0\n",
              "\n",
              "[5 rows x 23 columns]"
            ]
          },
          "metadata": {
            "tags": []
          },
          "execution_count": 216
        }
      ]
    },
    {
      "cell_type": "code",
      "metadata": {
        "scrolled": false,
        "id": "65Sk8Xl4TEDk"
      },
      "source": [
        "# making a recommendation engine for getting similar genres\n",
        "\n",
        "def recommendation_genres(gen):\n",
        "    gen = genres[gen]\n",
        "    similar_genres = genres.corrwith(gen)\n",
        "    similar_genres = similar_genres.sort_values(ascending=False)\n",
        "    similar_genres = similar_genres.iloc[1:]\n",
        "    return similar_genres.head(3)"
      ],
      "execution_count": 217,
      "outputs": []
    },
    {
      "cell_type": "code",
      "metadata": {
        "scrolled": false,
        "colab": {
          "base_uri": "https://localhost:8080/"
        },
        "id": "RtCYyS32TEDl",
        "outputId": "508703d6-21dd-45d0-9807-5be3f7f22d5d"
      },
      "source": [
        "recommendation_genres('Action')"
      ],
      "execution_count": 218,
      "outputs": [
        {
          "output_type": "execute_result",
          "data": {
            "text/plain": [
              "Adventure    0.320532\n",
              "Thriller     0.303708\n",
              "Sci-Fi       0.295018\n",
              "dtype: float64"
            ]
          },
          "metadata": {
            "tags": []
          },
          "execution_count": 218
        }
      ]
    },
    {
      "cell_type": "code",
      "metadata": {
        "colab": {
          "base_uri": "https://localhost:8080/"
        },
        "id": "PdL3NKkMqq5M",
        "outputId": "96bc5666-0e7d-45cc-80ce-faaf2cd5a13f"
      },
      "source": [
        "recommendation_genres('Romance')"
      ],
      "execution_count": 219,
      "outputs": [
        {
          "output_type": "execute_result",
          "data": {
            "text/plain": [
              "Comedy     0.180202\n",
              "Drama      0.160206\n",
              "Musical    0.070945\n",
              "dtype: float64"
            ]
          },
          "metadata": {
            "tags": []
          },
          "execution_count": 219
        }
      ]
    },
    {
      "cell_type": "markdown",
      "metadata": {
        "id": "JlnNzhlATEDl"
      },
      "source": [
        "## Recommending similar movies"
      ]
    },
    {
      "cell_type": "code",
      "metadata": {
        "scrolled": false,
        "colab": {
          "base_uri": "https://localhost:8080/",
          "height": 355
        },
        "id": "zG0Jww-ETEDl",
        "outputId": "022a36a5-5e82-475e-f322-8b3ed2c2fbcd"
      },
      "source": [
        "x = genres.transpose()\n",
        "x.head()"
      ],
      "execution_count": 220,
      "outputs": [
        {
          "output_type": "execute_result",
          "data": {
            "text/html": [
              "<div>\n",
              "<style scoped>\n",
              "    .dataframe tbody tr th:only-of-type {\n",
              "        vertical-align: middle;\n",
              "    }\n",
              "\n",
              "    .dataframe tbody tr th {\n",
              "        vertical-align: top;\n",
              "    }\n",
              "\n",
              "    .dataframe thead th {\n",
              "        text-align: right;\n",
              "    }\n",
              "</style>\n",
              "<table border=\"1\" class=\"dataframe\">\n",
              "  <thead>\n",
              "    <tr style=\"text-align: right;\">\n",
              "      <th>movie_title</th>\n",
              "      <th>Avatar</th>\n",
              "      <th>Pirates of the Caribbean: At World's End</th>\n",
              "      <th>Spectre</th>\n",
              "      <th>The Dark Knight Rises</th>\n",
              "      <th>NaN</th>\n",
              "      <th>John Carter</th>\n",
              "      <th>Spider-Man 3</th>\n",
              "      <th>Tangled</th>\n",
              "      <th>Avengers: Age of Ultron</th>\n",
              "      <th>Harry Potter and the Half-Blood Prince</th>\n",
              "      <th>Batman v Superman: Dawn of Justice</th>\n",
              "      <th>Superman Returns</th>\n",
              "      <th>Quantum of Solace</th>\n",
              "      <th>Pirates of the Caribbean: Dead Man's Chest</th>\n",
              "      <th>The Lone Ranger</th>\n",
              "      <th>Man of Steel</th>\n",
              "      <th>The Chronicles of Narnia: Prince Caspian</th>\n",
              "      <th>The Avengers</th>\n",
              "      <th>Pirates of the Caribbean: On Stranger Tides</th>\n",
              "      <th>Men in Black 3</th>\n",
              "      <th>The Hobbit: The Battle of the Five Armies</th>\n",
              "      <th>The Amazing Spider-Man</th>\n",
              "      <th>Robin Hood</th>\n",
              "      <th>The Hobbit: The Desolation of Smaug</th>\n",
              "      <th>The Golden Compass</th>\n",
              "      <th>King Kong</th>\n",
              "      <th>Titanic</th>\n",
              "      <th>Captain America: Civil War</th>\n",
              "      <th>Battleship</th>\n",
              "      <th>Jurassic World</th>\n",
              "      <th>Skyfall</th>\n",
              "      <th>Spider-Man 2</th>\n",
              "      <th>Iron Man 3</th>\n",
              "      <th>Alice in Wonderland</th>\n",
              "      <th>X-Men: The Last Stand</th>\n",
              "      <th>Monsters University</th>\n",
              "      <th>Transformers: Revenge of the Fallen</th>\n",
              "      <th>Transformers: Age of Extinction</th>\n",
              "      <th>Oz the Great and Powerful</th>\n",
              "      <th>The Amazing Spider-Man 2</th>\n",
              "      <th>...</th>\n",
              "      <th>NaN</th>\n",
              "      <th>NaN</th>\n",
              "      <th>NaN</th>\n",
              "      <th>NaN</th>\n",
              "      <th>NaN</th>\n",
              "      <th>NaN</th>\n",
              "      <th>I Served the King of England</th>\n",
              "      <th>Soul Kitchen</th>\n",
              "      <th>Sling Blade</th>\n",
              "      <th>NaN</th>\n",
              "      <th>Hostel</th>\n",
              "      <th>Tristram Shandy: A Cock and Bull Story</th>\n",
              "      <th>Take Shelter</th>\n",
              "      <th>Lady in White</th>\n",
              "      <th>NaN</th>\n",
              "      <th>NaN</th>\n",
              "      <th>The Texas Chainsaw Massacre 2</th>\n",
              "      <th>NaN</th>\n",
              "      <th>Only God Forgives</th>\n",
              "      <th>NaN</th>\n",
              "      <th>NaN</th>\n",
              "      <th>NaN</th>\n",
              "      <th>NaN</th>\n",
              "      <th>NaN</th>\n",
              "      <th>The Names of Love</th>\n",
              "      <th>NaN</th>\n",
              "      <th>Savage Grace</th>\n",
              "      <th>NaN</th>\n",
              "      <th>Police Academy</th>\n",
              "      <th>NaN</th>\n",
              "      <th>Four Weddings and a Funeral</th>\n",
              "      <th>NaN</th>\n",
              "      <th>NaN</th>\n",
              "      <th>25th Hour</th>\n",
              "      <th>NaN</th>\n",
              "      <th>Bound</th>\n",
              "      <th>Requiem for a Dream</th>\n",
              "      <th>NaN</th>\n",
              "      <th>Tango</th>\n",
              "      <th>NaN</th>\n",
              "    </tr>\n",
              "  </thead>\n",
              "  <tbody>\n",
              "    <tr>\n",
              "      <th>Action</th>\n",
              "      <td>1</td>\n",
              "      <td>1</td>\n",
              "      <td>1</td>\n",
              "      <td>1</td>\n",
              "      <td>1</td>\n",
              "      <td>1</td>\n",
              "      <td>0</td>\n",
              "      <td>1</td>\n",
              "      <td>0</td>\n",
              "      <td>1</td>\n",
              "      <td>1</td>\n",
              "      <td>1</td>\n",
              "      <td>1</td>\n",
              "      <td>1</td>\n",
              "      <td>1</td>\n",
              "      <td>1</td>\n",
              "      <td>1</td>\n",
              "      <td>1</td>\n",
              "      <td>1</td>\n",
              "      <td>0</td>\n",
              "      <td>1</td>\n",
              "      <td>1</td>\n",
              "      <td>0</td>\n",
              "      <td>0</td>\n",
              "      <td>1</td>\n",
              "      <td>0</td>\n",
              "      <td>1</td>\n",
              "      <td>1</td>\n",
              "      <td>1</td>\n",
              "      <td>1</td>\n",
              "      <td>1</td>\n",
              "      <td>1</td>\n",
              "      <td>0</td>\n",
              "      <td>1</td>\n",
              "      <td>0</td>\n",
              "      <td>1</td>\n",
              "      <td>1</td>\n",
              "      <td>0</td>\n",
              "      <td>1</td>\n",
              "      <td>1</td>\n",
              "      <td>...</td>\n",
              "      <td>0</td>\n",
              "      <td>0</td>\n",
              "      <td>0</td>\n",
              "      <td>0</td>\n",
              "      <td>0</td>\n",
              "      <td>0</td>\n",
              "      <td>0</td>\n",
              "      <td>0</td>\n",
              "      <td>0</td>\n",
              "      <td>0</td>\n",
              "      <td>0</td>\n",
              "      <td>0</td>\n",
              "      <td>0</td>\n",
              "      <td>0</td>\n",
              "      <td>0</td>\n",
              "      <td>0</td>\n",
              "      <td>0</td>\n",
              "      <td>0</td>\n",
              "      <td>0</td>\n",
              "      <td>0</td>\n",
              "      <td>0</td>\n",
              "      <td>0</td>\n",
              "      <td>0</td>\n",
              "      <td>0</td>\n",
              "      <td>0</td>\n",
              "      <td>0</td>\n",
              "      <td>0</td>\n",
              "      <td>1</td>\n",
              "      <td>0</td>\n",
              "      <td>0</td>\n",
              "      <td>0</td>\n",
              "      <td>0</td>\n",
              "      <td>0</td>\n",
              "      <td>0</td>\n",
              "      <td>0</td>\n",
              "      <td>0</td>\n",
              "      <td>0</td>\n",
              "      <td>1</td>\n",
              "      <td>0</td>\n",
              "      <td>0</td>\n",
              "    </tr>\n",
              "    <tr>\n",
              "      <th>Adventure</th>\n",
              "      <td>1</td>\n",
              "      <td>1</td>\n",
              "      <td>1</td>\n",
              "      <td>0</td>\n",
              "      <td>1</td>\n",
              "      <td>1</td>\n",
              "      <td>1</td>\n",
              "      <td>1</td>\n",
              "      <td>1</td>\n",
              "      <td>1</td>\n",
              "      <td>1</td>\n",
              "      <td>1</td>\n",
              "      <td>1</td>\n",
              "      <td>1</td>\n",
              "      <td>1</td>\n",
              "      <td>1</td>\n",
              "      <td>1</td>\n",
              "      <td>1</td>\n",
              "      <td>1</td>\n",
              "      <td>1</td>\n",
              "      <td>1</td>\n",
              "      <td>1</td>\n",
              "      <td>1</td>\n",
              "      <td>1</td>\n",
              "      <td>1</td>\n",
              "      <td>0</td>\n",
              "      <td>1</td>\n",
              "      <td>1</td>\n",
              "      <td>1</td>\n",
              "      <td>1</td>\n",
              "      <td>1</td>\n",
              "      <td>1</td>\n",
              "      <td>1</td>\n",
              "      <td>1</td>\n",
              "      <td>1</td>\n",
              "      <td>1</td>\n",
              "      <td>1</td>\n",
              "      <td>1</td>\n",
              "      <td>1</td>\n",
              "      <td>1</td>\n",
              "      <td>...</td>\n",
              "      <td>0</td>\n",
              "      <td>0</td>\n",
              "      <td>0</td>\n",
              "      <td>1</td>\n",
              "      <td>0</td>\n",
              "      <td>0</td>\n",
              "      <td>0</td>\n",
              "      <td>0</td>\n",
              "      <td>0</td>\n",
              "      <td>0</td>\n",
              "      <td>0</td>\n",
              "      <td>0</td>\n",
              "      <td>0</td>\n",
              "      <td>0</td>\n",
              "      <td>0</td>\n",
              "      <td>0</td>\n",
              "      <td>0</td>\n",
              "      <td>0</td>\n",
              "      <td>0</td>\n",
              "      <td>0</td>\n",
              "      <td>0</td>\n",
              "      <td>0</td>\n",
              "      <td>0</td>\n",
              "      <td>0</td>\n",
              "      <td>0</td>\n",
              "      <td>0</td>\n",
              "      <td>0</td>\n",
              "      <td>0</td>\n",
              "      <td>0</td>\n",
              "      <td>0</td>\n",
              "      <td>0</td>\n",
              "      <td>0</td>\n",
              "      <td>0</td>\n",
              "      <td>0</td>\n",
              "      <td>0</td>\n",
              "      <td>0</td>\n",
              "      <td>0</td>\n",
              "      <td>0</td>\n",
              "      <td>0</td>\n",
              "      <td>0</td>\n",
              "    </tr>\n",
              "    <tr>\n",
              "      <th>Animation</th>\n",
              "      <td>0</td>\n",
              "      <td>0</td>\n",
              "      <td>0</td>\n",
              "      <td>0</td>\n",
              "      <td>0</td>\n",
              "      <td>0</td>\n",
              "      <td>1</td>\n",
              "      <td>0</td>\n",
              "      <td>0</td>\n",
              "      <td>0</td>\n",
              "      <td>0</td>\n",
              "      <td>0</td>\n",
              "      <td>0</td>\n",
              "      <td>0</td>\n",
              "      <td>0</td>\n",
              "      <td>0</td>\n",
              "      <td>0</td>\n",
              "      <td>0</td>\n",
              "      <td>0</td>\n",
              "      <td>0</td>\n",
              "      <td>0</td>\n",
              "      <td>0</td>\n",
              "      <td>0</td>\n",
              "      <td>0</td>\n",
              "      <td>0</td>\n",
              "      <td>0</td>\n",
              "      <td>0</td>\n",
              "      <td>0</td>\n",
              "      <td>0</td>\n",
              "      <td>0</td>\n",
              "      <td>0</td>\n",
              "      <td>0</td>\n",
              "      <td>0</td>\n",
              "      <td>0</td>\n",
              "      <td>1</td>\n",
              "      <td>0</td>\n",
              "      <td>0</td>\n",
              "      <td>0</td>\n",
              "      <td>0</td>\n",
              "      <td>0</td>\n",
              "      <td>...</td>\n",
              "      <td>0</td>\n",
              "      <td>0</td>\n",
              "      <td>0</td>\n",
              "      <td>0</td>\n",
              "      <td>0</td>\n",
              "      <td>0</td>\n",
              "      <td>0</td>\n",
              "      <td>0</td>\n",
              "      <td>0</td>\n",
              "      <td>0</td>\n",
              "      <td>0</td>\n",
              "      <td>0</td>\n",
              "      <td>0</td>\n",
              "      <td>0</td>\n",
              "      <td>0</td>\n",
              "      <td>0</td>\n",
              "      <td>0</td>\n",
              "      <td>0</td>\n",
              "      <td>0</td>\n",
              "      <td>0</td>\n",
              "      <td>0</td>\n",
              "      <td>0</td>\n",
              "      <td>0</td>\n",
              "      <td>0</td>\n",
              "      <td>0</td>\n",
              "      <td>0</td>\n",
              "      <td>0</td>\n",
              "      <td>0</td>\n",
              "      <td>0</td>\n",
              "      <td>0</td>\n",
              "      <td>0</td>\n",
              "      <td>0</td>\n",
              "      <td>0</td>\n",
              "      <td>0</td>\n",
              "      <td>0</td>\n",
              "      <td>0</td>\n",
              "      <td>0</td>\n",
              "      <td>0</td>\n",
              "      <td>0</td>\n",
              "      <td>0</td>\n",
              "    </tr>\n",
              "    <tr>\n",
              "      <th>Biography</th>\n",
              "      <td>0</td>\n",
              "      <td>0</td>\n",
              "      <td>0</td>\n",
              "      <td>0</td>\n",
              "      <td>0</td>\n",
              "      <td>0</td>\n",
              "      <td>0</td>\n",
              "      <td>0</td>\n",
              "      <td>0</td>\n",
              "      <td>0</td>\n",
              "      <td>0</td>\n",
              "      <td>0</td>\n",
              "      <td>0</td>\n",
              "      <td>0</td>\n",
              "      <td>0</td>\n",
              "      <td>0</td>\n",
              "      <td>0</td>\n",
              "      <td>0</td>\n",
              "      <td>0</td>\n",
              "      <td>0</td>\n",
              "      <td>0</td>\n",
              "      <td>0</td>\n",
              "      <td>0</td>\n",
              "      <td>0</td>\n",
              "      <td>0</td>\n",
              "      <td>0</td>\n",
              "      <td>0</td>\n",
              "      <td>0</td>\n",
              "      <td>0</td>\n",
              "      <td>0</td>\n",
              "      <td>0</td>\n",
              "      <td>0</td>\n",
              "      <td>0</td>\n",
              "      <td>0</td>\n",
              "      <td>0</td>\n",
              "      <td>0</td>\n",
              "      <td>0</td>\n",
              "      <td>0</td>\n",
              "      <td>0</td>\n",
              "      <td>0</td>\n",
              "      <td>...</td>\n",
              "      <td>0</td>\n",
              "      <td>0</td>\n",
              "      <td>0</td>\n",
              "      <td>0</td>\n",
              "      <td>0</td>\n",
              "      <td>0</td>\n",
              "      <td>0</td>\n",
              "      <td>0</td>\n",
              "      <td>0</td>\n",
              "      <td>0</td>\n",
              "      <td>0</td>\n",
              "      <td>0</td>\n",
              "      <td>0</td>\n",
              "      <td>0</td>\n",
              "      <td>0</td>\n",
              "      <td>1</td>\n",
              "      <td>0</td>\n",
              "      <td>0</td>\n",
              "      <td>0</td>\n",
              "      <td>0</td>\n",
              "      <td>0</td>\n",
              "      <td>0</td>\n",
              "      <td>0</td>\n",
              "      <td>0</td>\n",
              "      <td>0</td>\n",
              "      <td>0</td>\n",
              "      <td>0</td>\n",
              "      <td>0</td>\n",
              "      <td>0</td>\n",
              "      <td>0</td>\n",
              "      <td>0</td>\n",
              "      <td>0</td>\n",
              "      <td>0</td>\n",
              "      <td>0</td>\n",
              "      <td>0</td>\n",
              "      <td>0</td>\n",
              "      <td>0</td>\n",
              "      <td>0</td>\n",
              "      <td>0</td>\n",
              "      <td>0</td>\n",
              "    </tr>\n",
              "    <tr>\n",
              "      <th>Comedy</th>\n",
              "      <td>0</td>\n",
              "      <td>0</td>\n",
              "      <td>0</td>\n",
              "      <td>0</td>\n",
              "      <td>0</td>\n",
              "      <td>0</td>\n",
              "      <td>1</td>\n",
              "      <td>0</td>\n",
              "      <td>0</td>\n",
              "      <td>0</td>\n",
              "      <td>0</td>\n",
              "      <td>0</td>\n",
              "      <td>0</td>\n",
              "      <td>0</td>\n",
              "      <td>0</td>\n",
              "      <td>0</td>\n",
              "      <td>0</td>\n",
              "      <td>0</td>\n",
              "      <td>1</td>\n",
              "      <td>0</td>\n",
              "      <td>0</td>\n",
              "      <td>0</td>\n",
              "      <td>0</td>\n",
              "      <td>0</td>\n",
              "      <td>0</td>\n",
              "      <td>0</td>\n",
              "      <td>0</td>\n",
              "      <td>0</td>\n",
              "      <td>0</td>\n",
              "      <td>0</td>\n",
              "      <td>0</td>\n",
              "      <td>0</td>\n",
              "      <td>0</td>\n",
              "      <td>0</td>\n",
              "      <td>1</td>\n",
              "      <td>0</td>\n",
              "      <td>0</td>\n",
              "      <td>0</td>\n",
              "      <td>0</td>\n",
              "      <td>0</td>\n",
              "      <td>...</td>\n",
              "      <td>1</td>\n",
              "      <td>0</td>\n",
              "      <td>0</td>\n",
              "      <td>0</td>\n",
              "      <td>0</td>\n",
              "      <td>0</td>\n",
              "      <td>1</td>\n",
              "      <td>0</td>\n",
              "      <td>0</td>\n",
              "      <td>0</td>\n",
              "      <td>1</td>\n",
              "      <td>1</td>\n",
              "      <td>1</td>\n",
              "      <td>0</td>\n",
              "      <td>0</td>\n",
              "      <td>1</td>\n",
              "      <td>1</td>\n",
              "      <td>1</td>\n",
              "      <td>1</td>\n",
              "      <td>1</td>\n",
              "      <td>1</td>\n",
              "      <td>0</td>\n",
              "      <td>1</td>\n",
              "      <td>0</td>\n",
              "      <td>1</td>\n",
              "      <td>0</td>\n",
              "      <td>1</td>\n",
              "      <td>0</td>\n",
              "      <td>1</td>\n",
              "      <td>1</td>\n",
              "      <td>0</td>\n",
              "      <td>1</td>\n",
              "      <td>0</td>\n",
              "      <td>0</td>\n",
              "      <td>0</td>\n",
              "      <td>0</td>\n",
              "      <td>0</td>\n",
              "      <td>0</td>\n",
              "      <td>1</td>\n",
              "      <td>0</td>\n",
              "    </tr>\n",
              "  </tbody>\n",
              "</table>\n",
              "<p>5 rows × 3853 columns</p>\n",
              "</div>"
            ],
            "text/plain": [
              "movie_title  Avatar   Pirates of the Caribbean: At World's End   ...  Tango   NaN\n",
              "Action             1                                          1  ...       0    0\n",
              "Adventure          1                                          1  ...       0    0\n",
              "Animation          0                                          0  ...       0    0\n",
              "Biography          0                                          0  ...       0    0\n",
              "Comedy             0                                          0  ...       1    0\n",
              "\n",
              "[5 rows x 3853 columns]"
            ]
          },
          "metadata": {
            "tags": []
          },
          "execution_count": 220
        }
      ]
    },
    {
      "cell_type": "code",
      "metadata": {
        "scrolled": false,
        "id": "UjCbSNZ5TEDl"
      },
      "source": [
        "# making a recommendation engine for getting similar movies\n",
        "\n",
        "def recommendation_movie(movie):    \n",
        "    movie = x[movie+'\\xa0']\n",
        "    similar_movies = x.corrwith(movie)\n",
        "    similar_movies = similar_movies.sort_values(ascending=False)\n",
        "    similar_movies = similar_movies.iloc[1:]\n",
        "    return similar_movies.head(10)"
      ],
      "execution_count": 221,
      "outputs": []
    },
    {
      "cell_type": "code",
      "metadata": {
        "scrolled": false,
        "colab": {
          "base_uri": "https://localhost:8080/"
        },
        "id": "fiYGZunXTEDl",
        "outputId": "087c2352-c49f-4a0b-8f5d-620fb303a61f"
      },
      "source": [
        "recommendation_movie('The Avengers')"
      ],
      "execution_count": 222,
      "outputs": [
        {
          "output_type": "execute_result",
          "data": {
            "text/plain": [
              "movie_title\n",
              "Quantum of Solace                             1.0\n",
              "The Flowers of War                            1.0\n",
              "The Girl with the Dragon Tattoo               1.0\n",
              "Lost in Space                                 1.0\n",
              "Alvin and the Chipmunks: The Squeakquel       1.0\n",
              "R.I.P.D.                                      1.0\n",
              "Australia                                     1.0\n",
              "The Hobbit: The Battle of the Five Armies     1.0\n",
              "Edge of Darkness                              1.0\n",
              "American Sniper                               1.0\n",
              "dtype: float64"
            ]
          },
          "metadata": {
            "tags": []
          },
          "execution_count": 222
        }
      ]
    },
    {
      "cell_type": "code",
      "metadata": {
        "colab": {
          "base_uri": "https://localhost:8080/"
        },
        "id": "yYr_SwvUsiFl",
        "outputId": "fa8633ed-547e-41e0-d239-dc852ef5a62c"
      },
      "source": [
        "recommendation_movie('Avatar')"
      ],
      "execution_count": 223,
      "outputs": [
        {
          "output_type": "execute_result",
          "data": {
            "text/plain": [
              "movie_title\n",
              "Must Love Dogs                      1.0\n",
              "Kung Pow: Enter the Fist            1.0\n",
              "Center Stage                        1.0\n",
              "Charlie's Angels: Full Throttle     1.0\n",
              "Prometheus                          1.0\n",
              "The Chronicles of Riddick           1.0\n",
              "The Lone Ranger                     1.0\n",
              "Romeo Must Die                      1.0\n",
              "The Big Lebowski                    1.0\n",
              "Daylight                            1.0\n",
              "dtype: float64"
            ]
          },
          "metadata": {
            "tags": []
          },
          "execution_count": 223
        }
      ]
    }
  ]
}